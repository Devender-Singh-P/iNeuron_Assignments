{
 "cells": [
  {
   "cell_type": "markdown",
   "id": "e9adf970",
   "metadata": {},
   "source": [
    "Q-15. Write an SQL query to fetch intersecting records of two tables.\n"
   ]
  },
  {
   "cell_type": "code",
   "execution_count": null,
   "id": "ece7312c",
   "metadata": {
    "vscode": {
     "languageId": "sql"
    }
   },
   "outputs": [],
   "source": [
    "SELECT  FROM table_1 \n",
    "INTERSECT \n",
    "SELECT  FROM table_2;"
   ]
  },
  {
   "cell_type": "markdown",
   "id": "0128db70",
   "metadata": {},
   "source": [
    "Q-16. Write an SQL query to show records from one table that another table does not have."
   ]
  },
  {
   "cell_type": "code",
   "execution_count": null,
   "id": "522af52e",
   "metadata": {
    "vscode": {
     "languageId": "sql"
    }
   },
   "outputs": [],
   "source": [
    "SELECT * \n",
    "FROM table_1 \n",
    "EXCEPT SELECT * FROM table_2;"
   ]
  }
 ],
 "metadata": {
  "language_info": {
   "name": "python"
  }
 },
 "nbformat": 4,
 "nbformat_minor": 5
}

{
 "cells": [
  {
   "cell_type": "markdown",
   "id": "1abe78c4-fe41-44c1-b485-e6d6041b0b17",
   "metadata": {},
   "source": [
    "Q-1. Write an SQL query to print the FIRST_NAME from Worker table after removing white spaces from the right side."
   ]
  },
  {
   "cell_type": "code",
   "execution_count": null,
   "id": "c78c9eac-87c2-4635-a53b-f4b18751e66d",
   "metadata": {
    "vscode": {
     "languageId": "sql"
    }
   },
   "outputs": [],
   "source": [
    "SELECT \n",
    "    RTRIM(FIRST_NAME) \n",
    "FROM \n",
    "    Worker;"
   ]
  },
  {
   "cell_type": "markdown",
   "id": "28cdb5ed-7bb2-4cb7-b6db-1b54bf5859ec",
   "metadata": {},
   "source": [
    "Q-2. Write an SQL query that fetches the unique values of DEPARTMENT from Worker table and prints its length."
   ]
  },
  {
   "cell_type": "code",
   "execution_count": null,
   "id": "c1ea56b2-212c-4fe6-9db7-b28cd80e1b03",
   "metadata": {
    "vscode": {
     "languageId": "sql"
    }
   },
   "outputs": [],
   "source": [
    "SELECT \n",
    "    DISTINCT(DEPARTMENT),LEN(DEPARTMENT) \n",
    "FROM \n",
    "    Worker;"
   ]
  },
  {
   "cell_type": "markdown",
   "id": "2bbfb425-e843-4000-a648-5db487a5877d",
   "metadata": {},
   "source": [
    "Q-3. Write an SQL query to fetch nth max salaries from a table."
   ]
  },
  {
   "cell_type": "code",
   "execution_count": null,
   "id": "f6f7b894-b4d6-4a08-88e7-5baf741b4e4c",
   "metadata": {
    "vscode": {
     "languageId": "sql"
    }
   },
   "outputs": [],
   "source": [
    "SELECT \n",
    "    DISTINCT(Salary) \n",
    "FROM \n",
    "    Worker \n",
    "ORDER BY \n",
    "    Salary DESC LIMIT 1 OFFSET n;"
   ]
  }
 ],
 "metadata": {
  "kernelspec": {
   "display_name": "",
   "name": ""
  },
  "language_info": {
   "name": ""
  }
 },
 "nbformat": 4,
 "nbformat_minor": 5
}

{
 "cells": [
  {
   "cell_type": "markdown",
   "id": "8aa0557c",
   "metadata": {},
   "source": [
    "Q-1. Write an SQL query to print details of the Workers who have joined in Feb’2014."
   ]
  },
  {
   "cell_type": "code",
   "execution_count": null,
   "id": "f39c654f",
   "metadata": {
    "vscode": {
     "languageId": "sql"
    }
   },
   "outputs": [],
   "source": [
    "SELECT * \n",
    "FROM Worker \n",
    "WHERE YEAR(JOINING_DATE) = 2014 AND MONTH(JOINING_DATE) = 02;"
   ]
  },
  {
   "cell_type": "markdown",
   "id": "8f261320",
   "metadata": {},
   "source": [
    "Q-2. Write an SQL query to fetch duplicate records having matching data in some fields of a table."
   ]
  },
  {
   "cell_type": "code",
   "execution_count": null,
   "id": "16c8b568",
   "metadata": {
    "vscode": {
     "languageId": "sql"
    }
   },
   "outputs": [],
   "source": [
    "SELECT column_name, COUNT(column_name) \n",
    "FROM Worker \n",
    "GROUP BY FEILD HAVING COUNT(column_name) > 1;"
   ]
  },
  {
   "cell_type": "markdown",
   "id": "c7530225",
   "metadata": {},
   "source": [
    "Q-3. How to remove duplicate rows from Employees table."
   ]
  },
  {
   "cell_type": "code",
   "execution_count": null,
   "id": "09ca53fd",
   "metadata": {
    "vscode": {
     "languageId": "sql"
    }
   },
   "outputs": [],
   "source": [
    "delete x\n",
    "from ( select *, rn=row_number() \n",
    "                over (partition by EmployeeName order by empId) \n",
    "                from Employee ) x \n",
    "where rn > 1;\n"
   ]
  }
 ],
 "metadata": {
  "kernelspec": {
   "display_name": "Python 3.9.13 ('base')",
   "language": "python",
   "name": "python3"
  },
  "language_info": {
   "name": "python",
   "version": "3.9.13"
  },
  "vscode": {
   "interpreter": {
    "hash": "79ba3f85e8de62964a0bf15ddb669408e8c138bdf60df0d07da171bdb56ab7ca"
   }
  }
 },
 "nbformat": 4,
 "nbformat_minor": 5
}

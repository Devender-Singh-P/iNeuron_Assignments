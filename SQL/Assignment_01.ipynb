{
 "cells": [
  {
   "cell_type": "markdown",
   "id": "f2c15827-b9e2-405d-839c-fb0acfaf93f0",
   "metadata": {},
   "source": [
    "Q-1. Write an SQL query to fetch “FIRST_NAME” from Worker table using the alias name as WORKER_NAME"
   ]
  },
  {
   "cell_type": "code",
   "execution_count": null,
   "id": "8f5e29ba-43d7-4f80-813a-1ddaa8eaf585",
   "metadata": {
    "vscode": {
     "languageId": "sql"
    }
   },
   "outputs": [],
   "source": [
    "SELECT \n",
    "    FIRST_NAME AS WORKER_NAME \n",
    "FROM \n",
    "    WORKER;"
   ]
  },
  {
   "cell_type": "markdown",
   "id": "fb49237b-27c1-4d57-8b5e-d46f6d42f727",
   "metadata": {},
   "source": [
    "Q-2. Write an SQL query to fetch unique values of DEPARTMENT from Worker table."
   ]
  },
  {
   "cell_type": "code",
   "execution_count": null,
   "id": "bf7a2d83-b7d7-4510-a3b4-c749a5405c7d",
   "metadata": {
    "vscode": {
     "languageId": "sql"
    }
   },
   "outputs": [],
   "source": [
    "SELECT \n",
    "    DISTINCT DEPARTMENT \n",
    "FROM \n",
    "    Worker;"
   ]
  },
  {
   "cell_type": "markdown",
   "id": "1772134c-f575-400b-bf2e-a0523eca869e",
   "metadata": {},
   "source": [
    "Q-3. Write an SQL query to show the last 5 record from a table."
   ]
  },
  {
   "cell_type": "code",
   "execution_count": null,
   "id": "5a14077a-cdb4-4e82-a87c-94573f9b6f90",
   "metadata": {
    "vscode": {
     "languageId": "sql"
    }
   },
   "outputs": [],
   "source": [
    "SELECT \n",
    "    * \n",
    "FROM \n",
    "    Worker\n",
    "OREDR BY \n",
    "    id DESC LIMIT 5;"
   ]
  }
 ],
 "metadata": {
  "kernelspec": {
   "display_name": "Python 3.9.13 ('base')",
   "language": "python",
   "name": "python3"
  },
  "language_info": {
   "name": "python",
   "version": "3.9.13"
  },
  "vscode": {
   "interpreter": {
    "hash": "79ba3f85e8de62964a0bf15ddb669408e8c138bdf60df0d07da171bdb56ab7ca"
   }
  }
 },
 "nbformat": 4,
 "nbformat_minor": 5
}

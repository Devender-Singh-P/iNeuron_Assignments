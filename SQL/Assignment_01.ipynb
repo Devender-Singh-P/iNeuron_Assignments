{
 "cells": [
  {
   "cell_type": "markdown",
   "id": "f2c15827-b9e2-405d-839c-fb0acfaf93f0",
   "metadata": {},
   "source": [
    "Q-1. Write an SQL query to fetch “FIRST_NAME” from Worker table using the alias name as WORKER_NAME"
   ]
  },
  {
   "cell_type": "raw",
   "id": "8f5e29ba-43d7-4f80-813a-1ddaa8eaf585",
   "metadata": {},
   "source": [
    "SELECT \n",
    "    FIRST_NAME AS WORKER_NAME \n",
    "FROM \n",
    "    WORKER;"
   ]
  },
  {
   "cell_type": "markdown",
   "id": "fb49237b-27c1-4d57-8b5e-d46f6d42f727",
   "metadata": {},
   "source": [
    "Q-2. Write an SQL query to fetch unique values of DEPARTMENT from Worker table."
   ]
  },
  {
   "cell_type": "raw",
   "id": "bf7a2d83-b7d7-4510-a3b4-c749a5405c7d",
   "metadata": {},
   "source": [
    "SELECT \n",
    "    DISTINCT DEPARTMENT \n",
    "FROM \n",
    "    Worker;"
   ]
  },
  {
   "cell_type": "markdown",
   "id": "1772134c-f575-400b-bf2e-a0523eca869e",
   "metadata": {},
   "source": [
    "Q-3. Write an SQL query to show the last 5 record from a table."
   ]
  },
  {
   "cell_type": "raw",
   "id": "5a14077a-cdb4-4e82-a87c-94573f9b6f90",
   "metadata": {},
   "source": [
    "SELECT \n",
    "    * \n",
    "FROM \n",
    "    Worker\n",
    "OREDR BY \n",
    "    id DESC LIMIT 5;"
   ]
  }
 ],
 "metadata": {
  "kernelspec": {
   "display_name": "",
   "name": ""
  },
  "language_info": {
   "name": ""
  }
 },
 "nbformat": 4,
 "nbformat_minor": 5
}

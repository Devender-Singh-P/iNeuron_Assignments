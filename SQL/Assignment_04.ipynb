{
 "cells": [
  {
   "cell_type": "markdown",
   "id": "e7d7b952",
   "metadata": {},
   "source": [
    "Q-1. Write an SQL query to print the FIRST_NAME from Worker table after replacing ‘a’ with ‘A’."
   ]
  },
  {
   "cell_type": "code",
   "execution_count": null,
   "id": "a5a537e0",
   "metadata": {
    "vscode": {
     "languageId": "sql"
    }
   },
   "outputs": [],
   "source": [
    "SELECT \n",
    "    REPLACE(FIRST_NAME,'a','A') \n",
    "FROM \n",
    "    Wokrer;"
   ]
  },
  {
   "cell_type": "markdown",
   "id": "ff234fef",
   "metadata": {},
   "source": [
    "Q-2. Write an SQL query to print all Worker details from the Worker table order by FIRST_NAME Ascending and DEPARTMENT Descending."
   ]
  },
  {
   "cell_type": "code",
   "execution_count": null,
   "id": "7be7a055",
   "metadata": {
    "vscode": {
     "languageId": "sql"
    }
   },
   "outputs": [],
   "source": [
    "SELECT * \n",
    "FROM Worker \n",
    "ORDER BY FIRST_NAME ASC, LAST_NAME DESC;"
   ]
  },
  {
   "cell_type": "markdown",
   "id": "895fc01a",
   "metadata": {},
   "source": [
    "Q-3. Write an SQL query to fetch the names of workers who earn the highest salary."
   ]
  },
  {
   "cell_type": "code",
   "execution_count": null,
   "id": "e2306168",
   "metadata": {
    "vscode": {
     "languageId": "sql"
    }
   },
   "outputs": [],
   "source": [
    "SELECT FIRST_NAME, LAST_NAME \n",
    "FROM Worker \n",
    "WHERE SALARY = (SELECT MAX(SALARY) \n",
    "FROM Worker);"
   ]
  }
 ],
 "metadata": {
  "kernelspec": {
   "display_name": "Python 3.10.6 64-bit",
   "language": "python",
   "name": "python3"
  },
  "language_info": {
   "name": "python",
   "version": "3.10.6"
  },
  "vscode": {
   "interpreter": {
    "hash": "916dbcbb3f70747c44a77c7bcd40155683ae19c65e1c03b4aa3499c5328201f1"
   }
  }
 },
 "nbformat": 4,
 "nbformat_minor": 5
}

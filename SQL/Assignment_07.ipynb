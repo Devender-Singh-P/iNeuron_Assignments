{
 "cells": [
  {
   "cell_type": "markdown",
   "id": "16167863",
   "metadata": {},
   "source": [
    "Q-13. Write an SQL query to show only odd rows from a table."
   ]
  },
  {
   "cell_type": "code",
   "execution_count": null,
   "id": "4c2bb80c",
   "metadata": {
    "vscode": {
     "languageId": "sql"
    }
   },
   "outputs": [],
   "source": [
    "SELECT * \n",
    "FROM Worker \n",
    "WHERE MOD(worker_id,2) = 1"
   ]
  },
  {
   "cell_type": "markdown",
   "id": "dc9e7b49",
   "metadata": {},
   "source": [
    "Q-14. Write an SQL query to clone a new table from another table."
   ]
  },
  {
   "cell_type": "code",
   "execution_count": null,
   "id": "c5536721",
   "metadata": {
    "vscode": {
     "languageId": "sql"
    }
   },
   "outputs": [],
   "source": [
    "CREATE TABLE CloneWorker (\n",
    "    WORKER_ID INT NOT NULL AUTO INCREMENT PRIMARY KEY,\n",
    "    FIRST_NAME VARCHAR(50),\n",
    "    LAST_NAME VARCHAR(50),\n",
    "    SALARY INT,\n",
    "    DEPARTMENT VARCHAR(50),\n",
    "    JOINING_DATE DATETIME\n",
    ");\n",
    "INSERT INTO CloneWorker SELECT * FROM Worker;"
   ]
  }
 ],
 "metadata": {
  "language_info": {
   "name": "python"
  }
 },
 "nbformat": 4,
 "nbformat_minor": 5
}

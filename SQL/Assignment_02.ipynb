{
 "cells": [
  {
   "cell_type": "markdown",
   "id": "372f35b6-cd7e-4642-adbe-6102400e7245",
   "metadata": {},
   "source": [
    "Q-1. Write an SQL query to print the first three characters of  FIRST_NAME from Worker table."
   ]
  },
  {
   "cell_type": "code",
   "execution_count": null,
   "id": "2eaabf6a-284d-468b-9459-da23014674e2",
   "metadata": {
    "vscode": {
     "languageId": "sql"
    }
   },
   "outputs": [],
   "source": [
    "SELECT\n",
    "    SUBSTRING (FIRST_NAME, 1, 3)\n",
    "FROM\n",
    "    Worker;"
   ]
  },
  {
   "cell_type": "markdown",
   "id": "8d49d2f4-b39d-47b7-b15b-92185a8306d6",
   "metadata": {},
   "source": [
    " Q-2. Write an SQL query to find the position of the alphabet (‘a’) in the first name column ‘Amitabh’ from Worker table."
   ]
  },
  {
   "cell_type": "code",
   "execution_count": null,
   "id": "06a84078-5fca-4fbb-aca8-4ec7e771d540",
   "metadata": {
    "vscode": {
     "languageId": "sql"
    }
   },
   "outputs": [],
   "source": [
    "SELECT\n",
    "    POSITION ('a' IN FIRST_NAME)\n",
    "FROM\n",
    "    Worker\n",
    "WHERE\n",
    "    FIRST_NAME = 'Amitabh';"
   ]
  },
  {
   "cell_type": "markdown",
   "id": "063ccb14-b79c-4eb4-b636-b43f27d6445e",
   "metadata": {},
   "source": [
    "Q-3. Write an SQL query to print the name of employees having the highest salary in each department."
   ]
  },
  {
   "cell_type": "code",
   "execution_count": null,
   "id": "49c9f6a1-83b5-447a-b7b9-0b37fb6eb7b1",
   "metadata": {
    "vscode": {
     "languageId": "sql"
    }
   },
   "outputs": [],
   "source": [
    "SELECT \n",
    "    first_name, last_name, MAX(salary), department \n",
    "FROM \n",
    "    Worker\n",
    "GROUP BY\n",
    "    DEPARTMENNT;"
   ]
  }
 ],
 "metadata": {
  "kernelspec": {
   "display_name": "",
   "name": ""
  },
  "language_info": {
   "name": ""
  }
 },
 "nbformat": 4,
 "nbformat_minor": 5
}

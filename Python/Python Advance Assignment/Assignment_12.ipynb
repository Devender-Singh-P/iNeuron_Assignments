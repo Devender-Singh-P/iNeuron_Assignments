{
 "cells": [
  {
   "cell_type": "markdown",
   "id": "08203dba",
   "metadata": {},
   "source": [
    "**1. Does assigning a value to a string's indexed character violate Python's string immutability ?**"
   ]
  },
  {
   "cell_type": "markdown",
   "id": "096440ca",
   "metadata": {},
   "source": [
    "String’s indexed character cannot to be assigned a New value , as strings are *immutable.*  \n",
    "`Example: `  \n",
    "`task = \"Processing\"`  \n",
    "`print(id(task))      # 2385761689264 `  \n",
    "`task[0] = \"V\"        # Will give TypeError`  "
   ]
  },
  {
   "cell_type": "code",
   "execution_count": 5,
   "id": "3cdd469d",
   "metadata": {},
   "outputs": [
    {
     "name": "stdout",
     "output_type": "stream",
     "text": [
      "2385761689264\n"
     ]
    },
    {
     "ename": "TypeError",
     "evalue": "'str' object does not support item assignment",
     "output_type": "error",
     "traceback": [
      "\u001b[1;31m---------------------------------------------------------------------------\u001b[0m",
      "\u001b[1;31mTypeError\u001b[0m                                 Traceback (most recent call last)",
      "\u001b[1;32m<ipython-input-5-ee8065d8cbc6>\u001b[0m in \u001b[0;36m<module>\u001b[1;34m\u001b[0m\n\u001b[0;32m      1\u001b[0m \u001b[0mtask\u001b[0m \u001b[1;33m=\u001b[0m \u001b[1;34m\"Processing\"\u001b[0m\u001b[1;33m\u001b[0m\u001b[1;33m\u001b[0m\u001b[0m\n\u001b[0;32m      2\u001b[0m \u001b[0mprint\u001b[0m\u001b[1;33m(\u001b[0m\u001b[0mid\u001b[0m\u001b[1;33m(\u001b[0m\u001b[0mtask\u001b[0m\u001b[1;33m)\u001b[0m\u001b[1;33m)\u001b[0m\u001b[1;33m\u001b[0m\u001b[1;33m\u001b[0m\u001b[0m\n\u001b[1;32m----> 3\u001b[1;33m \u001b[0mtask\u001b[0m\u001b[1;33m[\u001b[0m\u001b[1;36m0\u001b[0m\u001b[1;33m]\u001b[0m \u001b[1;33m=\u001b[0m \u001b[1;34m\"V\"\u001b[0m\u001b[1;33m\u001b[0m\u001b[1;33m\u001b[0m\u001b[0m\n\u001b[0m",
      "\u001b[1;31mTypeError\u001b[0m: 'str' object does not support item assignment"
     ]
    }
   ],
   "source": [
    "task = \"Processing\"\n",
    "print(id(task))\n",
    "task[0] = \"V\""
   ]
  },
  {
   "cell_type": "markdown",
   "id": "5f2bbf8f",
   "metadata": {},
   "source": [
    "**2. Does using the += operator to concatenate strings violate Python's string immutability? Why or why not ?**"
   ]
  },
  {
   "cell_type": "markdown",
   "id": "b16a1f3f",
   "metadata": {},
   "source": [
    "*`+=`* operator is used to concatenate strings, it does not violate Python’s string immutability property. Doing so creates a new association with data and variable.  \n",
    "E.g. `str_1=\"abc\"` and `str_1+=\"xyz`,  effect of these statements to create string `abcxyz` and reassign it to variable `str_1`, any string data is not actually modified. "
   ]
  },
  {
   "cell_type": "code",
   "execution_count": 6,
   "id": "85e75136",
   "metadata": {},
   "outputs": [
    {
     "name": "stdout",
     "output_type": "stream",
     "text": [
      "2385703330864\n",
      "2385776907376\n"
     ]
    }
   ],
   "source": [
    "str_1 = 'abc'\n",
    "print(id(str_1))\n",
    "str_1 += 'xyz'\n",
    "print(id(str_1)) # Does not Modify existing string, Creates a New String Object"
   ]
  },
  {
   "cell_type": "markdown",
   "id": "3ffd40ae",
   "metadata": {},
   "source": [
    "**3. In Python, how many different ways are there to index a character ?**"
   ]
  },
  {
   "cell_type": "markdown",
   "id": "76ec588b",
   "metadata": {},
   "source": [
    "A Character in string can be indexed using string name followed by index number of character in square bracket. *Positive Indexing* i.e. first index is 0 an so on, or *Negative Indexing* i.e. last letter is -1 and so on can be used to index a character."
   ]
  },
  {
   "cell_type": "code",
   "execution_count": 10,
   "id": "8b363c3b",
   "metadata": {},
   "outputs": [
    {
     "name": "stdout",
     "output_type": "stream",
     "text": [
      "a n i\n",
      "v   l\n"
     ]
    }
   ],
   "source": [
    "in_str = \"Artificial Intelligence is improving lives\"\n",
    "print(in_str[8], in_str[20], in_str[27])     # Positive Indexing\n",
    "print(in_str[-3], in_str[-6], in_str[-5])    # Negative Indexing"
   ]
  },
  {
   "cell_type": "markdown",
   "id": "be6b245f",
   "metadata": {},
   "source": [
    "**4. What is the relationship between indexing and slicing ?**"
   ]
  },
  {
   "cell_type": "markdown",
   "id": "c3b59e35",
   "metadata": {},
   "source": [
    "We can access elements of sequence datatypes by using slicing and indexing.  \n",
    "Indexing is used to obtaining individual element while slicing for sequence of elements."
   ]
  },
  {
   "cell_type": "code",
   "execution_count": 11,
   "id": "1da25970",
   "metadata": {},
   "outputs": [
    {
     "name": "stdout",
     "output_type": "stream",
     "text": [
      "f c n\n",
      "ficial Inte\n"
     ]
    }
   ],
   "source": [
    "in_string = \"Artificial Intelligence is improving lives\"\n",
    "print(in_string[4],in_string[6],in_string[12]) # Indexing\n",
    "print(in_string[4:15])                        # Slicing"
   ]
  },
  {
   "cell_type": "markdown",
   "id": "58314b84",
   "metadata": {},
   "source": [
    "**5. What is an indexed character's exact data type? What is the data form of a slicing-generated substring?**"
   ]
  },
  {
   "cell_type": "markdown",
   "id": "a942747b",
   "metadata": {},
   "source": [
    "Indexed characters and sliced substrings have datatype *String*. "
   ]
  },
  {
   "cell_type": "code",
   "execution_count": 12,
   "id": "20fe9f03",
   "metadata": {},
   "outputs": [
    {
     "name": "stdout",
     "output_type": "stream",
     "text": [
      "<class 'str'>\n",
      "<class 'str'>\n"
     ]
    }
   ],
   "source": [
    "in_string = \"Artificial Intelligence is improving lives\"\n",
    "print(type(in_string[8]))          # Indexing -> str\n",
    "print(type(in_string[5:20]))       # Indexing -> str"
   ]
  },
  {
   "cell_type": "markdown",
   "id": "01a42e5b",
   "metadata": {},
   "source": [
    "**6. What is the relationship between string and character \"types\" in Python ?**"
   ]
  },
  {
   "cell_type": "markdown",
   "id": "2b61703e",
   "metadata": {},
   "source": [
    "Object that contains sequence of character datatypes are called String."
   ]
  },
  {
   "cell_type": "markdown",
   "id": "90eb84af",
   "metadata": {},
   "source": [
    "**7. Identify at least two operators & one method that allow you to combine one or more smaller strings to create a larger string ?**"
   ]
  },
  {
   "cell_type": "markdown",
   "id": "7c5362fc",
   "metadata": {},
   "source": [
    "*`+`* , *`+=`* and *`*`* allow to combine one or more smaller strings to create a larger string. *`<string>.join(<sep>)`* method joins element of iterable type like list and tuple to get a combined string. "
   ]
  },
  {
   "cell_type": "code",
   "execution_count": 14,
   "id": "064b196f",
   "metadata": {},
   "outputs": [
    {
     "name": "stdout",
     "output_type": "stream",
     "text": [
      "Artificial  Intelligence is improving lives lives \n",
      "lives lives lives \n",
      "A R T\n",
      "a r t\n"
     ]
    }
   ],
   "source": [
    "in_string = 'Artificial  '\n",
    "in_string += 'Intelligence is improving lives'\n",
    "print(in_string + ' lives ')\n",
    "print('lives '*3)\n",
    "print(\" \".join(['A','R','T']))         # List Iterable\n",
    "print(\" \".join(('a','r','t')).lower()) # Tuple Iterable"
   ]
  },
  {
   "cell_type": "markdown",
   "id": "87d5ede0",
   "metadata": {},
   "source": [
    "**8. What is the benefit of first checking the target string with `in` or `not in` before using the index method to find a substring ?**"
   ]
  },
  {
   "cell_type": "markdown",
   "id": "f0e842af",
   "metadata": {},
   "source": [
    "Checking the target string with *`in`* or *`not`* operators before using the index method to find a  substring just helps confirming availability of substring and thus avoid raising of *`ValueError`* .\n",
    "\n",
    "*`Example:`*    \n",
    "`in_string = \"Artificial\"`  \n",
    "`in_string.index('m')      # Gives ValueError`  \n",
    "`in_string.index('c')      # 6`  "
   ]
  },
  {
   "cell_type": "code",
   "execution_count": 16,
   "id": "77f73c66",
   "metadata": {},
   "outputs": [
    {
     "ename": "ValueError",
     "evalue": "substring not found",
     "output_type": "error",
     "traceback": [
      "\u001b[1;31m---------------------------------------------------------------------------\u001b[0m",
      "\u001b[1;31mValueError\u001b[0m                                Traceback (most recent call last)",
      "\u001b[1;32m<ipython-input-16-77423ed9a088>\u001b[0m in \u001b[0;36m<module>\u001b[1;34m\u001b[0m\n\u001b[0;32m      1\u001b[0m \u001b[0min_string\u001b[0m \u001b[1;33m=\u001b[0m \u001b[1;34m\"Artificial\"\u001b[0m\u001b[1;33m\u001b[0m\u001b[1;33m\u001b[0m\u001b[0m\n\u001b[1;32m----> 2\u001b[1;33m \u001b[0min_string\u001b[0m\u001b[1;33m.\u001b[0m\u001b[0mindex\u001b[0m\u001b[1;33m(\u001b[0m\u001b[1;34m'm'\u001b[0m\u001b[1;33m)\u001b[0m      \u001b[1;31m# Gives ValueError\u001b[0m\u001b[1;33m\u001b[0m\u001b[1;33m\u001b[0m\u001b[0m\n\u001b[0m\u001b[0;32m      3\u001b[0m \u001b[0min_string\u001b[0m\u001b[1;33m.\u001b[0m\u001b[0mindex\u001b[0m\u001b[1;33m(\u001b[0m\u001b[1;34m'c'\u001b[0m\u001b[1;33m)\u001b[0m      \u001b[1;31m# 6\u001b[0m\u001b[1;33m\u001b[0m\u001b[1;33m\u001b[0m\u001b[0m\n",
      "\u001b[1;31mValueError\u001b[0m: substring not found"
     ]
    }
   ],
   "source": [
    "in_string = \"Artificial\"  \n",
    "in_string.index('m')      # Gives ValueError  "
   ]
  },
  {
   "cell_type": "code",
   "execution_count": 17,
   "id": "b6a799a8",
   "metadata": {},
   "outputs": [
    {
     "data": {
      "text/plain": [
       "6"
      ]
     },
     "execution_count": 17,
     "metadata": {},
     "output_type": "execute_result"
    }
   ],
   "source": [
    "in_string.index('c')      # 6"
   ]
  },
  {
   "cell_type": "markdown",
   "id": "aaf7229e",
   "metadata": {},
   "source": [
    "**9. Which operators and built-in string methods produce simple Boolean (true/false) results ?**"
   ]
  },
  {
   "cell_type": "markdown",
   "id": "86b6bc76",
   "metadata": {},
   "source": [
    "The String Operators and built-in methods to Produce Simple Boolean (True/False) Results are:\n",
    "- **`in`**\n",
    "- **`not`**\n",
    "- **`<string>.isalpha()`**\n",
    "- **`<string>.isalnum()`**\n",
    "- **`<string>.isdecimal()`**\n",
    "- **`<string>.isdigit()`**\n",
    "- **`<string>.islower()`**\n",
    "- **`<string>.isnumeric()`**\n",
    "- **`<string>.isprintable()`**\n",
    "- **`<string>.isspace()`**\n",
    "- **`<string>.istitle()`**"
   ]
  }
 ],
 "metadata": {
  "kernelspec": {
   "display_name": "Python 3",
   "language": "python",
   "name": "python3"
  },
  "language_info": {
   "codemirror_mode": {
    "name": "ipython",
    "version": 3
   },
   "file_extension": ".py",
   "mimetype": "text/x-python",
   "name": "python",
   "nbconvert_exporter": "python",
   "pygments_lexer": "ipython3",
   "version": "3.8.8"
  }
 },
 "nbformat": 4,
 "nbformat_minor": 5
}

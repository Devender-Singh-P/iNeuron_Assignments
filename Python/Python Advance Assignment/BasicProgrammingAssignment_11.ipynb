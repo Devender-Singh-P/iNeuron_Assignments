{
 "cells": [
  {
   "cell_type": "markdown",
   "id": "7b963f4b",
   "metadata": {},
   "source": [
    "**1. Write a Python program to find words which are greater than given length k ?**"
   ]
  },
  {
   "cell_type": "code",
   "execution_count": 2,
   "id": "d3ec10f6",
   "metadata": {},
   "outputs": [
    {
     "name": "stdout",
     "output_type": "stream",
     "text": [
      "Enter any string : May the New Year be good for all\n",
      "Enter the length of the string : 12\n",
      "\n",
      "Enter any string : May the New Year be good for all\n",
      "Enter the length of the string : 3\n",
      "Year,good\n"
     ]
    }
   ],
   "source": [
    "def checkLengthOfString():\n",
    "    in_string = input(\"Enter any string : \")\n",
    "    in_length = int(input('Enter the length of the string : '))\n",
    "    out_string = []\n",
    "    for string in in_string.split(\" \"):\n",
    "        if len(string) > in_length:\n",
    "            out_string.append(string)\n",
    "    print(','.join(out_string))\n",
    "\n",
    "checkLengthOfString()\n",
    "checkLengthOfString()"
   ]
  },
  {
   "cell_type": "markdown",
   "id": "c92f3cac",
   "metadata": {},
   "source": [
    "**2. Write a Python program for removing i-th character from a string ?**"
   ]
  },
  {
   "cell_type": "code",
   "execution_count": 4,
   "id": "f7fccd01",
   "metadata": {},
   "outputs": [
    {
     "name": "stdout",
     "output_type": "stream",
     "text": [
      "Enter any String: May the New Year be good for all\n",
      "Enter the 'i'th Character to be removed : 6\n",
      "May th New Year be good for all\n"
     ]
    }
   ],
   "source": [
    "def removeCharacter():\n",
    "    in_string = input(\"Enter any String: \")\n",
    "    in_char_num = int(input(\"Enter the 'i'th Character to be removed : \"))\n",
    "    out_string = ''\n",
    "    for ele in range(len(in_string)):\n",
    "        if ele != in_char_num:\n",
    "            out_string = out_string + in_string[ele]\n",
    "    print(out_string)\n",
    "    \n",
    "removeCharacter()"
   ]
  },
  {
   "cell_type": "markdown",
   "id": "bd0b67bd",
   "metadata": {},
   "source": [
    "**3. Write a Python program to split and join a string ?**"
   ]
  },
  {
   "cell_type": "code",
   "execution_count": 5,
   "id": "fd82df54",
   "metadata": {},
   "outputs": [
    {
     "name": "stdout",
     "output_type": "stream",
     "text": [
      "Enter any string : May the New Year be good for all\n",
      "Split String : ['May', 'the', 'New', 'Year', 'be', 'good', 'for', 'all']\n",
      "Join String : May the New Year be good for all\n"
     ]
    }
   ],
   "source": [
    "def splitJoinString():\n",
    "    in_string = input('Enter any string : ')\n",
    "    print(f\"Split String : {in_string.split(' ')}\")\n",
    "    print(f\"Join String : {' '.join(in_string.split(' '))}\")\n",
    "\n",
    "splitJoinString()"
   ]
  },
  {
   "cell_type": "markdown",
   "id": "69c23ddc",
   "metadata": {},
   "source": [
    "**4. Write a Python to check if a given string is binary string or not ?**"
   ]
  },
  {
   "cell_type": "code",
   "execution_count": 7,
   "id": "6d04b29e",
   "metadata": {},
   "outputs": [
    {
     "name": "stdout",
     "output_type": "stream",
     "text": [
      "Enter your string : 121131\n",
      "121131 is not a binart string\n",
      "Enter your string : May the New Year be good for all\n",
      "May the New Year be good for all is not a binart string\n",
      "Enter your string : 010011110\n",
      "010011110 is a binary string\n"
     ]
    }
   ],
   "source": [
    "def checkBinary():\n",
    "    in_string = input('Enter your string : ')\n",
    "    stun = 0\n",
    "    for ele in in_string:\n",
    "        if ele in ['0','1']:\n",
    "            stun = 1\n",
    "            continue\n",
    "        else:\n",
    "            stun = 0\n",
    "            break\n",
    "    statement = 'is a binary string' if stun == 1 else 'is not a binart string' \n",
    "    print(f'{in_string} {statement}')\n",
    "\n",
    "checkBinary()\n",
    "checkBinary()\n",
    "checkBinary()"
   ]
  },
  {
   "cell_type": "markdown",
   "id": "90faf355",
   "metadata": {},
   "source": [
    "**5. Write a Python program to find uncommon words from two Strings ?**"
   ]
  },
  {
   "cell_type": "code",
   "execution_count": 8,
   "id": "be223e06",
   "metadata": {},
   "outputs": [
    {
     "name": "stdout",
     "output_type": "stream",
     "text": [
      "Enter String 1: May the New Year\n",
      "Enter String 2: be good for all\n",
      "{'be', 'the', 'Year', 'for', 'good', 'all', 'May', 'New'}\n"
     ]
    }
   ],
   "source": [
    "def unCommonWords():\n",
    "    in_string_1 = set(input(\"Enter String 1: \").split(' '))\n",
    "    in_string_2 = set(input(\"Enter String 2: \").split(' '))\n",
    "    out_string = (in_string_1.union(in_string_2)).difference(in_string_1.intersection(in_string_2))\n",
    "    print(out_string)\n",
    "\n",
    "unCommonWords()"
   ]
  },
  {
   "cell_type": "markdown",
   "id": "d0b7a95f",
   "metadata": {},
   "source": [
    "**6. Write a Python to find all duplicate characters in string ?**"
   ]
  },
  {
   "cell_type": "code",
   "execution_count": 9,
   "id": "6116a494",
   "metadata": {},
   "outputs": [
    {
     "name": "stdout",
     "output_type": "stream",
     "text": [
      "Enter string: May the New Year be good for all\n",
      "Duplicate characters are: [' ', 'l', 'e', 'a', 'r', 'o']\n"
     ]
    }
   ],
   "source": [
    "def duplicateChars():\n",
    "    in_string = input('Enter string: ')\n",
    "    non_duplicate_list = []\n",
    "    duplicate_list = []\n",
    "    for ele in in_string:\n",
    "        if ele not in non_duplicate_list:\n",
    "            non_duplicate_list.append(ele)\n",
    "        else:\n",
    "            duplicate_list.append(ele)\n",
    "    print(f'Duplicate characters are: {list(set(duplicate_list))}')\n",
    "        \n",
    "duplicateChars()"
   ]
  },
  {
   "cell_type": "markdown",
   "id": "8e90953e",
   "metadata": {},
   "source": [
    "**7. Write a Python Program to check if a string contains any special character?**"
   ]
  },
  {
   "cell_type": "code",
   "execution_count": 10,
   "id": "b51b221d",
   "metadata": {},
   "outputs": [
    {
     "name": "stdout",
     "output_type": "stream",
     "text": [
      "Enter the string: May the New Year, be good for all.\n",
      "There are 0 Speical Characters in May the New Year, be good for all. which are []\n",
      "Enter the string: May the !New Year & be good for all\n",
      "There are 2 Speical Characters in May the !New Year & be good for all which are ['!', '&']\n"
     ]
    }
   ],
   "source": [
    "def checkSpecialChar():\n",
    "    spl_chars = '[@_!#$%^&*()<>?/\\|}{~:]'\n",
    "    in_num = input('Enter the string: ')\n",
    "    count = 0\n",
    "    char_list = []\n",
    "    for ele in in_num:\n",
    "        if ele in spl_chars:\n",
    "            char_list.append(ele)\n",
    "            count = count+1\n",
    "    print(f'There are {count} Speical Characters in {in_num} which are {char_list}')\n",
    "            \n",
    "        \n",
    "checkSpecialChar()\n",
    "checkSpecialChar()"
   ]
  },
  {
   "cell_type": "code",
   "execution_count": null,
   "id": "960d3c12",
   "metadata": {},
   "outputs": [],
   "source": []
  }
 ],
 "metadata": {
  "kernelspec": {
   "display_name": "Python 3",
   "language": "python",
   "name": "python3"
  },
  "language_info": {
   "codemirror_mode": {
    "name": "ipython",
    "version": 3
   },
   "file_extension": ".py",
   "mimetype": "text/x-python",
   "name": "python",
   "nbconvert_exporter": "python",
   "pygments_lexer": "ipython3",
   "version": "3.8.8"
  }
 },
 "nbformat": 4,
 "nbformat_minor": 5
}

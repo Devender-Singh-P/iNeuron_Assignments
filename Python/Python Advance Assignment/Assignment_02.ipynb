{
 "cells": [
  {
   "cell_type": "markdown",
   "id": "ac127e05",
   "metadata": {},
   "source": [
    "**1. What is the relationship between classes and modules ?**"
   ]
  },
  {
   "cell_type": "markdown",
   "id": "91f50838",
   "metadata": {},
   "source": [
    "A Python class is like an outline/blueprint/mold for creating a new object. An object is anything that you wish to manipulate or change while working through the code. Every time a class object is instantiated, which is when we declare a variable, a new object is initiated from scratch\n",
    "\n",
    "Whereas in Python, Modules are simply files with the `. py` extension containing Python code that can be imported inside another Python Program. In simple terms, we can consider a module to be the same as a code library or a file that contains a set of functions/Classes that you want to include in your application."
   ]
  },
  {
   "cell_type": "markdown",
   "id": "44f0944c",
   "metadata": {},
   "source": [
    "**Q2. How do you make instances and classes ?**"
   ]
  },
  {
   "cell_type": "markdown",
   "id": "92be3b82",
   "metadata": {},
   "source": [
    "For creating a class instance. we call a class by its name and pass the arguments which its `__init__` method accepts.\n",
    "\n",
    "Example: `Dev = student('Male',50000)`, Here Dev is an instance of class student with attriubutes 'Male' and 50000.\n",
    "\n",
    "Whereas for creating a class, we use the `Class` keyword. Class keyword is followed by classname and semicolon.\n",
    "\n",
    "Example: Here Employee is a class created with `class` keyword with arguments gender and salary. \n",
    "\n",
    "`class student:\n",
    "    def __init__(self, gender,salary):\n",
    "        self.gender = gender\n",
    "        self.salary = salary`"
   ]
  },
  {
   "cell_type": "markdown",
   "id": "6e64854e",
   "metadata": {},
   "source": [
    "**Q3. Where and how should be class attributes created ?**"
   ]
  },
  {
   "cell_type": "markdown",
   "id": "4cfb843c",
   "metadata": {},
   "source": [
    "Class attributes or Class level Attributes belong to the class itself, these attributes will be shared by all the instances of the class. Hence these attributes are usually created/defined in the top of class definiation outside all methods.\n",
    "\n",
    "Example: In the below code we are defining a class attribute called no_of_wheels which will be shared by all the instances of the class Vehicle\n",
    "\n",
    "`class Vehicle:\n",
    "    no_of_wheels = 4; # this is a class attribute\n",
    "    def __init__(self,type,color,price,engine):\n",
    "        self.type = type    # All these are instance attributes\n",
    "        self.color = color \n",
    "        self.price = price\n",
    "        self.engine = engine`"
   ]
  },
  {
   "cell_type": "markdown",
   "id": "33089e93",
   "metadata": {},
   "source": [
    "**Q4. Where and how are instance attributes created ?**"
   ]
  },
  {
   "cell_type": "markdown",
   "id": "47c44e75",
   "metadata": {},
   "source": [
    "Instances attributes are passed to the class when an object of the class is created. Unlike class attributes, instance attributes are not shared by all objects of the classs. instead each object maintains its own copy of instance attributes at object level. whereas incase of class attributes all instances of class refer to a single copy. Usually instance attributes are defined within the `__init__` method of class\n",
    "\n",
    "Example: In the below sample code we are creating a class Car with instance varaibles color, price, engine, which will be provided when an instance of class Car is created.\n",
    "\n",
    "`class Vehicle:\n",
    "    no_of_wheels = 4; # this is a class attribute\n",
    "    def __init__(self,type,color,price,engine):\n",
    "        self.type = type    # All these are instance attributes\n",
    "        self.color = color \n",
    "        self.price = price\n",
    "        self.engine = engine`\n",
    "        \n",
    "`car = Vehicle('sedan','Indigo Blue', 1400000, 'petrol')`  \n",
    "`truck = Vehicle('commercial','Red',2800000, 'diesel')`\n",
    "\n",
    "Here, car and truck are both the instances of class Vehicle with different instance variables."
   ]
  },
  {
   "cell_type": "markdown",
   "id": "41635344",
   "metadata": {},
   "source": [
    "**Q5. What does the term \"self\" in a Python class mean ?**"
   ]
  },
  {
   "cell_type": "markdown",
   "id": "0ed28045",
   "metadata": {},
   "source": [
    "`self` represents the instance of the class (it represents the object itself). By using the “self” keyword we can access the attributes and methods of the class with in the class in python. It binds the attributes with the given arguments."
   ]
  },
  {
   "cell_type": "code",
   "execution_count": 7,
   "id": "7864bf87",
   "metadata": {},
   "outputs": [
    {
     "name": "stdout",
     "output_type": "stream",
     "text": [
      "{'type': 'sedan', 'color': 'Indigo Blue', 'price': 1400000, 'engine': 'petrol'}\n",
      "{'type': 'commercial', 'color': 'Red', 'price': 2800000, 'engine': 'diesel'}\n"
     ]
    }
   ],
   "source": [
    "class Vehicle:\n",
    "    no_of_wheels = 4; # this is a class attribute\n",
    "    def __init__(self,type,color,price,engine):\n",
    "        self.type = type    # All these are instance attributes\n",
    "        self.color = color \n",
    "        self.price = price\n",
    "        self.engine = engine\n",
    "\n",
    "car = Vehicle('sedan','Indigo Blue', 1400000, 'petrol')\n",
    "truck = Vehicle('commercial','Red',2800000, 'diesel')\n",
    "\n",
    "print(car.__dict__)\n",
    "print(truck.__dict__)"
   ]
  },
  {
   "cell_type": "markdown",
   "id": "bc2ac8c8",
   "metadata": {},
   "source": [
    "**Q6. How does a Python class handle operator overloading ?**"
   ]
  },
  {
   "cell_type": "markdown",
   "id": "f58ed1f8",
   "metadata": {},
   "source": [
    "Python Classes handle operator overloading by using special methods called `Magic methods`. these special methods usually begin and end with **`__`** (double underscore)  \n",
    "Example: Magic methods for basic arithmetic operators are:\n",
    "- `+ -> __add__()`\n",
    "- `- -> __sub__()`\n",
    "- `* -> __mul__()`\n",
    "- `/ -> __div__()`"
   ]
  },
  {
   "cell_type": "code",
   "execution_count": 8,
   "id": "60294cc1",
   "metadata": {},
   "outputs": [
    {
     "name": "stdout",
     "output_type": "stream",
     "text": [
      "The total number of students in the two classes is 110.\n"
     ]
    }
   ],
   "source": [
    "class School:\n",
    "    def __init__(self,students):\n",
    "        self.students = students\n",
    "    def __add__(self,other):\n",
    "        return self.students + other.students\n",
    "class1 = School(60)\n",
    "class2 = School(50)\n",
    "print(f'The total number of students in the two classes is {class1 + class2}.')"
   ]
  },
  {
   "cell_type": "markdown",
   "id": "6399e0d5",
   "metadata": {},
   "source": [
    "**Q7. When do you consider allowing operator overloading of your classes ?**"
   ]
  },
  {
   "cell_type": "markdown",
   "id": "439d9d7e",
   "metadata": {},
   "source": [
    "When we want to have different meaning for the same operator accroding to the context we use operator overloading."
   ]
  },
  {
   "cell_type": "markdown",
   "id": "0cd1ea24",
   "metadata": {},
   "source": [
    "#### Q8. What is the most popular form of operator overloading?\n",
    "**Ans:** The most popular form of operator overloading in python is by special methods called **Magic methods**. Which usually beign and end with double underscore **`__<method name>__`**."
   ]
  },
  {
   "cell_type": "code",
   "execution_count": 11,
   "id": "f8444677",
   "metadata": {},
   "outputs": [
    {
     "name": "stdout",
     "output_type": "stream",
     "text": [
      "Sum -> 3\n",
      "String Concatenation -> DevenderSingh\n"
     ]
    }
   ],
   "source": [
    "class X:\n",
    "    def __init__(self,x):\n",
    "        self.x = x\n",
    "    def __add__(self,o):\n",
    "        return self.x+o.x\n",
    "obj1 = X(1)\n",
    "obj2 = X(2)\n",
    "obj3 = X('Devender')\n",
    "obj4 = X('Singh')\n",
    "print(f'Sum -> {obj1+obj2}')\n",
    "print(f'String Concatenation -> {obj3+obj4}')"
   ]
  },
  {
   "cell_type": "markdown",
   "id": "ae6f4f52",
   "metadata": {},
   "source": [
    "**9. What are the two most important concepts to grasp in order to comprehend Python OOP code ?**"
   ]
  },
  {
   "cell_type": "markdown",
   "id": "3ff6f7f0",
   "metadata": {},
   "source": [
    "`Classes` and `objects` are the two concepts to comprehend python OOP code as more formally objects are entities that represent instances of general abstract concept called class\n",
    "\n",
    "Along with classes and objects the important concepts to grasp are:\n",
    "1. Inheritence\n",
    "2. Abstraction\n",
    "3. Polymorphism\n",
    "4. Encapsulation"
   ]
  }
 ],
 "metadata": {
  "kernelspec": {
   "display_name": "Python 3",
   "language": "python",
   "name": "python3"
  },
  "language_info": {
   "codemirror_mode": {
    "name": "ipython",
    "version": 3
   },
   "file_extension": ".py",
   "mimetype": "text/x-python",
   "name": "python",
   "nbconvert_exporter": "python",
   "pygments_lexer": "ipython3",
   "version": "3.8.8"
  }
 },
 "nbformat": 4,
 "nbformat_minor": 5
}

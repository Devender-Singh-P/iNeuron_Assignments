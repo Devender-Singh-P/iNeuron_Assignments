{
 "cells": [
  {
   "cell_type": "markdown",
   "id": "d0d8c370",
   "metadata": {},
   "source": [
    "**1. What is the concept of an abstract superclass ?**"
   ]
  },
  {
   "cell_type": "markdown",
   "id": "6d38e68b",
   "metadata": {},
   "source": [
    "An abstract class/superclass can be considered as a blueprint for other classes. It allows you to create a set of methods that must be created within any child classes built from the abstract class. A class which contains one or more abstract methods is called an abstract class, whereas an abstract method is a method that has a declaration but does not have an implementation"
   ]
  },
  {
   "cell_type": "code",
   "execution_count": 8,
   "id": "00e14ca4",
   "metadata": {},
   "outputs": [],
   "source": [
    "from abc import ABC, abstractmethod\n",
    "class vehicle(ABC): # Abstract Class\n",
    "    @abstractmethod\n",
    "    def no_of_tyres(self): # Abstract Method\n",
    "        pass\n",
    "class car(vehicle):\n",
    "    def no_of_tyres(self):  # overriding abstract method in child class car\n",
    "        print(\"I have 4 tyres\")\n",
    "class bus(vehicle):\n",
    "    def no_of_tyres(self): # overriding abstract method in child class bus\n",
    "        print(\"I have 6 tyrea\")"
   ]
  },
  {
   "cell_type": "markdown",
   "id": "23dee9dc",
   "metadata": {},
   "source": [
    "**2. What happens when a class statement's top level contains a basic assignment statement ?**"
   ]
  },
  {
   "cell_type": "markdown",
   "id": "e4a49a25",
   "metadata": {},
   "source": [
    "When a Class statement's top level contains a basic assignment statement, its usually treated as a `class attribute` or class level variable, whereas assignment statements inside methods are treated as `instance attributes or local attributes`.  \n",
    "When an instance of a class is created a single copy of class attributes is maintained and shared to all instances of class. where as each instance object maintains its own copy of instance variables."
   ]
  },
  {
   "cell_type": "code",
   "execution_count": 3,
   "id": "c5d88b4d",
   "metadata": {},
   "outputs": [],
   "source": [
    "class Vehicle:\n",
    "    type = '4-wheeler' # class attribute\n",
    "    def __init__(self,model,price):\n",
    "        self.model = model # instance attributes\n",
    "        self.price = price"
   ]
  },
  {
   "cell_type": "markdown",
   "id": "fc05a38c",
   "metadata": {},
   "source": [
    "**3. Why does a class need to manually call a superclass's __init__ method ?**"
   ]
  },
  {
   "cell_type": "markdown",
   "id": "beb231b3",
   "metadata": {},
   "source": [
    "If a child class has `__init__` method, then it will not inherit the `__init__` method of the parent class.  \n",
    "In other words the `__init__` method of the child class overrides the `__init__` method of the parent class. so we have to manually call a parent superclass's `__init__` using `super()` method"
   ]
  },
  {
   "cell_type": "code",
   "execution_count": 11,
   "id": "d30162f0",
   "metadata": {},
   "outputs": [
    {
     "name": "stdout",
     "output_type": "stream",
     "text": [
      "{'model': 'Safari', 'price': 2000000, 'color': 'White'}\n"
     ]
    }
   ],
   "source": [
    "class Vehicle:\n",
    "    def __init__(self,model,price):\n",
    "        self.model = model\n",
    "        self.price = price       \n",
    "class car(Vehicle):\n",
    "    def __init__(self,model,price,color):\n",
    "        super().__init__(model,price)\n",
    "        self.color = color\n",
    "car_1 = car('Safari',2000000,'White')\n",
    "print(car_1.__dict__)"
   ]
  },
  {
   "cell_type": "markdown",
   "id": "e751e221",
   "metadata": {},
   "source": [
    "**4. How can you augment, instead of completely replacing, an inherited method ?**"
   ]
  },
  {
   "cell_type": "markdown",
   "id": "f7468111",
   "metadata": {},
   "source": [
    "`super()`** method can be used to augment, instead of completely replacing, an inherited method."
   ]
  },
  {
   "cell_type": "code",
   "execution_count": 12,
   "id": "437bf527",
   "metadata": {},
   "outputs": [
    {
     "name": "stdout",
     "output_type": "stream",
     "text": [
      "{'model': 'Safari', 'engine_cc': 1956, 'color': 'White'}\n"
     ]
    }
   ],
   "source": [
    "class Vehicle:\n",
    "    def __init__(self,model,engine_cc):\n",
    "        self.model = model\n",
    "        self.engine_cc = engine_cc       \n",
    "class car(Vehicle):\n",
    "    def __init__(self,model,engine_cc,color):\n",
    "        super().__init__(model,engine_cc)\n",
    "        self.color = color\n",
    "car_1 = car('Safari',1956,'White')\n",
    "print(car_1.__dict__)      "
   ]
  },
  {
   "cell_type": "markdown",
   "id": "4c81d954",
   "metadata": {},
   "source": [
    "**5. How is the local scope of a class different from that of a function ?**"
   ]
  },
  {
   "cell_type": "markdown",
   "id": "16559793",
   "metadata": {},
   "source": [
    "A variable which is defined inside a function is local to that function, it is accesible from the point at which it is defined until the end of the function and exists for as long as the function is existing.\n",
    "\n",
    "Similary, a variable inside of a class also has a local variable scope. Variables which are defined in the class body (but outside all methods) are called as class level variables or class attributes. they can be referenced by there bare names within the same scope, but they can also be accessed from outside this scope if we use the attribute access operator `(.)`. on a class or an instance of the class."
   ]
  },
  {
   "cell_type": "code",
   "execution_count": 15,
   "id": "1d9896b9",
   "metadata": {},
   "outputs": [
    {
     "name": "stdout",
     "output_type": "stream",
     "text": [
      "You're name is Devender Singh\n",
      "Name varible is not available outside hello function scope\n",
      "car\n",
      "car\n"
     ]
    }
   ],
   "source": [
    "def hello(name):\n",
    "    name = name\n",
    "    print(f'You\\'re name is {name}')\n",
    "hello('Devender Singh')\n",
    "try:\n",
    "    name\n",
    "except NameError:\n",
    "    print('Name varible is not available outside hello function scope')\n",
    "\n",
    "class vehicle:\n",
    "    model = \"car\"\n",
    "    def __init__(self):\n",
    "        pass\n",
    "print(vehicle.model)        # Accessing species using class name\n",
    "heavy_duty = vehicle()\n",
    "print(heavy_duty.model) # Accessing species using instance of class"
   ]
  }
 ],
 "metadata": {
  "kernelspec": {
   "display_name": "Python 3",
   "language": "python",
   "name": "python3"
  },
  "language_info": {
   "codemirror_mode": {
    "name": "ipython",
    "version": 3
   },
   "file_extension": ".py",
   "mimetype": "text/x-python",
   "name": "python",
   "nbconvert_exporter": "python",
   "pygments_lexer": "ipython3",
   "version": "3.8.8"
  }
 },
 "nbformat": 4,
 "nbformat_minor": 5
}

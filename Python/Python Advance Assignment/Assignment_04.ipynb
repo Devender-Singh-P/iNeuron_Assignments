{
 "cells": [
  {
   "cell_type": "markdown",
   "id": "04ff7584",
   "metadata": {},
   "source": [
    "**1. Which two operator overloading methods can you use in your classes to support iteration ?**"
   ]
  },
  {
   "cell_type": "markdown",
   "id": "4c06fa86",
   "metadata": {},
   "source": [
    "*`__iter__`* and *`__next__`* are the operator overloading methods in python that support iteration and are collectively called `iterator protocol`.\n",
    "\n",
    "- *`__iter__`* returns the iterator object and is called at the start of loop in our respective class.\n",
    "- *`__next__`* is called at each loop increment, it returns the incremented value. Also Stopiteration is raised when there is no value to return."
   ]
  },
  {
   "cell_type": "code",
   "execution_count": 2,
   "id": "90a386ed",
   "metadata": {
    "scrolled": true
   },
   "outputs": [
    {
     "name": "stdout",
     "output_type": "stream",
     "text": [
      "8 9 10 11 12 13 14 15 16 17 18 19 "
     ]
    }
   ],
   "source": [
    "class counter:\n",
    "    def __init__(self,low,high):\n",
    "        self.current = low\n",
    "        self.high = high\n",
    "    def __iter__(self):\n",
    "        return self\n",
    "    def __next__(self):\n",
    "        if self.current > self.high:\n",
    "            raise StopIteration\n",
    "        else:\n",
    "            self.current += 1\n",
    "            return self.current - 1\n",
    "for ele in counter(8,19):\n",
    "    print(ele, end=\" \")"
   ]
  },
  {
   "cell_type": "markdown",
   "id": "a225e28d",
   "metadata": {},
   "source": [
    "**2. In what contexts do the two operator overloading methods manage printing ?**"
   ]
  },
  {
   "cell_type": "markdown",
   "id": "122cfb25",
   "metadata": {},
   "source": [
    "`__str__` and `__repr__` are two operator overloading methods that manage printing.\n",
    "\n",
    "In Short, the difference between both these operators is the goal of `__repr__` is to be unambiguous and `__str__` is to be readable.\n",
    "Whenever we are printing any object reference internally `__str__` method will be called by default.\n",
    "The main purpose of `__str__` is for readability. it prints the informal string representation of an object, one that is useful for printing the object. it may not be possible to convert result string to original object.\n",
    "`__repr__` is used to print official string representation of an object, so it includes all information and development."
   ]
  },
  {
   "cell_type": "code",
   "execution_count": 3,
   "id": "8b12d86a",
   "metadata": {},
   "outputs": [
    {
     "name": "stdout",
     "output_type": "stream",
     "text": [
      "<__main__.Student object at 0x000002209C73B490>\n",
      "Student Name: Devender and Roll No: 10\n",
      "2022-01-20 22:12:08.579441\n",
      "Unable to convert back to original object\n",
      "datetime.datetime(2022, 1, 20, 22, 12, 8, 579441)\n",
      "2022-01-20 22:12:08.579441\n"
     ]
    }
   ],
   "source": [
    "class Student:\n",
    "    def __init__(self,name,roll_no):\n",
    "        self.name = name\n",
    "        self.roll_no = roll_no\n",
    "        \n",
    "details = Student(\"Devender\",10)\n",
    "print(str(details))\n",
    "\n",
    "class Student:\n",
    "    def __init__(self,name,roll_no):\n",
    "        self.name = name\n",
    "        self.roll_no = roll_no\n",
    "    def __str__(self):\n",
    "        return f'Student Name: {self.name} and Roll No: {self.roll_no}'\n",
    "    \n",
    "details = Student(\"Devender\",10)\n",
    "print(str(details))\n",
    "\n",
    "import datetime\n",
    "today = datetime.datetime.now()\n",
    "\n",
    "s = str(today)       # converting datetime object to presentable str\n",
    "print(s)\n",
    "try: d = eval(s)     # converting str back to datetime object\n",
    "except: print(\"Unable to convert back to original object\")\n",
    "    \n",
    "u = repr(today) # converting datetime object to str\n",
    "print(u)\n",
    "e = eval(u) # converting str back to datetime object\n",
    "print(e)"
   ]
  },
  {
   "cell_type": "markdown",
   "id": "6bec024a",
   "metadata": {},
   "source": [
    "**3. In a class, how do you intercept slice operations ?**"
   ]
  },
  {
   "cell_type": "markdown",
   "id": "776e9c16",
   "metadata": {},
   "source": [
    "In a class use of `slice()` in `__getitem__` method is used for intercept slice operation. This slice method is provided with start integer number, stop integer number and step integer number. \n",
    "\n",
    "eg. `__getitem__(slice(start,stop,step))`"
   ]
  },
  {
   "cell_type": "markdown",
   "id": "78ecb80d",
   "metadata": {},
   "source": [
    "**4. In a class, how do you capture in-place addition ?**"
   ]
  },
  {
   "cell_type": "markdown",
   "id": "1960c808",
   "metadata": {},
   "source": [
    "`a+b` is normal addition. Whereas `a+=b` is inplace addition operation. In this in-place addition `a` itself will store the value of addition. In a class `__iadd__` method is used for this in-place operation"
   ]
  },
  {
   "cell_type": "code",
   "execution_count": 7,
   "id": "89e37d51",
   "metadata": {},
   "outputs": [
    {
     "name": "stdout",
     "output_type": "stream",
     "text": [
      "108\n"
     ]
    }
   ],
   "source": [
    "class students:\n",
    "    def __init__(self,count):\n",
    "        self.count = count\n",
    "    def __iadd__(self,other):\n",
    "        self.count += other.count\n",
    "        return self.count\n",
    "        \n",
    "s1 = students(49)\n",
    "s2 = students(59)\n",
    "s1+=s2\n",
    "print(s1)"
   ]
  },
  {
   "cell_type": "markdown",
   "id": "19cf2fe3",
   "metadata": {},
   "source": [
    "**5. When is it appropriate to use operator overloading ?**"
   ]
  },
  {
   "cell_type": "markdown",
   "id": "341416c2",
   "metadata": {},
   "source": [
    "Operator overloading is used when we want to use an operator other than its normal operation to have different meaning according to the context required in user defined function."
   ]
  },
  {
   "cell_type": "code",
   "execution_count": 11,
   "id": "14b44902",
   "metadata": {},
   "outputs": [
    {
     "name": "stdout",
     "output_type": "stream",
     "text": [
      "Total Number of Students = 138\n"
     ]
    }
   ],
   "source": [
    "class students:\n",
    "    def __init__(self,count):\n",
    "        self.count = count\n",
    "    def __add__(self,other):\n",
    "        return self.count+other.count\n",
    "s1 = students(80)\n",
    "s2 = students(58)\n",
    "print(f'Total Number of Students = {s1 + s2}')"
   ]
  }
 ],
 "metadata": {
  "kernelspec": {
   "display_name": "Python 3",
   "language": "python",
   "name": "python3"
  },
  "language_info": {
   "codemirror_mode": {
    "name": "ipython",
    "version": 3
   },
   "file_extension": ".py",
   "mimetype": "text/x-python",
   "name": "python",
   "nbconvert_exporter": "python",
   "pygments_lexer": "ipython3",
   "version": "3.8.8"
  }
 },
 "nbformat": 4,
 "nbformat_minor": 5
}

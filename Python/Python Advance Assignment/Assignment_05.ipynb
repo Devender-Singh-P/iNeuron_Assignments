{
 "cells": [
  {
   "cell_type": "markdown",
   "id": "1ea21192",
   "metadata": {},
   "source": [
    "**1. What is the meaning of multiple inheritance ?**"
   ]
  },
  {
   "cell_type": "markdown",
   "id": "3ae2f846",
   "metadata": {},
   "source": [
    "Inheritence is nothing but reusing the code of Parent class by the child class. Similary when a child class inherits its properties from multiple Parent classes this scenario is called `Multiple Inheritence`"
   ]
  },
  {
   "cell_type": "code",
   "execution_count": 1,
   "id": "e8567eae",
   "metadata": {},
   "outputs": [],
   "source": [
    "class Parent_one:\n",
    "    pass\n",
    "class Parent_two:\n",
    "    pass\n",
    "class child(Parent_one,Parent_two):\n",
    "    pass"
   ]
  },
  {
   "cell_type": "markdown",
   "id": "92d55762",
   "metadata": {},
   "source": [
    "**2. What is the concept of delegation ?**"
   ]
  },
  {
   "cell_type": "markdown",
   "id": "38440f4c",
   "metadata": {},
   "source": [
    "Delegation provides a proxy object for any class thay you want on top of the main class. its like a wrapper to your class so that you can access limited resources of the main class.\n",
    "\n",
    "It wraps the object of main class into a smaller object with limited access\n",
    "\n",
    "In other words, Delegation means to include an instance of another class as an instance variable, and forward messages to the instance."
   ]
  },
  {
   "cell_type": "code",
   "execution_count": 3,
   "id": "d57e9c12",
   "metadata": {},
   "outputs": [
    {
     "name": "stdout",
     "output_type": "stream",
     "text": [
      "This is first class\n",
      "This is first class\n",
      "This is first class\n",
      "This is within OneClass\n"
     ]
    }
   ],
   "source": [
    "class OneClass:\n",
    "    def first(self):\n",
    "        print('This is first class')\n",
    "    def within_One(self):\n",
    "        print('This is within OneClass')\n",
    "class TwoClass:\n",
    "    def __init__(self,obj):\n",
    "        self.main = obj\n",
    "    def second(self):\n",
    "        self.main.first()\n",
    "\n",
    "m = OneClass()        \n",
    "n = TwoClass(m)\n",
    "m.first()\n",
    "n.main.first()\n",
    "n.second()\n",
    "n.main.within_One()"
   ]
  },
  {
   "cell_type": "markdown",
   "id": "837dbd9c",
   "metadata": {},
   "source": [
    "**3. What is the concept of composition ?**"
   ]
  },
  {
   "cell_type": "markdown",
   "id": "4600a4d4",
   "metadata": {},
   "source": [
    "In the concept of Composition, a class refers to one or more other classes by using instances of those classes as an instance variable irrespective of inheritence. In this approach all the parent class members are not inherited into child class, but only required methods from a class are used by using class instances."
   ]
  },
  {
   "cell_type": "code",
   "execution_count": 6,
   "id": "7e779e32",
   "metadata": {},
   "outputs": [
    {
     "name": "stdout",
     "output_type": "stream",
     "text": [
      "Total Marks obtained = 450\n"
     ]
    }
   ],
   "source": [
    "class marks:\n",
    "    def __init__(self,questions):\n",
    "        self.questions = questions\n",
    "    def get_total(self):\n",
    "        return self.questions*15\n",
    "    \n",
    "class student:\n",
    "    def __init__(self,questions,grace):\n",
    "        self.questions = questions\n",
    "        self.grace = grace\n",
    "        self.obj_marks = marks(self.questions)\n",
    "    def total_marks(self):\n",
    "        return f'Total Marks obtained = {str(self.obj_marks.get_total())}'\n",
    "\n",
    "obj_stu = student(30,10)\n",
    "print(obj_stu.total_marks())"
   ]
  },
  {
   "cell_type": "markdown",
   "id": "5ca951b9",
   "metadata": {},
   "source": [
    "**4. What are bound methods and how do we use them ?**"
   ]
  },
  {
   "cell_type": "markdown",
   "id": "ce7913c2",
   "metadata": {},
   "source": [
    "If a function is an attribute of class and it is accessed via the instances, they are called `bound methods`. A bound method is one that has `self` as its first argument. Since these are dependent on the instance of classes, these are also known as `instance methods`."
   ]
  },
  {
   "cell_type": "code",
   "execution_count": 8,
   "id": "dc8b18a8",
   "metadata": {},
   "outputs": [
    {
     "name": "stdout",
     "output_type": "stream",
     "text": [
      "Called method_1\n",
      "Called method_2\n",
      "Called method_2\n",
      "Called method_3\n"
     ]
    }
   ],
   "source": [
    "class Test:\n",
    "    def method_1(self): # bound method\n",
    "        print(\"Called method_1\")\n",
    "    @classmethod\n",
    "    def method_2(cls): # unbound method\n",
    "        print(\"Called method_2\")\n",
    "    @staticmethod\n",
    "    def method_3(): # static method\n",
    "        print(\"Called method_3\")\n",
    "\n",
    "test = Test()\n",
    "test.method_1() # accessing through instance object\n",
    "test.method_2() # accessing through instance object\n",
    "Test.method_2() # accessing directly through class\n",
    "Test.method_3() # accessing directly through class"
   ]
  },
  {
   "cell_type": "markdown",
   "id": "f1e26506",
   "metadata": {},
   "source": [
    "**5. What is the purpose of pseudoprivate attributes ?**"
   ]
  },
  {
   "cell_type": "markdown",
   "id": "04f059af",
   "metadata": {},
   "source": [
    "`Pseudoprivate` attributes are also useful in larger frameworks or tools, both to avoid introducing new method names that might accidentally hide definitions elsewhere in the class tree and to reduce the chance of internal methods being replaced by names defined lower in the tree. If a method is intended for use only within a class that may be mixed into other classes, the double underscore prefix ensures that the method won't interfere with other names in the tree, especially in multiple-inheritance scenarios\n",
    "\n",
    "Pseudoprivate names also prevent subclasses from accidentally redefining the internal method's names,"
   ]
  },
  {
   "cell_type": "code",
   "execution_count": 12,
   "id": "6710d4ea",
   "metadata": {},
   "outputs": [],
   "source": [
    "class SuperClass:\n",
    "    def method1(self): # A real application method\n",
    "        pass\n",
    "class Tool:\n",
    "    def _method1(self): # becomes _Tool_method\n",
    "        pass\n",
    "    def other(self): # uses internal method\n",
    "        self._method1()\n",
    "class Subl(Tool,Super):\n",
    "    def actions(self):\n",
    "        self.method1()\n",
    "class Sub2(Tool):\n",
    "    def __init__(self):\n",
    "        self.method1 = 10"
   ]
  }
 ],
 "metadata": {
  "kernelspec": {
   "display_name": "Python 3",
   "language": "python",
   "name": "python3"
  },
  "language_info": {
   "codemirror_mode": {
    "name": "ipython",
    "version": 3
   },
   "file_extension": ".py",
   "mimetype": "text/x-python",
   "name": "python",
   "nbconvert_exporter": "python",
   "pygments_lexer": "ipython3",
   "version": "3.8.8"
  }
 },
 "nbformat": 4,
 "nbformat_minor": 5
}

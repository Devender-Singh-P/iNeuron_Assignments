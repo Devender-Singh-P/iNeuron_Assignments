{
 "cells": [
  {
   "cell_type": "raw",
   "id": "489cd13a",
   "metadata": {},
   "source": [
    "1. Write a Python Program to find LCM ?"
   ]
  },
  {
   "cell_type": "code",
   "execution_count": 5,
   "id": "91140999",
   "metadata": {},
   "outputs": [
    {
     "name": "stdout",
     "output_type": "stream",
     "text": [
      "The LCM of 5 and 9 is -> 45\n",
      "The LCM of 47 and 3 is -> 141\n",
      "The LCM of 28 and 40 is -> 280\n"
     ]
    }
   ],
   "source": [
    "def findLcm(x_term,y_term):\n",
    "    if x_term > y_term:\n",
    "        greater = x_term\n",
    "    else:\n",
    "        greater = x_term\n",
    "    while True:\n",
    "        if((greater%x_term == 0) and (greater%y_term == 0)):\n",
    "            lcm = greater\n",
    "            break\n",
    "        else:\n",
    "            greater +=1\n",
    "    print(f'The LCM of {x_term} and {y_term} is -> {lcm}')\n",
    "\n",
    "findLcm(5,9)\n",
    "findLcm(47,3)\n",
    "findLcm(28,40)"
   ]
  },
  {
   "cell_type": "raw",
   "id": "b7f719b1",
   "metadata": {},
   "source": [
    "2. Write a Python Program to find HCF ?"
   ]
  },
  {
   "cell_type": "code",
   "execution_count": 12,
   "id": "352d08d9",
   "metadata": {},
   "outputs": [
    {
     "name": "stdout",
     "output_type": "stream",
     "text": [
      "The HCF of 16 and 22 is -->> 2\n",
      "The HCF of 22 and 33 is -->> 11\n",
      "The HCF of 49 and 29 is -->> 1\n"
     ]
    }
   ],
   "source": [
    "def findHcf(x_term,y_term):\n",
    "    if x_term > y_term:\n",
    "        smaller = y_term\n",
    "    else:\n",
    "        smaller = x_term\n",
    "    for ele in range(1,smaller + 1):\n",
    "        if((x_term%ele == 0) and (y_term%ele == 0)):\n",
    "            hcf = ele\n",
    "    print(f'The HCF of {x_term} and {y_term} is -->> {hcf}')\n",
    "\n",
    "findHcf(16,22)\n",
    "findHcf(22,33)\n",
    "findHcf(49,29)"
   ]
  },
  {
   "cell_type": "raw",
   "id": "1bc4aef7",
   "metadata": {},
   "source": [
    "3. Write a Python Program to Convert Decimal to Binary, Octal and Hexadecimal ?"
   ]
  },
  {
   "cell_type": "code",
   "execution_count": 13,
   "id": "53212645",
   "metadata": {},
   "outputs": [
    {
     "name": "stdout",
     "output_type": "stream",
     "text": [
      "Enter any Number: 48\n",
      "Binary Number --> 0b110000\n",
      "Octal Number --> 0o60\n",
      "Hexadecimal Number --> 0x30\n"
     ]
    }
   ],
   "source": [
    "def DecimalConvert():\n",
    "    num = int(input('Enter any Number: '))\n",
    "    print(f'Binary Number --> {bin(num)}')\n",
    "    print(f'Octal Number --> {oct(num)}')    \n",
    "    print(f'Hexadecimal Number --> {hex(num)}')    \n",
    "\n",
    "DecimalConvert()"
   ]
  },
  {
   "cell_type": "raw",
   "id": "550ca8b2",
   "metadata": {},
   "source": [
    "4. Write a Python Program to Find the ASCII value of  a Character ?"
   ]
  },
  {
   "cell_type": "code",
   "execution_count": 19,
   "id": "8173265f",
   "metadata": {},
   "outputs": [
    {
     "name": "stdout",
     "output_type": "stream",
     "text": [
      "Enter any Character : &\n",
      "Ascii Character of & is --> 38\n"
     ]
    }
   ],
   "source": [
    "def charToAscii():\n",
    "    char = input('Enter any Character : ')\n",
    "    if len(char) > 1:\n",
    "        print('Please Enter any Single Character, not many characters :-')\n",
    "    else:\n",
    "        print(f'Ascii Character of {char} is --> {ord(char)}')\n",
    "\n",
    "\n",
    "charToAscii()"
   ]
  },
  {
   "cell_type": "raw",
   "id": "c9fe04de",
   "metadata": {},
   "source": [
    "5. Write a Python Program to Make a Simple Calculator with 4 Basic Mathematical operations ?"
   ]
  },
  {
   "cell_type": "code",
   "execution_count": 21,
   "id": "846d7a21",
   "metadata": {},
   "outputs": [
    {
     "name": "stdout",
     "output_type": "stream",
     "text": [
      "Select any Arithmetic Operation from following :-         \n",
      "1.Addition(+)        \n",
      "2.Division(-)        \n",
      "2.Multiplication(*)        \n",
      "4.Division(/)        \n",
      "3.Stop(0)\n",
      "\n",
      "Enter any arithmetic operation -> *\n",
      "\n",
      "Enter your 1st Number : 2\n",
      "Enter your 2nd Number : 329\n",
      "2*329=658\n",
      "\n",
      "Enter any arithmetic operation -> 0\n",
      "Program Stopped successfully because 0 is entered\n"
     ]
    }
   ],
   "source": [
    "import operator\n",
    "\n",
    "ops = { \"+\": operator.add, \"-\": operator.sub, \"*\":operator.mul, \"/\":operator.truediv } \n",
    "\n",
    "print('Select any Arithmetic Operation from following :- \\\n",
    "        \\n1.Addition(+)\\\n",
    "        \\n2.Division(-)\\\n",
    "        \\n2.Multiplication(*)\\\n",
    "        \\n4.Division(/)\\\n",
    "        \\n3.Stop(0)\\n')\n",
    "   \n",
    "\n",
    "while True:\n",
    "    operator = input('Enter any arithmetic operation -> ')\n",
    "    if operator == '0':\n",
    "        print(\"Program Stopped successfully because 0 is entered\")\n",
    "        break\n",
    "    elif operator not in ['+','-','*','/']:\n",
    "        print(\"Please enter a valid operator\")\n",
    "    else:\n",
    "        num_1 = int(input('\\nEnter your 1st Number : '))\n",
    "        num_2 = int(input('Enter your 2nd Number : '))\n",
    "        print(f'{num_1}{operator}{num_2}={ops[operator](num_1,num_2)}\\n')"
   ]
  },
  {
   "cell_type": "code",
   "execution_count": null,
   "id": "02af49e8",
   "metadata": {},
   "outputs": [],
   "source": []
  }
 ],
 "metadata": {
  "kernelspec": {
   "display_name": "Python 3",
   "language": "python",
   "name": "python3"
  },
  "language_info": {
   "codemirror_mode": {
    "name": "ipython",
    "version": 3
   },
   "file_extension": ".py",
   "mimetype": "text/x-python",
   "name": "python",
   "nbconvert_exporter": "python",
   "pygments_lexer": "ipython3",
   "version": "3.8.8"
  }
 },
 "nbformat": 4,
 "nbformat_minor": 5
}

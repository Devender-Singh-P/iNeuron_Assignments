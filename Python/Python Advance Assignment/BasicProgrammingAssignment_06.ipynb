{
 "cells": [
  {
   "cell_type": "markdown",
   "id": "6ef41dd7",
   "metadata": {},
   "source": [
    "**1. Write a Python Program to Display Fibonacci Sequence using Recursion ?**"
   ]
  },
  {
   "cell_type": "code",
   "execution_count": 1,
   "id": "c6a0db1b",
   "metadata": {},
   "outputs": [
    {
     "name": "stdout",
     "output_type": "stream",
     "text": [
      "Enter the required length of Series: 6\n",
      "0, 1, 3, 5, 8, 13, 21, 34, "
     ]
    }
   ],
   "source": [
    "def genFibonacci(n,a,b):\n",
    "    if n == 0:\n",
    "        return 1\n",
    "    else:\n",
    "        result = a+b\n",
    "        print(result, end=', ')\n",
    "        genFibonacci(n-1,b,result)\n",
    "in_num = int(input('Enter the required length of Series: '))\n",
    "print('0, 1',end=', ')\n",
    "genFibonacci(in_num,1,2)"
   ]
  },
  {
   "cell_type": "markdown",
   "id": "92457a83",
   "metadata": {},
   "source": [
    "**2. Write a Python Program to Find Factorial of a Number using Recursion ?**"
   ]
  },
  {
   "cell_type": "code",
   "execution_count": 2,
   "id": "56e04b25",
   "metadata": {},
   "outputs": [
    {
     "name": "stdout",
     "output_type": "stream",
     "text": [
      "Enter a number: 15\n",
      "The Factorial of 15 is 1307674368000\n"
     ]
    }
   ],
   "source": [
    "def factorial(num):\n",
    "    if (num < 1):\n",
    "        return 1\n",
    "    else:\n",
    "        return num*factorial(num-1)\n",
    "num = int(input('Enter a number: '))\n",
    "value = factorial(num)\n",
    "print(f'The Factorial of {num} is {value}')"
   ]
  },
  {
   "cell_type": "markdown",
   "id": "5215023d",
   "metadata": {},
   "source": [
    "**3. Write a Python Program to Calculate your Body Mass Index ?**"
   ]
  },
  {
   "cell_type": "code",
   "execution_count": 8,
   "id": "8e0c3d17",
   "metadata": {},
   "outputs": [
    {
     "name": "stdout",
     "output_type": "stream",
     "text": [
      "Enter your Weight(in kgs): 70\n",
      "Enter your Height(in mts): 1.68\n",
      "Your're BMI is 24.801587301587304 and status is -> Healthy \n"
     ]
    }
   ],
   "source": [
    "def BMI_calculate():\n",
    "    in_weight = eval(input('Enter your Weight(in kgs): '))\n",
    "    in_height = eval(input('Enter your Height(in mts): '))\n",
    "    calc_bmi = in_weight/pow(in_height,2)\n",
    "    if (calc_bmi < 18.5):\n",
    "        status = 'Underweight'\n",
    "    elif (calc_bmi >= 18.5 and calc_bmi < 24.9):\n",
    "        status = 'Healthy'\n",
    "    elif (calc_bmi >= 24.9 and calc_bmi < 30):\n",
    "        status = 'Overweight'\n",
    "    elif (calc_bmi >=30):\n",
    "        status = 'Suffering from Obesity'\n",
    "    print(f'Your\\'re BMI is {calc_bmi} and status is -> {status} ')\n",
    "BMI_calculate()"
   ]
  },
  {
   "cell_type": "markdown",
   "id": "3bec017f",
   "metadata": {},
   "source": [
    "**4. Write a Python Program to Calculate the Natural Logarithm of any Number ?**"
   ]
  },
  {
   "cell_type": "code",
   "execution_count": 11,
   "id": "e1db8d0f",
   "metadata": {},
   "outputs": [
    {
     "name": "stdout",
     "output_type": "stream",
     "text": [
      "Enter any Number:100\n",
      "4.605170185988092\n"
     ]
    }
   ],
   "source": [
    "import math\n",
    "def genNLog():\n",
    "    in_num = eval(input(\"Enter any Number:\"))\n",
    "    print(math.log(in_num))\n",
    "\n",
    "genNLog()"
   ]
  },
  {
   "cell_type": "markdown",
   "id": "0158da7d",
   "metadata": {},
   "source": [
    "**5. Write a Python Program for Cube sum of first n Natural Numbers ?**"
   ]
  },
  {
   "cell_type": "code",
   "execution_count": 12,
   "id": "70a3a203",
   "metadata": {},
   "outputs": [
    {
     "name": "stdout",
     "output_type": "stream",
     "text": [
      "Enter the no of Natural Numbers: 25\n",
      "The Cube Sum of First 25 Natural Numbers is ->> 105625.0\n"
     ]
    }
   ],
   "source": [
    "def cubeNaturalNumbers():\n",
    "    in_num = int(input(\"Enter the no of Natural Numbers: \"))\n",
    "    result = pow(((in_num * (in_num +1))/2),2)\n",
    "    print(f'The Cube Sum of First {in_num} Natural Numbers is ->> {result}')\n",
    "\n",
    "cubeNaturalNumbers()"
   ]
  },
  {
   "cell_type": "code",
   "execution_count": null,
   "id": "69645a3d",
   "metadata": {},
   "outputs": [],
   "source": []
  }
 ],
 "metadata": {
  "kernelspec": {
   "display_name": "Python 3",
   "language": "python",
   "name": "python3"
  },
  "language_info": {
   "codemirror_mode": {
    "name": "ipython",
    "version": 3
   },
   "file_extension": ".py",
   "mimetype": "text/x-python",
   "name": "python",
   "nbconvert_exporter": "python",
   "pygments_lexer": "ipython3",
   "version": "3.8.8"
  }
 },
 "nbformat": 4,
 "nbformat_minor": 5
}

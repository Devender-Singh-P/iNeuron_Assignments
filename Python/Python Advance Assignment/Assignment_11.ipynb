{
 "cells": [
  {
   "cell_type": "markdown",
   "id": "723930b8",
   "metadata": {},
   "source": [
    "**1. What is the concept of a metaclass ?**"
   ]
  },
  {
   "cell_type": "markdown",
   "id": "11489fdc",
   "metadata": {},
   "source": [
    "Metaclass in Python is a class of a class that defines how a class behaves. A class is itself an instance of Metaclass, and any instance of class in Python is an instance of type metaclass.  \n",
    "Ex. Type of of `int`, `str`, `float`, `list`, `tuple` and many more is of metaclass type. "
   ]
  },
  {
   "cell_type": "markdown",
   "id": "fb69baf3",
   "metadata": {},
   "source": [
    "**2. What is the best way to declare a class's metaclass ?**"
   ]
  },
  {
   "cell_type": "markdown",
   "id": "a7c66d6f",
   "metadata": {},
   "source": [
    "A way to declare a class’ metaclass is by using *`metaclass`* keyword in class definition."
   ]
  },
  {
   "cell_type": "code",
   "execution_count": 4,
   "id": "e1a13053",
   "metadata": {},
   "outputs": [
    {
     "name": "stdout",
     "output_type": "stream",
     "text": [
      "<class 'type'>\n",
      "<class '__main__.meta_class1'>\n"
     ]
    }
   ],
   "source": [
    "class meta_class1(type):\n",
    "    pass\n",
    "class meta_class2(metaclass = meta_class1):\n",
    "    pass\n",
    "print(type(meta_class1))\n",
    "print(type(meta_class2))"
   ]
  },
  {
   "cell_type": "markdown",
   "id": "b98ca49e",
   "metadata": {},
   "source": [
    "**3. How do class decorators overlap with metaclasses for handling classes ?**"
   ]
  },
  {
   "cell_type": "markdown",
   "id": "938e3147",
   "metadata": {},
   "source": [
    "Anything you can do with a class decorator, you can of course do with a custom metaclasses ( just apply the functionality of the \"decorator function\", i.e., the one that takes a class object and modifies it, in the course of the metaclass's *`__new__`* or *`__init__`* that make the class object)."
   ]
  },
  {
   "cell_type": "markdown",
   "id": "095d4aba",
   "metadata": {},
   "source": [
    "**4. How do class decorators overlap with metaclasses for handling instances ?** "
   ]
  },
  {
   "cell_type": "markdown",
   "id": "3f57ffac",
   "metadata": {},
   "source": [
    "Anything you can do with a class decorator, you can of course do with a custom metaclass (just apply the functionality of the \"decorator function\", i.e., the one that takes a class object and modifies it, in the course of the metaclass's *`__new__`* or *`__init__`* that make the class object!)."
   ]
  }
 ],
 "metadata": {
  "kernelspec": {
   "display_name": "Python 3",
   "language": "python",
   "name": "python3"
  },
  "language_info": {
   "codemirror_mode": {
    "name": "ipython",
    "version": 3
   },
   "file_extension": ".py",
   "mimetype": "text/x-python",
   "name": "python",
   "nbconvert_exporter": "python",
   "pygments_lexer": "ipython3",
   "version": "3.8.8"
  }
 },
 "nbformat": 4,
 "nbformat_minor": 5
}

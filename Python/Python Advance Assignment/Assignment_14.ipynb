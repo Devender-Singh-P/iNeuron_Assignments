{
 "cells": [
  {
   "cell_type": "markdown",
   "id": "9578d09e",
   "metadata": {},
   "source": [
    "**1. Is an assignment operator like += only for show? Is it possible that it would lead to faster results at the runtime ?**"
   ]
  },
  {
   "cell_type": "markdown",
   "id": "642bede4",
   "metadata": {},
   "source": [
    "*`n=n+1`* evaluates to finding `n`, adding 1 to it. Then storing the value again in variable `n`. This expression makes Python to look for memory holder of a twice. But `n+=1` simply means value of `n` is to incremented by 1. As memory address has to be identified once, `+=` leads to faster operation. "
   ]
  },
  {
   "cell_type": "markdown",
   "id": "946af6fe",
   "metadata": {},
   "source": [
    "**2. What is the smallest no of statements you'd have to write in most programming languages to replace the Python expr *`a, b = a + b, a`* ?**"
   ]
  },
  {
   "cell_type": "markdown",
   "id": "edf5ed8a",
   "metadata": {},
   "source": [
    "Minimum number of lines required to write above code in languages other Python will be 4, two for assigning initial values for variables `a` and `b`, and two for reassignment i.e. `a=a+b` and `b=a`. "
   ]
  },
  {
   "cell_type": "markdown",
   "id": "122b9aa6",
   "metadata": {},
   "source": [
    "**3. In Python, what is the most effective way to set a list of 100 integers to 0 ?**"
   ]
  },
  {
   "cell_type": "markdown",
   "id": "97a99e30",
   "metadata": {},
   "source": [
    "The most effective way to set a list of 100 integers to 0 in python is by using repition operator(`*`) or by using list comprehension."
   ]
  },
  {
   "cell_type": "code",
   "execution_count": 5,
   "id": "a7c86339",
   "metadata": {},
   "outputs": [
    {
     "name": "stdout",
     "output_type": "stream",
     "text": [
      "[0, 0, 0, 0, 0, 0, 0, 0, 0, 0, 0, 0, 0, 0, 0, 0, 0, 0, 0, 0, 0, 0, 0, 0, 0, 0, 0, 0, 0, 0, 0, 0, 0, 0, 0, 0, 0, 0, 0, 0, 0, 0, 0, 0, 0, 0, 0, 0, 0, 0, 0, 0, 0, 0, 0, 0, 0, 0, 0, 0, 0, 0, 0, 0, 0, 0, 0, 0, 0, 0, 0, 0, 0, 0, 0, 0, 0, 0, 0, 0, 0, 0, 0, 0, 0, 0, 0, 0, 0, 0, 0, 0, 0, 0, 0, 0, 0, 0, 0, 0]\n",
      "[0, 0, 0, 0, 0, 0, 0, 0, 0, 0, 0, 0, 0, 0, 0, 0, 0, 0, 0, 0, 0, 0, 0, 0, 0, 0, 0, 0, 0, 0, 0, 0, 0, 0, 0, 0, 0, 0, 0, 0, 0, 0, 0, 0, 0, 0, 0, 0, 0, 0, 0, 0, 0, 0, 0, 0, 0, 0, 0, 0, 0, 0, 0, 0, 0, 0, 0, 0, 0, 0, 0, 0, 0, 0, 0, 0, 0, 0, 0, 0, 0, 0, 0, 0, 0, 0, 0, 0, 0, 0, 0, 0, 0, 0, 0, 0, 0, 0, 0, 0]\n"
     ]
    }
   ],
   "source": [
    "# Method 1\n",
    "list_zero=[0]*100\n",
    "print(list_zero)\n",
    "\n",
    "# Method 2\n",
    "zero_list = [0 for x in range(100)]\n",
    "print(zero_list)"
   ]
  },
  {
   "cell_type": "markdown",
   "id": "59d2dc95",
   "metadata": {},
   "source": [
    "**4. What is the most effective way to initialise a list of 99 integers that repeats the sequence 1, 2, 3? S If necessary, show step-by-step instructions on how to accomplish this.**"
   ]
  },
  {
   "cell_type": "code",
   "execution_count": 2,
   "id": "1431f7a8",
   "metadata": {},
   "outputs": [
    {
     "name": "stdout",
     "output_type": "stream",
     "text": [
      "[1, 2, 3, 1, 2, 3, 1, 2, 3, 1, 2, 3, 1, 2, 3, 1, 2, 3, 1, 2, 3, 1, 2, 3, 1, 2, 3, 1, 2, 3, 1, 2, 3, 1, 2, 3, 1, 2, 3, 1, 2, 3, 1, 2, 3, 1, 2, 3, 1, 2, 3, 1, 2, 3, 1, 2, 3, 1, 2, 3, 1, 2, 3, 1, 2, 3, 1, 2, 3, 1, 2, 3, 1, 2, 3, 1, 2, 3, 1, 2, 3, 1, 2, 3, 1, 2, 3, 1, 2, 3, 1, 2, 3, 1, 2, 3, 1, 2, 3]\n"
     ]
    }
   ],
   "source": [
    "my_list = [1,2,3]*33\n",
    "print(my_list)"
   ]
  },
  {
   "cell_type": "markdown",
   "id": "70c890ab",
   "metadata": {},
   "source": [
    "**5. If you're using IDLE to run a Python application, explain how to print a multidimensional list as efficiently ?**"
   ]
  },
  {
   "cell_type": "code",
   "execution_count": 6,
   "id": "7e38a603",
   "metadata": {},
   "outputs": [
    {
     "name": "stdout",
     "output_type": "stream",
     "text": [
      "1 2 2 3 3 4 4 5 5 6 "
     ]
    }
   ],
   "source": [
    "my_list = [[1,2],[2,3],[3,4],[4,5],[5,6]]   # 2 dimensional List\n",
    "for x in range(len(my_list)):\n",
    "    for y in range(len(my_list[x])):\n",
    "        print(my_list[x][y],end=\" \")"
   ]
  },
  {
   "cell_type": "markdown",
   "id": "06a13f59",
   "metadata": {},
   "source": [
    "**6. Is it possible to use list comprehension with a string? If so, how can you go about doing it ?**"
   ]
  },
  {
   "cell_type": "markdown",
   "id": "1b0c598e",
   "metadata": {},
   "source": [
    "List comprehension with string is possible."
   ]
  },
  {
   "cell_type": "code",
   "execution_count": 7,
   "id": "157a00f7",
   "metadata": {},
   "outputs": [
    {
     "name": "stdout",
     "output_type": "stream",
     "text": [
      "['A', 'r', 't', 'i', 'f', 'i', 'C', 'i', 'a', 'l']\n"
     ]
    }
   ],
   "source": [
    "my_list = [ele for ele in 'ArtifiCial']\n",
    "print(my_list)"
   ]
  },
  {
   "cell_type": "markdown",
   "id": "d2f17419",
   "metadata": {},
   "source": [
    "**7. From the command line, how do you get support with a user-written Python programme? Is this possible from inside IDLE ?**"
   ]
  },
  {
   "cell_type": "markdown",
   "id": "80883d2f",
   "metadata": {},
   "source": [
    "`Get support with a user-written Python Programme:`\n",
    "Start a command prompt (Windows) or terminal window (Linux/Mac). If the current working directory is the same as the location in which you saved the file, you can simply specify the filename as a command-line argument to the Python interpreter. \n",
    "\n",
    "`Get support with a User-written Python Program from IDLE:`\n",
    "You can also create script files and run them in IDLE. From the Shell window menu, select **`File → New File`**. That should open an additional editing window. Type in the code to be executed. From the menu in that window, **`select File → Save or File → Save As…`** and save the file to disk. Then **`select Run → Run Module`**. The output should appear back in the interpreter"
   ]
  },
  {
   "cell_type": "markdown",
   "id": "1c0fde3d",
   "metadata": {},
   "source": [
    "**8. Functions are said to be “first-class objects” in Python but not in most other languages, such as C++ or Java. What can you do in Python with a function (callable object) that you can't do in C or C++ ?** "
   ]
  },
  {
   "cell_type": "markdown",
   "id": "524994b9",
   "metadata": {},
   "source": [
    "The tasks which can be performed with the functions in python are: \n",
    "- A function is an instance of the Object type.\n",
    "- You can store the function in a variable. \n",
    "- You can pass the function as a parameter to another function.\n",
    "- You can return the function from a function.\n",
    "- You can store them in data structures such as hash tables, lists, "
   ]
  },
  {
   "cell_type": "markdown",
   "id": "055defb9",
   "metadata": {},
   "source": [
    "**9. How do you distinguish between a wrapper, a wrapped feature, and a decorator ?**"
   ]
  },
  {
   "cell_type": "markdown",
   "id": "05b83463",
   "metadata": {},
   "source": [
    "Wrappers Around the functions are known as Decrators."
   ]
  },
  {
   "cell_type": "markdown",
   "id": "fdd20aed",
   "metadata": {},
   "source": [
    "**10. If a function is a generator function, what does it return ?**"
   ]
  },
  {
   "cell_type": "markdown",
   "id": "20f9a8cc",
   "metadata": {},
   "source": [
    "Generator functions are a special kind of function that return a *`lazy iterator`*. These are objects that you can loop over like a list. However, unlike lists, lazy iterators do not store their contents in memory."
   ]
  },
  {
   "cell_type": "markdown",
   "id": "98c75146",
   "metadata": {},
   "source": [
    "**11. What is the one improvement that must be made to a function in order for it to become a generator function in the Python language ?**"
   ]
  },
  {
   "cell_type": "markdown",
   "id": "03ee7d27",
   "metadata": {},
   "source": [
    "Generator is a written as normal function but uses **`yield`** keyword to return values instead of **`return`** keyword."
   ]
  },
  {
   "cell_type": "markdown",
   "id": "25599c95",
   "metadata": {},
   "source": [
    "**12. Identify at least one benefit of generators.**"
   ]
  },
  {
   "cell_type": "markdown",
   "id": "ceae1939",
   "metadata": {},
   "source": [
    "*`return`* statement sends a specified value back to its caller whereas *`yield`* statment can produce a sequence of values. We should use generator when we want to iterate over a sequence, but don’t want to store the entire sequence in memory."
   ]
  }
 ],
 "metadata": {
  "kernelspec": {
   "display_name": "Python 3",
   "language": "python",
   "name": "python3"
  },
  "language_info": {
   "codemirror_mode": {
    "name": "ipython",
    "version": 3
   },
   "file_extension": ".py",
   "mimetype": "text/x-python",
   "name": "python",
   "nbconvert_exporter": "python",
   "pygments_lexer": "ipython3",
   "version": "3.8.8"
  }
 },
 "nbformat": 4,
 "nbformat_minor": 5
}

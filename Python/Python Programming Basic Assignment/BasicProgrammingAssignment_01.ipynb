{
 "cells": [
  {
   "cell_type": "markdown",
   "metadata": {},
   "source": [
    "**1.Write a Python program to print 'Hello Python' ?**"
   ]
  },
  {
   "cell_type": "code",
   "execution_count": 1,
   "metadata": {},
   "outputs": [
    {
     "name": "stdout",
     "output_type": "stream",
     "text": [
      "Hello Python\n"
     ]
    }
   ],
   "source": [
    "print('Hello Python')"
   ]
  },
  {
   "cell_type": "markdown",
   "metadata": {},
   "source": [
    "**2.Write a Python program to do arithmetic operations addition and division ?**"
   ]
  },
  {
   "cell_type": "code",
   "execution_count": 2,
   "metadata": {},
   "outputs": [
    {
     "name": "stdout",
     "output_type": "stream",
     "text": [
      "Select any Arithmetic Operation from following:         \n",
      "1.Addition(+)        \n",
      "2.Division(-)        \n",
      "2.Multiplication(*)        \n",
      "4.Division(/)        \n",
      "3.Stop(0)\n",
      "\n",
      "Enter a arithmetic operation -> -\n",
      "\n",
      "Enter 1st Number: 2\n",
      "Enter 2nd Number: 2\n",
      "2-2=0\n",
      "\n",
      "Enter a arithmetic operation -> 3\n",
      "Please enter a valid operator\n",
      "Enter a arithmetic operation -> 4\n",
      "Please enter a valid operator\n",
      "Enter a arithmetic operation -> +\n",
      "\n",
      "Enter 1st Number: 0\n",
      "Enter 2nd Number: 8\n",
      "0+8=8\n",
      "\n",
      "Enter a arithmetic operation -> 0\n",
      "Program Stopped successfully\n"
     ]
    }
   ],
   "source": [
    "import operator\n",
    "\n",
    "ops = { \"+\": operator.add, \"-\": operator.sub, \"*\":operator.mul, \"/\":operator.truediv } \n",
    "\n",
    "print('Select any Arithmetic Operation from following: \\\n",
    "        \\n1.Addition(+)\\\n",
    "        \\n2.Division(-)\\\n",
    "        \\n2.Multiplication(*)\\\n",
    "        \\n4.Division(/)\\\n",
    "        \\n3.Stop(0)\\n')\n",
    "   \n",
    "\n",
    "while True:\n",
    "    operator = input('Enter a arithmetic operation -> ')\n",
    "    if operator == '0':\n",
    "        print(\"Program Stopped successfully\")\n",
    "        break\n",
    "    elif operator not in ['+','-','*','/']:\n",
    "        print(\"Please enter a valid operator\")\n",
    "    else:\n",
    "        num_1 = int(input('\\nEnter 1st Number: '))\n",
    "        num_2 = int(input('Enter 2nd Number: '))\n",
    "        print('{}{}{}={}\\n'.format(num_1, operator, num_2, ops[operator](num_1,num_2)))\n"
   ]
  },
  {
   "cell_type": "markdown",
   "metadata": {},
   "source": [
    "**3.Write a Python program to find the area of a triangle ?**"
   ]
  },
  {
   "cell_type": "code",
   "execution_count": 3,
   "metadata": {},
   "outputs": [
    {
     "name": "stdout",
     "output_type": "stream",
     "text": [
      "Enter height of the triangle : 25\n",
      "Enter base of the triangle : 20\n",
      "\n",
      "Area of the triangle is -> 250.0\n"
     ]
    }
   ],
   "source": [
    "height = int(input('Enter height of the triangle : '))\n",
    "base = int(input('Enter base of the triangle : '))\n",
    "\n",
    "def Area_Triangle(height, base):\n",
    "    print('\\nArea of the triangle is ->', 0.5*height*base)\n",
    "\n",
    "Area_Triangle(height,base)"
   ]
  },
  {
   "cell_type": "markdown",
   "metadata": {},
   "source": [
    "**4. Write a Python program to swap two variables ?**"
   ]
  },
  {
   "cell_type": "code",
   "execution_count": 6,
   "metadata": {},
   "outputs": [
    {
     "name": "stdout",
     "output_type": "stream",
     "text": [
      "Enter First No.: 58\n",
      "Enter Second No.: 383\n",
      "Before swapping, numbers are ->  58 383\n",
      "After swapping, numbers are ->  383 58\n"
     ]
    }
   ],
   "source": [
    "num_1 = int(input(\"Enter First No.: \"))\n",
    "num_2 = int(input(\"Enter Second No.: \"))\n",
    "\n",
    "def SwapNumbers(a,b):\n",
    "    temp = a\n",
    "    a = b\n",
    "    b = temp\n",
    "    return a,b\n",
    "\n",
    "print('Before swapping, numbers are -> ',num_1, num_2)\n",
    "num_1, num_2 = SwapNumbers(num_1, num_2)\n",
    "print('After swapping, numbers are -> ',num_1,num_2)\n",
    "\n",
    "   "
   ]
  },
  {
   "cell_type": "markdown",
   "metadata": {},
   "source": [
    "**5. Write a Python program to generate a random number ?**"
   ]
  },
  {
   "cell_type": "code",
   "execution_count": 7,
   "metadata": {},
   "outputs": [
    {
     "name": "stdout",
     "output_type": "stream",
     "text": [
      "Random number generated is ->  29799\n",
      "Random number generated is ->  32\n"
     ]
    }
   ],
   "source": [
    "from random import randint\n",
    "\n",
    "def gen_random_No(start=0, end=100000):\n",
    "    print('Random number generated is -> ',randint(start,end))\n",
    "\n",
    "# Generating random numbers without arguments    \n",
    "gen_random_No()\n",
    "\n",
    "# Generating random numbers with arguments    \n",
    "gen_random_No(0,100)"
   ]
  },
  {
   "cell_type": "code",
   "execution_count": null,
   "metadata": {},
   "outputs": [],
   "source": []
  }
 ],
 "metadata": {
  "kernelspec": {
   "display_name": "Python 3",
   "language": "python",
   "name": "python3"
  },
  "language_info": {
   "codemirror_mode": {
    "name": "ipython",
    "version": 3
   },
   "file_extension": ".py",
   "mimetype": "text/x-python",
   "name": "python",
   "nbconvert_exporter": "python",
   "pygments_lexer": "ipython3",
   "version": "3.8.8"
  }
 },
 "nbformat": 4,
 "nbformat_minor": 4
}

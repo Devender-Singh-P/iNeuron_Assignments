{
 "cells": [
  {
   "cell_type": "markdown",
   "id": "2d591ebd",
   "metadata": {},
   "source": [
    "**1. Write a Python Program to Add two Matrices ?**"
   ]
  },
  {
   "cell_type": "code",
   "execution_count": 4,
   "id": "6dd2fd5c",
   "metadata": {},
   "outputs": [
    {
     "name": "stdout",
     "output_type": "stream",
     "text": [
      "Inputs: [[1, 2, 3], [4, 5, 6], [7, 8, 9]],[[10, 11, 12], [13, 14, 15], [3, 5, 2]]\n",
      "Output: [[11, 13, 15], [17, 19, 21], [10, 13, 11]]\n",
      "Inputs: [[2, 4, 5], [1, 1, 1], [3, 4, 5]],[[4, 3, 5], [1, 2, 3], [13, 14, 15]]\n",
      "Output: [[6, 7, 10], [2, 3, 4], [16, 18, 20]]\n"
     ]
    }
   ],
   "source": [
    "def addMatrices(a,b):\n",
    "    print(f'Inputs: {a},{b}')\n",
    "    if len(a) == len(b):\n",
    "        out_matrix = []\n",
    "        for ele in range(len(a)):\n",
    "            if len(a[ele]) == len(b[ele]):\n",
    "                out_matrix.append([])\n",
    "                for sub_ele in range(len(a[ele])):\n",
    "                    out_matrix[ele].append(a[ele][sub_ele]+b[ele][sub_ele])\n",
    "            else:\n",
    "                print('Both Matrices must contain same no of rows and columns') \n",
    "    else:\n",
    "        print('Both Matrices must contain same no of rows and columns')\n",
    "    print(f'Output: {out_matrix}')\n",
    "\n",
    "addMatrices([[1,2,3],[4,5,6],[7,8,9]],[[10,11,12],[13,14,15],[3,5,2]])\n",
    "addMatrices([[2,4,5],[1,1,1],[3,4,5]],[[4,3,5],[1,2,3],[13,14,15]])"
   ]
  },
  {
   "cell_type": "markdown",
   "id": "efef4d37",
   "metadata": {},
   "source": [
    "**2. Write a Python Program to Multiply two Matrices ?**"
   ]
  },
  {
   "cell_type": "code",
   "execution_count": 6,
   "id": "e5c57cb3",
   "metadata": {},
   "outputs": [
    {
     "name": "stdout",
     "output_type": "stream",
     "text": [
      "[[25, 19, 13], [36, 27, 20], [58, 43, 34]]\n"
     ]
    }
   ],
   "source": [
    "a = [[1,2,3],[2,3,4],[4,5,6]]\n",
    "b = [[2,1,3],[4,3,2],[5,4,2]]\n",
    "\n",
    "def multiply_matrice(a,b):\n",
    "    output = []\n",
    "    if len(a[0]) == len(b):\n",
    "        for ele in range(len(a[0])):\n",
    "            output.append([0 for ele in range(len(b[0]))])\n",
    "        for i in range(len(a)):\n",
    "            for j in range(len(b[0])):\n",
    "                for k in range(len(b)):\n",
    "                    output[i][j] += a[i][k]*b[k][j]\n",
    "        print(output)     \n",
    "    else:\n",
    "        print('Matrix Multiplication is Not Possible')\n",
    "        \n",
    "multiply_matrice(a,b)"
   ]
  },
  {
   "cell_type": "markdown",
   "id": "dc35a7b7",
   "metadata": {},
   "source": [
    "**3. Write a Python Program to transpose a Matrix ?**"
   ]
  },
  {
   "cell_type": "code",
   "execution_count": 7,
   "id": "08afb7ff",
   "metadata": {},
   "outputs": [
    {
     "name": "stdout",
     "output_type": "stream",
     "text": [
      "[[1, 2, 3], [2, 3, 4], [4, 5, 6]] -> [[1, 2, 4], [2, 3, 5], [3, 4, 6]]\n",
      "[[2, 1], [4, 3], [5, 4]] -> [[2, 4, 5], [1, 3, 4]]\n",
      "[[1, 2, 3], [4, 5, 6]] -> [[1, 4], [2, 5], [3, 6]]\n"
     ]
    }
   ],
   "source": [
    "a = [[1,2,3],[2,3,4],[4,5,6]]\n",
    "b = [[2,1],[4,3],[5,4]]\n",
    "c = [[1,2,3],[4,5,6]]\n",
    "\n",
    "def generate_transpose(in_matrix):\n",
    "    out_matrix = []\n",
    "    for ele in range(len(in_matrix[0])):\n",
    "        out_matrix.append([0 for i in range(len(in_matrix))])\n",
    "    for i in range(len(in_matrix)):\n",
    "        for j in range(len(in_matrix[i])):\n",
    "            out_matrix[j][i] = in_matrix[i][j]\n",
    "    print(f'{in_matrix} -> {out_matrix}')\n",
    "        \n",
    "generate_transpose(a)\n",
    "generate_transpose(b)\n",
    "generate_transpose(c)"
   ]
  },
  {
   "cell_type": "markdown",
   "id": "33de92a9",
   "metadata": {},
   "source": [
    "**4. Write a Python Program to sort Words in an Alphabatical Order ?**"
   ]
  },
  {
   "cell_type": "code",
   "execution_count": 9,
   "id": "d6e5de3d",
   "metadata": {},
   "outputs": [
    {
     "name": "stdout",
     "output_type": "stream",
     "text": [
      "Enter any String: FSDS program at iNeuron\n",
      "At Fsds Ineuron Program\n"
     ]
    }
   ],
   "source": [
    "def sortString():\n",
    "    in_string = input(\"Enter any String: \").title()\n",
    "    sorted_list = sorted(in_string.split(' '))\n",
    "    print(' '.join(sorted_list))\n",
    "\n",
    "sortString()"
   ]
  },
  {
   "cell_type": "markdown",
   "id": "0ba08a7a",
   "metadata": {},
   "source": [
    "**5. Write a Python Program to remove Punctuations From a String ?**"
   ]
  },
  {
   "cell_type": "code",
   "execution_count": 10,
   "id": "08c0196d",
   "metadata": {},
   "outputs": [
    {
     "name": "stdout",
     "output_type": "stream",
     "text": [
      "Enter any String: DS & ML @ iNeuron \n",
      "DS  ML  iNeuron \n"
     ]
    }
   ],
   "source": [
    "def removePunctuatuion():\n",
    "    punctuations = '''!()-[]{};:'\"\\,<>./?@#$%^&*_~'''\n",
    "    in_string = input('Enter any String: ')\n",
    "    out_string = ''\n",
    "    for ele in in_string:\n",
    "        if ele not in punctuations:\n",
    "            out_string += ele\n",
    "    print(out_string)\n",
    "    \n",
    "removePunctuatuion()"
   ]
  },
  {
   "cell_type": "code",
   "execution_count": null,
   "id": "8974e82a",
   "metadata": {},
   "outputs": [],
   "source": []
  }
 ],
 "metadata": {
  "kernelspec": {
   "display_name": "Python 3",
   "language": "python",
   "name": "python3"
  },
  "language_info": {
   "codemirror_mode": {
    "name": "ipython",
    "version": 3
   },
   "file_extension": ".py",
   "mimetype": "text/x-python",
   "name": "python",
   "nbconvert_exporter": "python",
   "pygments_lexer": "ipython3",
   "version": "3.8.8"
  }
 },
 "nbformat": 4,
 "nbformat_minor": 5
}

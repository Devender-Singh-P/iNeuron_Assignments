{
 "cells": [
  {
   "cell_type": "markdown",
   "id": "5dfd777b",
   "metadata": {},
   "source": [
    "**1. Write a Python program to Extract Unique values dictionary values ?**"
   ]
  },
  {
   "cell_type": "code",
   "execution_count": 1,
   "id": "8cfece02",
   "metadata": {},
   "outputs": [
    {
     "name": "stdout",
     "output_type": "stream",
     "text": [
      "dict_values(['one', 'two', 'three', 'four', 'five', 'six'])\n",
      "Unique Values: ['two', 'one', 'six', 'four', 'five', 'three']\n"
     ]
    }
   ],
   "source": [
    "in_dict = {1:'one',2:'two',3:'three',4:'four',5:'five',6:'six'}\n",
    "print(in_dict.values())\n",
    "print(f'Unique Values: {list(set(in_dict.values()))}')"
   ]
  },
  {
   "cell_type": "markdown",
   "id": "ca479dd5",
   "metadata": {},
   "source": [
    "**2. Write a Python program to find the sum of all items in a dictionary ?**"
   ]
  },
  {
   "cell_type": "code",
   "execution_count": 2,
   "id": "33738c60",
   "metadata": {},
   "outputs": [
    {
     "name": "stdout",
     "output_type": "stream",
     "text": [
      "Sum of items of dictionary :  1090\n"
     ]
    }
   ],
   "source": [
    "in_dict = {'Pencil':20,'Book1':800,'Pen':30,'Book2':40,'Book3':200}\n",
    "print('Sum of items of dictionary : ', sum(in_dict.values()))"
   ]
  },
  {
   "cell_type": "markdown",
   "id": "2f2ebdde",
   "metadata": {},
   "source": [
    "**3.Write a Python program to Merging two Dictionaries ?**"
   ]
  },
  {
   "cell_type": "code",
   "execution_count": 3,
   "id": "059056dd",
   "metadata": {},
   "outputs": [
    {
     "name": "stdout",
     "output_type": "stream",
     "text": [
      "{'program_name': 'FSDS', 'program_details': ['Data Science', 'Machine Learning']}\n"
     ]
    }
   ],
   "source": [
    "course_details = {\n",
    "    'program_name':'FSDS'\n",
    "}\n",
    "instructors = {\n",
    "    'program_details':['Data Science','Machine Learning']\n",
    "}\n",
    "course_details.update(instructors)\n",
    "print(course_details)"
   ]
  },
  {
   "cell_type": "markdown",
   "id": "48dc0d64",
   "metadata": {},
   "source": [
    "**4. Write a Python program to convert key-values list to flat dictionary ?** "
   ]
  },
  {
   "cell_type": "code",
   "execution_count": 4,
   "id": "55139b2d",
   "metadata": {},
   "outputs": [
    {
     "data": {
      "text/plain": [
       "{'A': 10,\n",
       " 'B': 20,\n",
       " 'C': 30,\n",
       " 'D': 40,\n",
       " 'E': 50,\n",
       " 'F': 60,\n",
       " 'G': 70,\n",
       " 'H': 80,\n",
       " 'I': 90,\n",
       " 'J': 100}"
      ]
     },
     "execution_count": 4,
     "metadata": {},
     "output_type": "execute_result"
    }
   ],
   "source": [
    "in_list = [('A',10),('B',20),('C',30),('D',40),('E',50),('F',60),('G',70),('H',80),('I',90),('J',100)]\n",
    "\n",
    "# Method #1\n",
    "dict(in_list)\n",
    "\n"
   ]
  },
  {
   "cell_type": "code",
   "execution_count": 5,
   "id": "711b16f1",
   "metadata": {},
   "outputs": [
    {
     "name": "stdout",
     "output_type": "stream",
     "text": [
      "{'A': 10, 'B': 20, 'C': 30, 'D': 40, 'E': 50, 'F': 60, 'G': 70, 'H': 80, 'I': 90, 'J': 100}\n"
     ]
    }
   ],
   "source": [
    "# Method #2\n",
    "out_dict = {}\n",
    "for ele in in_list:\n",
    "    out_dict[ele[0]] = ele[1]\n",
    "print(out_dict)"
   ]
  },
  {
   "cell_type": "markdown",
   "id": "1d320d24",
   "metadata": {},
   "source": [
    "**5. Write a Python program to insertion at the beginning in OrderedDict ?**"
   ]
  },
  {
   "cell_type": "code",
   "execution_count": 7,
   "id": "b28845f5",
   "metadata": {},
   "outputs": [
    {
     "name": "stdout",
     "output_type": "stream",
     "text": [
      "dict_one OrderedDict([('Apple', 'Iphone'), ('Microsoft', 'Windows'), ('Google', 'chrome')])\n",
      "dict_one OrderedDict([('Apple', 'Iphone'), ('Microsoft', 'Windows'), ('Google', 'chrome'), ('iNeuron', 'FSDS')])\n",
      "dict_one OrderedDict([('iNeuron', 'FSDS'), ('Apple', 'Iphone'), ('Microsoft', 'Windows'), ('Google', 'chrome')])\n"
     ]
    }
   ],
   "source": [
    "from collections import OrderedDict\n",
    "dict_one = OrderedDict({'Apple':'Iphone','Microsoft':'Windows','Google':'chrome'})\n",
    "print('dict_one',dict_one)\n",
    "dict_two = {'iNeuron':'FSDS'}\n",
    "dict_one.update(dict_two)\n",
    "print('dict_one',dict_one)\n",
    "dict_one.move_to_end('iNeuron',last=False)\n",
    "print('dict_one',dict_one)"
   ]
  },
  {
   "cell_type": "markdown",
   "id": "a9262d4a",
   "metadata": {},
   "source": [
    "**6. Write a Python program to check order of character in string using OrderedDict() ?**"
   ]
  },
  {
   "cell_type": "code",
   "execution_count": 14,
   "id": "cc023a52",
   "metadata": {},
   "outputs": [
    {
     "name": "stdout",
     "output_type": "stream",
     "text": [
      "{'a': 100, 'f': 2000, 'd': 300, 'c': 500, 'b': 600, 'e': 700}\n",
      "OrderedDict([('a', 100), ('b', 600), ('c', 500), ('d', 300), ('e', 700), ('f', 2000)])\n"
     ]
    }
   ],
   "source": [
    "from collections import OrderedDict\n",
    "\n",
    "initial_list = {'a': 100, 'f': 2000, 'd': 300, 'c': 500, 'b': 600, 'e': 700}\n",
    "print(initial_list)\n",
    "\n",
    "final_list = OrderedDict(dict(sorted(initial_list.items())))\n",
    "print(final_list)"
   ]
  },
  {
   "cell_type": "markdown",
   "id": "00e77a00",
   "metadata": {},
   "source": [
    "**7. Write a Python program to sort Python Dictionaries by Key or Value ?**"
   ]
  },
  {
   "cell_type": "code",
   "execution_count": 15,
   "id": "799ba84a",
   "metadata": {},
   "outputs": [
    {
     "name": "stdout",
     "output_type": "stream",
     "text": [
      "{'Book1': 100, 'Book2': 22, 'Book3': 60, 'Book4': 13}\n",
      "{'Book4': 13, 'Book2': 22, 'Book3': 60, 'Book1': 100}\n"
     ]
    }
   ],
   "source": [
    "d_items = {'Book1':100,'Book2':22,'Book3':60,'Book4':13}\n",
    "\n",
    "def sort_dict(in_dict,sort_type):\n",
    "    if sort_type == 'key':\n",
    "        print(dict(sorted(in_dict.items(), key=lambda x:x[0], reverse=False)))\n",
    "    else:\n",
    "        print(dict(sorted(in_dict.items(), key=lambda x:x[1], reverse=False)))\n",
    "        \n",
    "sort_dict(d_items,'key')        \n",
    "sort_dict(d_items,'value')"
   ]
  },
  {
   "cell_type": "code",
   "execution_count": null,
   "id": "02011d7c",
   "metadata": {},
   "outputs": [],
   "source": []
  }
 ],
 "metadata": {
  "kernelspec": {
   "display_name": "Python 3",
   "language": "python",
   "name": "python3"
  },
  "language_info": {
   "codemirror_mode": {
    "name": "ipython",
    "version": 3
   },
   "file_extension": ".py",
   "mimetype": "text/x-python",
   "name": "python",
   "nbconvert_exporter": "python",
   "pygments_lexer": "ipython3",
   "version": "3.8.8"
  }
 },
 "nbformat": 4,
 "nbformat_minor": 5
}

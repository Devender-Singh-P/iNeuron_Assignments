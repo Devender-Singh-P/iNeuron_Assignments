{
 "cells": [
  {
   "cell_type": "markdown",
   "id": "f1396497",
   "metadata": {},
   "source": [
    "**1. Write a Python Program to find sum of elements in a list ?**"
   ]
  },
  {
   "cell_type": "code",
   "execution_count": 3,
   "id": "1fbea5b2",
   "metadata": {},
   "outputs": [
    {
     "name": "stdout",
     "output_type": "stream",
     "text": [
      "Enter the No of Entries in a List : 8\n",
      "Enter a element: 5\n",
      "Enter a element: 4\n",
      "Enter a element: 3\n",
      "Enter a element: 2\n",
      "Enter a element: 2\n",
      "Enter a element: 6\n",
      "Enter a element: 7\n",
      "Enter a element: 78\n",
      "Sum of Elements: 107\n"
     ]
    }
   ],
   "source": [
    "def sumofList():\n",
    "    in_ele = int(input('Enter the No of Entries in a List : '))\n",
    "    in_list = []\n",
    "    for itr in range(in_ele):\n",
    "        in_list.append(int(input('Enter a element: ')))\n",
    "    print(f'Sum of Elements: {sum(in_list)}')\n",
    "\n",
    "sumofList()"
   ]
  },
  {
   "cell_type": "markdown",
   "id": "0fb36939",
   "metadata": {},
   "source": [
    "**2. Write a Python Program to multiply all numbers in the list ?**"
   ]
  },
  {
   "cell_type": "code",
   "execution_count": 8,
   "id": "d77e77e6",
   "metadata": {},
   "outputs": [
    {
     "name": "stdout",
     "output_type": "stream",
     "text": [
      "Enter No of Entries in a List : 5\n",
      "Enter a element: 2\n",
      "Enter a element: 3\n",
      "Enter a element: 4\n",
      "Enter a element: 6\n",
      "Enter a element: 8\n",
      "Required product is : 1152\n"
     ]
    }
   ],
   "source": [
    "def multofList():\n",
    "    in_ele = int(input('Enter No of Entries in a List : '))\n",
    "    in_list = []\n",
    "    mul = 1\n",
    "    for itr in range(in_ele):\n",
    "        in_list.append(int(input('Enter a element: ')))\n",
    "    for ele in in_list:\n",
    "        mul = mul * ele\n",
    "    print(f'Required product is : {mul}')\n",
    "\n",
    "\n",
    "multofList()"
   ]
  },
  {
   "cell_type": "markdown",
   "id": "ffe3dd4c",
   "metadata": {},
   "source": [
    "**3. Write a Python Program to find smallest number in the list ?**"
   ]
  },
  {
   "cell_type": "code",
   "execution_count": 10,
   "id": "3e9863eb",
   "metadata": {},
   "outputs": [
    {
     "name": "stdout",
     "output_type": "stream",
     "text": [
      "Enter No of elements in a list: 5\n",
      "Enter a Element: 34\n",
      "Enter a Element: 56\n",
      "Enter a Element: 3\n",
      "Enter a Element: 456\n",
      "Enter a Element: 76\n",
      "The Smallest Element in [34, 56, 3, 456, 76] is -> 3\n"
     ]
    }
   ],
   "source": [
    "def smallInList():\n",
    "    in_ele = int(input('Enter No of elements in a list: '))\n",
    "    in_list = []\n",
    "    for ele in range(in_ele):\n",
    "        in_list.append(int(input('Enter a Element: ')))\n",
    "    print(f'The Smallest Element in {in_list} is -> {sorted(in_list)[0]}')\n",
    "smallInList()"
   ]
  },
  {
   "cell_type": "markdown",
   "id": "c1c6c7e8",
   "metadata": {},
   "source": [
    "**4. Write a Python Program to find largest number in the list ?**"
   ]
  },
  {
   "cell_type": "code",
   "execution_count": 11,
   "id": "c1984a1c",
   "metadata": {},
   "outputs": [
    {
     "name": "stdout",
     "output_type": "stream",
     "text": [
      "Enter No of elements in a list: 10\n",
      "Enter any Element: 234\n",
      "Enter any Element: 45\n",
      "Enter any Element: 2342\n",
      "Enter any Element: 4\n",
      "Enter any Element: 6\n",
      "Enter any Element: 34\n",
      "Enter any Element: 454\n",
      "Enter any Element: 23423\n",
      "Enter any Element: 2\n",
      "Enter any Element: 2\n",
      "The Largest Element in [234, 45, 2342, 4, 6, 34, 454, 23423, 2, 2] is -> 23423\n"
     ]
    }
   ],
   "source": [
    "def largestInList():\n",
    "    in_ele = int(input('Enter No of elements in a list: '))\n",
    "    in_list = []\n",
    "    for ele in range(in_ele):\n",
    "        in_list.append(int(input('Enter any Element: ')))\n",
    "    print(f'The Largest Element in {in_list} is -> {sorted(in_list, reverse=True)[0]}')\n",
    "\n",
    "largestInList()"
   ]
  },
  {
   "cell_type": "markdown",
   "id": "a3c88f4b",
   "metadata": {},
   "source": [
    "**5. Write a Python Program to find second largest number in the list ?**"
   ]
  },
  {
   "cell_type": "code",
   "execution_count": 13,
   "id": "ca2c5e29",
   "metadata": {},
   "outputs": [
    {
     "name": "stdout",
     "output_type": "stream",
     "text": [
      "Enter No of elements in a list: 5\n",
      "Enter any Element: 232\n",
      "Enter any Element: 343\n",
      "Enter any Element: 12\n",
      "Enter any Element: 45\n",
      "Enter any Element: 3\n",
      "The Second Largest Element in [232, 343, 12, 45, 3] is ->  232\n"
     ]
    }
   ],
   "source": [
    "def secondLargestInList():\n",
    "    in_ele = int(input('Enter No of elements in a list: '))\n",
    "    in_list = []\n",
    "    for ele in range(in_ele):\n",
    "        in_list.append(int(input('Enter any Element: ')))\n",
    "    print(f'The Second Largest Element in {in_list} is ->  {sorted(in_list, reverse=True)[1]}')\n",
    "\n",
    "secondLargestInList()"
   ]
  },
  {
   "cell_type": "markdown",
   "id": "6594564f",
   "metadata": {},
   "source": [
    "**6. Write a Python Program to find N largest elements in the list ?**"
   ]
  },
  {
   "cell_type": "code",
   "execution_count": 20,
   "id": "e2c518fa",
   "metadata": {},
   "outputs": [
    {
     "name": "stdout",
     "output_type": "stream",
     "text": [
      "Enter No of elements in a list: 12\n",
      "Enter a Element: 1\n",
      "Enter a Element: 2\n",
      "Enter a Element: 3\n",
      "Enter a Element: 4\n",
      "Enter a Element: 5\n",
      "Enter a Element: 6\n",
      "Enter a Element: 7\n",
      "Enter a Element: 8\n",
      "Enter a Element: 9\n",
      "Enter a Element: 10\n",
      "Enter a Element: 11\n",
      "Enter a Element: 12\n",
      "The 5 Largest Element in [1, 2, 3, 4, 5, 6, 7, 8, 9, 10, 11, 12] is ->  [12, 11, 10, 9, 8]\n"
     ]
    }
   ],
   "source": [
    "def nLargestInList(k):\n",
    "    in_ele = int(input('Enter No of elements in a list: '))\n",
    "    in_list = []\n",
    "    for ele in range(in_ele):\n",
    "        in_list.append(int(input('Enter a Element: ')))\n",
    "    print(f'The {k} Largest Element in {in_list} is ->  {sorted(in_list, reverse=True)[0:k]}')\n",
    "\n",
    "nLargestInList(5)"
   ]
  },
  {
   "cell_type": "markdown",
   "id": "5f2807cb",
   "metadata": {},
   "source": [
    "**7. Write a Python Program to find even numbers in the list ?**"
   ]
  },
  {
   "cell_type": "code",
   "execution_count": 22,
   "id": "e9b0d19a",
   "metadata": {},
   "outputs": [
    {
     "name": "stdout",
     "output_type": "stream",
     "text": [
      "Enter No of elements in a list : 5\n",
      "Enter any Element : 123\n",
      "Enter any Element : 34\n",
      "Enter any Element : 45\n",
      "Enter any Element : 56\n",
      "Enter any Element : 7\n",
      "The Even Elements in [123, 34, 45, 56, 7] are -> [34, 56]\n"
     ]
    }
   ],
   "source": [
    "def evenInList():\n",
    "    in_ele = int(input('Enter No of elements in a list : '))\n",
    "    in_list = []\n",
    "    even_list = []\n",
    "    for ele in range(in_ele):\n",
    "        in_list.append(int(input('Enter any Element : ')))\n",
    "    for ele in in_list:\n",
    "        if ele%2 == 0:\n",
    "            even_list.append(ele)\n",
    "    print(f'The Even Elements in {in_list} are -> {even_list}')\n",
    "\n",
    "evenInList()"
   ]
  },
  {
   "cell_type": "markdown",
   "id": "ab240a92",
   "metadata": {},
   "source": [
    "**8. Write a Python Program to find odd numbers in the list ?**"
   ]
  },
  {
   "cell_type": "code",
   "execution_count": 24,
   "id": "101d0718",
   "metadata": {},
   "outputs": [
    {
     "name": "stdout",
     "output_type": "stream",
     "text": [
      "Enter No of elements in a list: 5\n",
      "Enter Element: 23\n",
      "Enter Element: 45\n",
      "Enter Element: 6\n",
      "Enter Element: 7\n",
      "Enter Element: 87\n",
      "The Odd Elements in [23, 45, 6, 7, 87] are -> [23, 45, 7, 87]\n"
     ]
    }
   ],
   "source": [
    "def oddInList():\n",
    "    in_ele = int(input('Enter No of elements in a list: '))\n",
    "    in_list = []\n",
    "    odd_list = []\n",
    "    for ele in range(in_ele):\n",
    "        in_list.append(int(input('Enter Element: ')))\n",
    "    for ele in in_list:\n",
    "        if ele%2 != 0:\n",
    "            odd_list.append(ele)\n",
    "    print(f'The Odd Elements in {in_list} are -> {odd_list}')\n",
    "\n",
    "oddInList()"
   ]
  },
  {
   "cell_type": "markdown",
   "id": "8bafe9ef",
   "metadata": {},
   "source": [
    "**9.Write a Python Program to remove empty list from list ?**"
   ]
  },
  {
   "cell_type": "code",
   "execution_count": 30,
   "id": "193a2ef1",
   "metadata": {},
   "outputs": [
    {
     "name": "stdout",
     "output_type": "stream",
     "text": [
      "Enter all elements of the list: [[2,4,5,6,8],[],[45,4,4,7]]\n",
      "There is an Empty list in [[2, 4, 5, 6, 8], [], [45, 4, 4, 7]] at Position -> 1\n",
      "The List after removing [] is -> [[2, 4, 5, 6, 8], [45, 4, 4, 7]]\n"
     ]
    }
   ],
   "source": [
    "def checkEmptyList():\n",
    "    in_list = eval(input('Enter all elements of the list: '))\n",
    "    if [] in in_list:\n",
    "        print(f'There is an Empty list in {in_list} at Position -> {in_list.index([])}')\n",
    "        in_list.remove([])\n",
    "        print(f'The List after removing [] is -> {in_list}')\n",
    "    else:\n",
    "        print(f'There is no [] List in the list -> {in_list}')\n",
    "        \n",
    "checkEmptyList()"
   ]
  },
  {
   "cell_type": "markdown",
   "id": "85739cf0",
   "metadata": {},
   "source": [
    "**10.Write a Python Program to Cloning or Copying a list ?**"
   ]
  },
  {
   "cell_type": "code",
   "execution_count": 31,
   "id": "55882ca5",
   "metadata": {},
   "outputs": [
    {
     "name": "stdout",
     "output_type": "stream",
     "text": [
      "Enter any list[2,4,76,8,5]\n",
      "[2, 4, 76, 8, 5] 1952469025920\n",
      "[2, 4, 76, 8, 5] 1952470107392\n"
     ]
    }
   ],
   "source": [
    "import copy\n",
    "\n",
    "def cloneList():\n",
    "    in_list = eval(input('Enter any list'))\n",
    "    print(in_list, id(in_list))\n",
    "    cloned_list = in_list.copy()\n",
    "    print(cloned_list, id(cloned_list))\n",
    "\n",
    "cloneList()"
   ]
  },
  {
   "cell_type": "raw",
   "id": "05720535",
   "metadata": {},
   "source": [
    "11.Write a Python Program to count occurences of an element in a list ?"
   ]
  },
  {
   "cell_type": "code",
   "execution_count": 33,
   "id": "8a5e7b52",
   "metadata": {},
   "outputs": [
    {
     "name": "stdout",
     "output_type": "stream",
     "text": [
      "Enter elements of the list : [2,4,5,6,8,2,1,45,4,4,7]\n",
      "Enter element to find : 4\n",
      "There are 3 occurences of 4 in [2, 4, 5, 6, 8, 2, 1, 45, 4, 4, 7]\n"
     ]
    }
   ],
   "source": [
    "def Occurence():\n",
    "    in_list = eval(input('Enter elements of the list : '))\n",
    "    in_num = eval(input('Enter element to find : '))\n",
    "    count = 0\n",
    "    if in_num in in_list:\n",
    "        for ele in in_list:\n",
    "            if ele == in_num:\n",
    "                count = count+1\n",
    "    print(f'There are {count} occurences of {in_num} in {in_list}')\n",
    "    \n",
    "Occurence()"
   ]
  },
  {
   "cell_type": "code",
   "execution_count": null,
   "id": "28b453ee",
   "metadata": {},
   "outputs": [],
   "source": []
  }
 ],
 "metadata": {
  "kernelspec": {
   "display_name": "Python 3",
   "language": "python",
   "name": "python3"
  },
  "language_info": {
   "codemirror_mode": {
    "name": "ipython",
    "version": 3
   },
   "file_extension": ".py",
   "mimetype": "text/x-python",
   "name": "python",
   "nbconvert_exporter": "python",
   "pygments_lexer": "ipython3",
   "version": "3.8.8"
  }
 },
 "nbformat": 4,
 "nbformat_minor": 5
}

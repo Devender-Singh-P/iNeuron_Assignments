{
 "cells": [
  {
   "cell_type": "markdown",
   "id": "5145e816",
   "metadata": {},
   "source": [
    "**1. Add the current date to the text file today.txt as a string.**"
   ]
  },
  {
   "cell_type": "code",
   "execution_count": 3,
   "id": "4c5ad5ac",
   "metadata": {},
   "outputs": [
    {
     "name": "stdout",
     "output_type": "stream",
     "text": [
      "20-01-2022\n"
     ]
    }
   ],
   "source": [
    "import datetime\n",
    "# Code to Add current date to the today.txt file\n",
    "file = open('today.txt','w')\n",
    "file.write(datetime.datetime.now().strftime(\"%d-%m-%Y\"))\n",
    "file.close()\n",
    "# Code to Read current date from today.txt file\n",
    "file = open('today.txt','r')\n",
    "print(file.read())\n",
    "file.close()"
   ]
  },
  {
   "cell_type": "markdown",
   "id": "bced1625",
   "metadata": {},
   "source": [
    "**2. Read the text file today.txt into the string today_string .**"
   ]
  },
  {
   "cell_type": "code",
   "execution_count": 4,
   "id": "107143ea",
   "metadata": {},
   "outputs": [
    {
     "name": "stdout",
     "output_type": "stream",
     "text": [
      "20-01-2022\n"
     ]
    }
   ],
   "source": [
    "file = open('today.txt','r')\n",
    "today_string = file.read()\n",
    "print(today_string)"
   ]
  },
  {
   "cell_type": "markdown",
   "id": "9f7cdcaf",
   "metadata": {},
   "source": [
    "**3. Parse the date from today_string .**"
   ]
  },
  {
   "cell_type": "code",
   "execution_count": 5,
   "id": "c622da5b",
   "metadata": {},
   "outputs": [
    {
     "name": "stdout",
     "output_type": "stream",
     "text": [
      "2022-01-20 00:00:00\n"
     ]
    }
   ],
   "source": [
    "from datetime import datetime\n",
    "parsed_data = datetime.strptime(today_string, '%d-%m-%Y')\n",
    "print(parsed_data)"
   ]
  },
  {
   "cell_type": "markdown",
   "id": "841bd144",
   "metadata": {},
   "source": [
    "**4. List the files in your current directory .**"
   ]
  },
  {
   "cell_type": "code",
   "execution_count": 6,
   "id": "cbacd0e4",
   "metadata": {},
   "outputs": [
    {
     "name": "stdout",
     "output_type": "stream",
     "text": [
      "application_log.txt\n",
      "Assignment_01.ipynb\n",
      "Assignment_02.ipynb\n",
      "Assignment_03.ipynb\n",
      "Assignment_04.ipynb\n",
      "Assignment_05.ipynb\n",
      "Assignment_06.ipynb\n",
      "Assignment_07.ipynb\n",
      "Assignment_08.ipynb\n",
      "Assignment_09.ipynb\n",
      "Assignment_10.ipynb\n",
      "Assignment_11.ipynb\n",
      "Assignment_12.ipynb\n",
      "Assignment_13.ipynb\n",
      "Assignment_14.ipynb\n",
      "Assignment_15.ipynb\n",
      "Assignment_16.ipynb\n",
      "Assignment_17.ipynb\n",
      "Assignment_18.ipynb\n",
      "Assignment_19.ipynb\n",
      "Assignment_20.ipynb\n",
      "Assignment_21.ipynb\n",
      "Assignment_22.ipynb\n",
      "Assignment_23.ipynb\n",
      "Assignment_24.ipynb\n",
      "Assignment_25.ipynb\n",
      "books.csv\n",
      "books.db\n",
      "DepptDetails.csv\n",
      "test.txt\n",
      "today.txt\n",
      "Assignment 1-checkpoint.ipynb\n",
      "Assignment 2-checkpoint.ipynb\n",
      "Assignment 3-checkpoint.ipynb\n",
      "Assignment_01-checkpoint.ipynb\n",
      "Assignment_02-checkpoint.ipynb\n",
      "Assignment_03-checkpoint.ipynb\n",
      "Assignment_04-checkpoint.ipynb\n",
      "Assignment_05-checkpoint.ipynb\n",
      "Assignment_06-checkpoint.ipynb\n",
      "Assignment_07-checkpoint.ipynb\n",
      "Assignment_08-checkpoint.ipynb\n",
      "Assignment_09-checkpoint.ipynb\n",
      "Assignment_10-checkpoint.ipynb\n",
      "Assignment_11-checkpoint.ipynb\n",
      "Assignment_12-checkpoint.ipynb\n",
      "Assignment_13-checkpoint.ipynb\n",
      "Assignment_14-checkpoint.ipynb\n",
      "Assignment_15-checkpoint.ipynb\n",
      "Assignment_16-checkpoint.ipynb\n",
      "Assignment_17-checkpoint.ipynb\n",
      "Assignment_18-checkpoint.ipynb\n",
      "Assignment_19-checkpoint.ipynb\n",
      "Assignment_20-checkpoint.ipynb\n",
      "Assignment_21-checkpoint.ipynb\n",
      "Assignment_1.docx\n",
      "Assignment_10.docx\n",
      "Assignment_11.docx\n",
      "Assignment_12.docx\n",
      "Assignment_13.docx\n",
      "Assignment_14.docx\n",
      "Assignment_15.docx\n",
      "Assignment_16.docx\n",
      "Assignment_17.docx\n",
      "Assignment_18.docx\n",
      "Assignment_19.docx\n",
      "Assignment_2.docx\n",
      "Assignment_20.docx\n",
      "Assignment_21.docx\n",
      "Assignment_22.docx\n",
      "Assignment_23.docx\n",
      "Assignment_24.docx\n",
      "Assignment_25.docx\n",
      "Assignment_3.docx\n",
      "Assignment_4.docx\n",
      "Assignment_5.docx\n",
      "Assignment_6.docx\n",
      "Assignment_7.docx\n",
      "Assignment_8.docx\n",
      "Assignment_9.docx\n"
     ]
    }
   ],
   "source": [
    "import os\n",
    "for folders, subfolders, files in os.walk(os.getcwd()):\n",
    "    for file in files:\n",
    "        print(file)"
   ]
  },
  {
   "cell_type": "markdown",
   "id": "28472e88",
   "metadata": {},
   "source": [
    "**5. Create a list of all of the files in your parent directory (minimum five files should be available).**"
   ]
  },
  {
   "cell_type": "code",
   "execution_count": 7,
   "id": "efe9618b",
   "metadata": {},
   "outputs": [
    {
     "data": {
      "text/plain": [
       "['.ipynb_checkpoints',\n",
       " 'application_log.txt',\n",
       " 'Assignment_01.ipynb',\n",
       " 'Assignment_02.ipynb',\n",
       " 'Assignment_03.ipynb',\n",
       " 'Assignment_04.ipynb',\n",
       " 'Assignment_05.ipynb',\n",
       " 'Assignment_06.ipynb',\n",
       " 'Assignment_07.ipynb',\n",
       " 'Assignment_08.ipynb',\n",
       " 'Assignment_09.ipynb',\n",
       " 'Assignment_10.ipynb',\n",
       " 'Assignment_11.ipynb',\n",
       " 'Assignment_12.ipynb',\n",
       " 'Assignment_13.ipynb',\n",
       " 'Assignment_14.ipynb',\n",
       " 'Assignment_15.ipynb',\n",
       " 'Assignment_16.ipynb',\n",
       " 'Assignment_17.ipynb',\n",
       " 'Assignment_18.ipynb',\n",
       " 'Assignment_19.ipynb',\n",
       " 'Assignment_20.ipynb',\n",
       " 'Assignment_21.ipynb',\n",
       " 'Assignment_22.ipynb',\n",
       " 'Assignment_23.ipynb',\n",
       " 'Assignment_24.ipynb',\n",
       " 'Assignment_25.ipynb',\n",
       " 'books.csv',\n",
       " 'books.db',\n",
       " 'DepptDetails.csv',\n",
       " 'Doc files',\n",
       " 'test.txt',\n",
       " 'today.txt']"
      ]
     },
     "execution_count": 7,
     "metadata": {},
     "output_type": "execute_result"
    }
   ],
   "source": [
    "import os \n",
    "os.listdir()"
   ]
  },
  {
   "cell_type": "markdown",
   "id": "fa4edc23",
   "metadata": {},
   "source": [
    "**6. Use multiprocessing to create three separate processes. Make each one wait a random number of seconds between one and five, print the current time, and then exit.**"
   ]
  },
  {
   "cell_type": "code",
   "execution_count": 8,
   "id": "bcb2799b",
   "metadata": {},
   "outputs": [
    {
     "name": "stdout",
     "output_type": "stream",
     "text": [
      "Procedure_one_Starttime -> 2022-01-20 15:56:15.221718\n",
      "Procedure_one_Endtime -> 2022-01-20 15:56:16.239875\n",
      "Procedure_two_Starttime -> 2022-01-20 15:56:16.239875\n",
      "Procedure_two_Endtime -> 2022-01-20 15:56:20.250479\n",
      "Procedure_two_Starttime -> 2022-01-20 15:56:20.250479\n",
      "Procedure_two_Endtime -> 2022-01-20 15:56:23.260216\n"
     ]
    }
   ],
   "source": [
    "import multiprocessing\n",
    "import datetime\n",
    "import time \n",
    "import random\n",
    "\n",
    "\n",
    "def pOne():\n",
    "    print(f'Procedure_one_Starttime -> {datetime.datetime.now()}')\n",
    "    time.sleep(random.randint(1,5))\n",
    "    print(f'Procedure_one_Endtime -> {datetime.datetime.now()}')\n",
    "    \n",
    "def pTwo():\n",
    "    print(f'Procedure_two_Starttime -> {datetime.datetime.now()}')\n",
    "    time.sleep(random.randint(1,5))\n",
    "    print(f'Procedure_two_Endtime -> {datetime.datetime.now()}')\n",
    "\n",
    "def pThree():\n",
    "    print(f'Procedure_two_Starttime -> {datetime.datetime.now()}')\n",
    "    time.sleep(random.randint(1,5))\n",
    "    print(f'Procedure_two_Endtime -> {datetime.datetime.now()}')\n",
    "    \n",
    "if __name__ == \"__main__\":    \n",
    "    p1 = multiprocessing.Process(target=pOne)\n",
    "    pOne()\n",
    "    p2 = multiprocessing.Process(target=pTwo)\n",
    "    pTwo()\n",
    "    p3 = multiprocessing.Process(target=pThree)\n",
    "    pThree()\n",
    "\n",
    "    p1.start()\n",
    "    p2.start()\n",
    "    p3.start()\n",
    "\n",
    "    p1.join()\n",
    "    p2.join()\n",
    "    p3.join()"
   ]
  },
  {
   "cell_type": "markdown",
   "id": "049a99d6",
   "metadata": {},
   "source": [
    "**7. Create a date object of your day of birth.**"
   ]
  },
  {
   "cell_type": "code",
   "execution_count": 9,
   "id": "b3e67c1c",
   "metadata": {},
   "outputs": [
    {
     "name": "stdout",
     "output_type": "stream",
     "text": [
      "1991-04-20 00:00:00 <class 'datetime.datetime'>\n"
     ]
    }
   ],
   "source": [
    "from datetime import datetime\n",
    "my_dob = datetime.strptime('20/04/1991','%d/%m/%Y')\n",
    "print(my_dob, type(my_dob))"
   ]
  },
  {
   "cell_type": "markdown",
   "id": "0c431387",
   "metadata": {},
   "source": [
    "**8. What day of the week was your day of birth ?**"
   ]
  },
  {
   "cell_type": "code",
   "execution_count": 10,
   "id": "65b6ae43",
   "metadata": {},
   "outputs": [
    {
     "data": {
      "text/plain": [
       "'Saturday'"
      ]
     },
     "execution_count": 10,
     "metadata": {},
     "output_type": "execute_result"
    }
   ],
   "source": [
    "from datetime import datetime\n",
    "my_dob = datetime(1991,4,20)\n",
    "my_dob.strftime(\"%A\")"
   ]
  },
  {
   "cell_type": "markdown",
   "id": "66d45065",
   "metadata": {},
   "source": [
    "**9. When will you be (or when were you) 10,000 days old ?**"
   ]
  },
  {
   "cell_type": "code",
   "execution_count": 11,
   "id": "db7e28a0",
   "metadata": {},
   "outputs": [
    {
     "data": {
      "text/plain": [
       "datetime.datetime(1963, 12, 3, 0, 0)"
      ]
     },
     "execution_count": 11,
     "metadata": {},
     "output_type": "execute_result"
    }
   ],
   "source": [
    "from datetime import datetime, timedelta\n",
    "my_dob = datetime.strptime(\"20/04/1991\",'%d/%m/%Y')\n",
    "future_date = my_dob-timedelta(10000)\n",
    "future_date"
   ]
  }
 ],
 "metadata": {
  "kernelspec": {
   "display_name": "Python 3",
   "language": "python",
   "name": "python3"
  },
  "language_info": {
   "codemirror_mode": {
    "name": "ipython",
    "version": 3
   },
   "file_extension": ".py",
   "mimetype": "text/x-python",
   "name": "python",
   "nbconvert_exporter": "python",
   "pygments_lexer": "ipython3",
   "version": "3.8.8"
  }
 },
 "nbformat": 4,
 "nbformat_minor": 5
}

{
 "cells": [
  {
   "cell_type": "markdown",
   "id": "981d7842",
   "metadata": {},
   "source": [
    "**1. What advantages do Excel spreadsheets have over CSV spreadsheets ?**"
   ]
  },
  {
   "cell_type": "markdown",
   "id": "d8aab80a",
   "metadata": {},
   "source": [
    "Ans: The Advantages of Excel over CSV are:\n",
    "1. Excel (XLS and XLSX) file formats are better for storing and analysing complex data.\n",
    "2. An Excel not only stores data but can also do operations on the data using macros, formulae etc.\n",
    "3. CSV files are plain-text files, Does not contain formatting, formulae, macros, etc. It is also known as flat files."
   ]
  },
  {
   "cell_type": "markdown",
   "id": "18e04941",
   "metadata": {},
   "source": [
    "**2.What do you pass to csv.reader() and csv.writer() to create reader and writer objects ?**"
   ]
  },
  {
   "cell_type": "code",
   "execution_count": 5,
   "id": "e7c67268",
   "metadata": {},
   "outputs": [
    {
     "name": "stdout",
     "output_type": "stream",
     "text": [
      "['name', 'department', 'birthday month']\n",
      "['Ram', 'Acounts', 'December']\n",
      "['Mohan', 'HR', 'Jan']\n"
     ]
    }
   ],
   "source": [
    "import csv\n",
    "with open('test.csv','r') as file:\n",
    "    csv_file = csv.reader(file,delimiter=',')\n",
    "    for ele in csv_file:\n",
    "        print(ele)"
   ]
  },
  {
   "cell_type": "markdown",
   "id": "05923c00",
   "metadata": {},
   "source": [
    "**3. What modes do File objects for reader and writer objects need to be opened in ?**"
   ]
  },
  {
   "cell_type": "markdown",
   "id": "c3478f56",
   "metadata": {},
   "source": [
    "Ans: For `csv.reader(iterable_file_object)`, the file objects needed to be opened in `read` mode `mode='r'` Whereas for `csv.writer(iterable_file_object)` the file objects needed to be opened in `write` mode `mode='w'`"
   ]
  },
  {
   "cell_type": "markdown",
   "id": "19d53479",
   "metadata": {},
   "source": [
    "**4. What method takes a list argument and writes it to a CSV file ?**"
   ]
  },
  {
   "cell_type": "markdown",
   "id": "c2f017ec",
   "metadata": {},
   "source": [
    "Ans: csv.writer class provides two methods for writing to CSV. They are `writerow()` and `writerows().` writerow() method writes a single row at a time. Whereas writerows() method is used to write multiple rows at a time."
   ]
  },
  {
   "cell_type": "code",
   "execution_count": 1,
   "id": "3a3e46b5",
   "metadata": {},
   "outputs": [],
   "source": [
    "# Example Program\n",
    "import csv      \n",
    "fields = ['Name', 'Branch', 'Year', 'GPA'] #column names \n",
    "rows = [ \n",
    "            ['Nikhil', 'CS', '2', '9.0'],  # data rows of csv file \n",
    "            ['Sanchit', 'Mech', '2', '7'], \n",
    "            ['Ravi', 'IT', '2', '8.3'],\n",
    "            ['Ram', 'Bio', '2', '9']\n",
    "       ] \n",
    "with open(\"DepptDetails.csv\", 'w') as csvfile: \n",
    "    csvwriter = csv.writer(csvfile) # creating a csv writer object \n",
    "    csvwriter.writerow(fields) # writing the fields \n",
    "    csvwriter.writerows(rows) # writing the data rows \n"
   ]
  },
  {
   "cell_type": "markdown",
   "id": "596e165f",
   "metadata": {},
   "source": [
    "**5. What do the keyword arguments delimiter and line terminator do ?**"
   ]
  },
  {
   "cell_type": "markdown",
   "id": "735923e5",
   "metadata": {},
   "source": [
    "Ans: Lets take the example of a csv file:  \n",
    "`First Name, Last Name, Age, Gender`  \n",
    "`Ram, Singh, 24, Male`  \n",
    "`Devender, Singh, 21`  \n",
    "Here `','` is Delimiter. We can use any Character as per our needs if required. Similarly Line Terminator comes at end of line by default it is newline and can be changed accourding to Requirement."
   ]
  },
  {
   "cell_type": "markdown",
   "id": "11d47ff3",
   "metadata": {},
   "source": [
    "**6. What function takes a string of JSON data and returns a Python data structure ?**"
   ]
  },
  {
   "cell_type": "markdown",
   "id": "94752f89",
   "metadata": {},
   "source": [
    "Ans: `loads()` method takes a string of JSON data and returns a Python data structure"
   ]
  },
  {
   "cell_type": "code",
   "execution_count": 2,
   "id": "cf976f3f",
   "metadata": {},
   "outputs": [
    {
     "name": "stdout",
     "output_type": "stream",
     "text": [
      "{\n",
      "    \"Name\": \"Devender Singh\",\n",
      "    \"Qualification\": \"M.Tech\",\n",
      "    \"Stream\": \"Mechanical\"\n",
      "}\n",
      "Type of my_details_json is <class 'str'>\n",
      "{'Name': 'Devender Singh', 'Qualification': 'M.Tech', 'Stream': 'Mechanical'}\n",
      "Type of my_details is <class 'dict'>\n"
     ]
    }
   ],
   "source": [
    "# Example of json.loads() method\n",
    "import json\n",
    "my_details_json ='''{\n",
    "    \"Name\": \"Devender Singh\",\n",
    "    \"Qualification\": \"M.Tech\",\n",
    "    \"Stream\": \"Mechanical\"\n",
    "}'''\n",
    "print(my_details_json)\n",
    "print(f'Type of my_details_json is {type(my_details_json)}')\n",
    "my_details = json.loads(my_details_json)\n",
    "print(my_details)\n",
    "print(f'Type of my_details is {type(my_details)}')"
   ]
  },
  {
   "cell_type": "markdown",
   "id": "5e0d97b5",
   "metadata": {},
   "source": [
    "**7. What function takes a Python data structure and returns a string of JSON data ?** "
   ]
  },
  {
   "cell_type": "markdown",
   "id": "bc39716d",
   "metadata": {},
   "source": [
    "Ans: `dumps()` method takes a python data structure and returns a string of JSON data"
   ]
  },
  {
   "cell_type": "code",
   "execution_count": 3,
   "id": "5125a827",
   "metadata": {},
   "outputs": [
    {
     "name": "stdout",
     "output_type": "stream",
     "text": [
      "{'Name': 'Devender Singh', 'Qualification': 'M.Tech', 'Stream': 'Mechanical'}\n",
      "Type of my_details is <class 'dict'>\n",
      "{\n",
      "    \"Name\": \"Devender Singh\",\n",
      "    \"Qualification\": \"M.Tech\",\n",
      "    \"Stream\": \"Mechanical\"\n",
      "}\n",
      "Type of my_details_json is <class 'str'>\n"
     ]
    }
   ],
   "source": [
    "# Example of json.dumps() method\n",
    "import json\n",
    "my_details = {\n",
    "    \"Name\": \"Devender Singh\",\n",
    "    \"Qualification\": \"M.Tech\",\n",
    "    \"Stream\": \"Mechanical\"\n",
    "}\n",
    "print(my_details)\n",
    "print(f'Type of my_details is {type(my_details)}')\n",
    "my_details_json = json.dumps(my_details, indent=4, sort_keys=True)\n",
    "print(my_details_json)\n",
    "print(f'Type of my_details_json is {type(my_details_json)}')"
   ]
  }
 ],
 "metadata": {
  "kernelspec": {
   "display_name": "Python 3",
   "language": "python",
   "name": "python3"
  },
  "language_info": {
   "codemirror_mode": {
    "name": "ipython",
    "version": 3
   },
   "file_extension": ".py",
   "mimetype": "text/x-python",
   "name": "python",
   "nbconvert_exporter": "python",
   "pygments_lexer": "ipython3",
   "version": "3.8.8"
  }
 },
 "nbformat": 4,
 "nbformat_minor": 5
}

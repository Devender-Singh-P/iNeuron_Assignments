{
 "cells": [
  {
   "cell_type": "markdown",
   "id": "4920ba5a",
   "metadata": {},
   "source": [
    "***1. In the below elements which of them are values or an expression? eg:- values can be integer or string and expressions will be mathematical operators.***"
   ]
  },
  {
   "cell_type": "markdown",
   "id": "76a34bcf",
   "metadata": {},
   "source": [
    "**Sol:-**  \n",
    "`*`         ----->   Expression (Since it's a mathematical operation)  \n",
    "`'hello'`   ----->   Value      (Since it's a string )  \n",
    "`-87.8`    ----->   Value      (Since it's an integer)  \n",
    "`-`         ----->   Expression (Since it's a mathematical operation)  \n",
    "`/`         ----->   Expression (Since it's a mathematical operation)  \n",
    "`+`         ----->   Expression (Since it's a mathematical operation)  \n",
    "`6`         ----->   Value      (Since it's an integer)"
   ]
  },
  {
   "cell_type": "markdown",
   "id": "e356432a",
   "metadata": {},
   "source": [
    "***2. What is the difference between string and variable ?***"
   ]
  },
  {
   "cell_type": "markdown",
   "id": "b0713845",
   "metadata": {},
   "source": [
    "**Sol:-**  \n",
    "`String`   :- String refers to a datatype that contains a sequence of characters enclosed within single or double Quotes ('', \"\"). e.g. = 'asdahdw', \"Devender\"  \n",
    "`Variable` :- A 'variable' refers to a memory location that can hold values of a specific type. The value(s) in a variable may change/vary during the life of the program — hence the name 'variable'.  \n",
    "e.g. :- `x = 15, y = 20` , Here x & y are variables which can store varying values  \n",
    "`my_name = \"Devender\"`\n",
    "Here my_name denotes a variable which stores the datatype string having Devender . "
   ]
  },
  {
   "cell_type": "markdown",
   "id": "03528483",
   "metadata": {},
   "source": [
    "***3. Describe three different data types.***"
   ]
  },
  {
   "cell_type": "markdown",
   "id": "d50f225e",
   "metadata": {},
   "source": [
    "**Sol:-**  \n",
    "Python has following data types :-  \n",
    "`Numeric:-` Integer ( consist of positive or negative whole numbers (without fraction or decimal))  \n",
    "eg: 4, 50, 10000312, -34,-5654 etc. Float (It is a real number with floating point representation. It is specified by a decimal point.) e.g. 3.14.  \n",
    "`Complex Number:-` (Complex number is represented by complex class.It is specified as (real part) + (imaginary part)j.  \n",
    "e.g. 5+9j  \n",
    "`Dictionary:-`Dictionary in Python is an unordered collection of data values, used to store data values like a map. Unlike other Data Types that hold only single value as an element, Dictionary holds key:value pair. Key-value is provided in the dictionary to make it more optimized. Each key-value pair in a Dictionary is separated by a colon :, whereas each key is separated by a ‘comma’.  \n",
    "e.g.  {1: [1, 2, 3, 4], 'Name': 'Devender', 'Course':'FSDS'}\n",
    "                  \n",
    "`Boolean:-`It's a data type that has one of the two built-in values, True or False. Boolean objects equal to True are called truthy (true), and those equal to False are called falsy(false). But non-Boolean objects can be evaluated in Boolean context as well and determined to be true or false. It is denoted by the class bool.\n",
    "                  \n",
    "`Set:-` Set is an 'unordered' collection of data type that is iterable, mutable and has no duplicate elements. The order of elements in a set is undefined though it may consist of various elements.  \n",
    "e.g. {1, 2, 4, 6, 'iNeuron', 'FSDS'}\n",
    "                 \n",
    "`Sequence Type:-` It is the ordered collection of similar or different data types.  \n",
    "e.g. String -  within single or double quotes '' , \"\"List   -  within square parenthesis []               "
   ]
  },
  {
   "cell_type": "markdown",
   "id": "702204aa",
   "metadata": {},
   "source": [
    "\n",
    "**4. What is an expression made up of ? What do all expressions do ?**"
   ]
  },
  {
   "cell_type": "markdown",
   "id": "d1a7e2e1",
   "metadata": {},
   "source": [
    "**Sol:-** \n",
    "An expression is a combination of values, variables, operators, and calls to functions. Expressions need to be evaluated. \n",
    "The interpreter evaluates the expression and displays the result.  \n",
    "Expressions are representations of value. They are different from statement in the fact that statements do something while expressions are representation of value. For example any string is also an expressions since it represents the value of the string as well."
   ]
  },
  {
   "cell_type": "markdown",
   "id": "e77b66c6",
   "metadata": {},
   "source": [
    "**5. This assignment statements, like spam = 10. What is the difference between an expression and a statement ?**"
   ]
  },
  {
   "cell_type": "markdown",
   "id": "3c26afca",
   "metadata": {},
   "source": [
    "**Sol:-** The above statement spam = 10 assigns a numeric value of '10' to the variable spam.  \n",
    "Expressions are representations of value. They are different from statement in the fact that statements do something while expressions are representation of value."
   ]
  },
  {
   "cell_type": "markdown",
   "id": "f624159f",
   "metadata": {},
   "source": [
    "**6. After running the following code, what does the variable bacon contain?**\n",
    "- bacon = 22\n",
    "- bacon + 1"
   ]
  },
  {
   "cell_type": "markdown",
   "id": "924700d2",
   "metadata": {},
   "source": [
    "***Ans***: The value of variable bacon will get incremented by 1, thus giving output 23  \n",
    "- bacon = 22  \n",
    "- bacon + 1"
   ]
  },
  {
   "cell_type": "markdown",
   "id": "a1c7c140",
   "metadata": {},
   "source": [
    "**7. What should the values of the following two terms be?**  \n",
    "- 'spam' + 'spamspam'  \n",
    "- 'spam' * 3\n"
   ]
  },
  {
   "cell_type": "markdown",
   "id": "81659c0d",
   "metadata": {},
   "source": [
    "**Sol:-**  \n",
    "- string concatenation  'spam' + 'spamspam'  \n",
    "- string replication  'spam' * 3"
   ]
  },
  {
   "cell_type": "markdown",
   "id": "5fadc0d2",
   "metadata": {},
   "source": [
    "**8. Why is eggs a valid variable name while 100 is invalid?**"
   ]
  },
  {
   "cell_type": "markdown",
   "id": "61798911",
   "metadata": {},
   "source": [
    "**Sol:-** Variable names cannot start with a digit, because it can cause some problems while interpreting the variables.\n",
    "So it's a convention as well as neccessity to avoid declaring variables with numeric digits."
   ]
  },
  {
   "cell_type": "markdown",
   "id": "4bafefde",
   "metadata": {},
   "source": [
    "**9. What three functions can be used to get the integer, floating-point number, or string version of a value?**"
   ]
  },
  {
   "cell_type": "markdown",
   "id": "74f8f2c6",
   "metadata": {},
   "source": [
    "**Sol:-** The three functions that can be used to get the integer, floating-point number, or string version of a value are :-\n",
    "- int()\n",
    "- float()\n",
    "- str()"
   ]
  },
  {
   "cell_type": "markdown",
   "id": "98955cf2",
   "metadata": {},
   "source": [
    "**10. Why does this expression cause an error? How can you fix it?\n",
    "'I have eaten ' + 99 + ' burritos.'**\n"
   ]
  },
  {
   "cell_type": "markdown",
   "id": "4a251c1e",
   "metadata": {},
   "source": [
    "**Sol:-**  \n",
    "- Since + is a concatenation operator that concatenates string with string\n",
    "'I have eaten ' + 99 + ' burritos.'\n",
    "- Correct way to fix this error is to convert numeric value 99 to a string\n",
    "'I have eaten ' + str(99) + ' burritos.'"
   ]
  }
 ],
 "metadata": {
  "kernelspec": {
   "display_name": "Python 3",
   "language": "python",
   "name": "python3"
  },
  "language_info": {
   "codemirror_mode": {
    "name": "ipython",
    "version": 3
   },
   "file_extension": ".py",
   "mimetype": "text/x-python",
   "name": "python",
   "nbconvert_exporter": "python",
   "pygments_lexer": "ipython3",
   "version": "3.8.8"
  }
 },
 "nbformat": 4,
 "nbformat_minor": 5
}

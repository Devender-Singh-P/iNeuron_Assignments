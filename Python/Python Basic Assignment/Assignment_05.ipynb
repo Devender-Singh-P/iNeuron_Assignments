{
 "cells": [
  {
   "cell_type": "markdown",
   "id": "9ae594aa",
   "metadata": {},
   "source": [
    "**1.What does an empty dictionary's code look like?**"
   ]
  },
  {
   "cell_type": "markdown",
   "id": "153b099c",
   "metadata": {},
   "source": [
    "Ans: An empty dictionary is generally represented by two empty curly brackets\n",
    "d = {} or d = dict()"
   ]
  },
  {
   "cell_type": "markdown",
   "id": "f60746ea",
   "metadata": {},
   "source": [
    "**2.what is the value of dictionary value with key 'foo' and the value 42 ?**"
   ]
  },
  {
   "cell_type": "markdown",
   "id": "d821c191",
   "metadata": {},
   "source": [
    "Ans: {'foo':42}"
   ]
  },
  {
   "cell_type": "markdown",
   "id": "db3619fe",
   "metadata": {},
   "source": [
    "**3.What is the most significant distinction between a dictionary and a list?**"
   ]
  },
  {
   "cell_type": "markdown",
   "id": "0dbfe57c",
   "metadata": {},
   "source": [
    "Ans: Dictionaries are represented by {} where as lists are represented by []\n",
    "\n",
    "The Items stored in a dictionary are Un-ordered , while the items in a list are ordered."
   ]
  },
  {
   "cell_type": "markdown",
   "id": "72cc0a0a",
   "metadata": {},
   "source": [
    "**4.What happens if you try to access spam ['foo'] if spam is {'bar':100} ?**"
   ]
  },
  {
   "cell_type": "markdown",
   "id": "0c9bffc1",
   "metadata": {},
   "source": [
    "Ans: It'll give keyError\n",
    "\n",
    "KeyError: 'foo'"
   ]
  },
  {
   "cell_type": "markdown",
   "id": "8fd0c077",
   "metadata": {},
   "source": [
    "**5.If a dictionary is stored in spam, what is the difference between the expressions 'cat' in spam and 'cat' in spam.keys() ?**"
   ]
  },
  {
   "cell_type": "markdown",
   "id": "086fd27a",
   "metadata": {},
   "source": [
    "Ans: There is no difference . The operator checks whether a value exits as a key in the dictionary or not"
   ]
  },
  {
   "cell_type": "markdown",
   "id": "1852e883",
   "metadata": {},
   "source": [
    "**6.If a dictionary is stored in spam, what is the difference between the expressions 'cat' in spam and 'cat' in spam.values() ?**"
   ]
  },
  {
   "cell_type": "markdown",
   "id": "3ff60b8a",
   "metadata": {},
   "source": [
    "Ans: 'cat' in spam checks whether there is a 'cat' key in the dictionary, while 'cat' in spam.values() checks whether there is a value 'cat' for one of the keys in spam."
   ]
  },
  {
   "cell_type": "markdown",
   "id": "d24bfb4e",
   "metadata": {},
   "source": [
    "**7.what is a shortcut for the following code ?  \n",
    "if 'color' not in spam:  \n",
    "    spam['color'] ='black'**"
   ]
  },
  {
   "cell_type": "markdown",
   "id": "9cb11a6f",
   "metadata": {},
   "source": [
    "Ans: spam.setdefault('color','black')"
   ]
  },
  {
   "cell_type": "markdown",
   "id": "8085c0ad",
   "metadata": {},
   "source": [
    "**8.How do you 'pretty print' dictionary values using which modules and function ?**"
   ]
  },
  {
   "cell_type": "markdown",
   "id": "692263ce",
   "metadata": {},
   "source": [
    "Ans: we can pretty print a dictionary using three functions :-\n",
    "\n",
    "1. by using pprint() function of pprint module\n",
    "\n",
    "      Note: pprint() function doesnot prettify nested dictionaries\n",
    "      \n",
    "2. by using dumps() method of json module\n",
    "\n",
    "3. by using dumps() method of yaml module"
   ]
  },
  {
   "cell_type": "code",
   "execution_count": 2,
   "id": "26aa0a58",
   "metadata": {},
   "outputs": [
    {
     "name": "stdout",
     "output_type": "stream",
     "text": [
      "Printing using print() function\n",
      " [{'Name': 'A', 'Age': '35', 'Address': {'Country': 'IN', 'City': 'New Delhi'}}, {'Name': 'B', 'Age': '45', 'Address': {'Country': 'China', 'City': 'Beijing'}}, {'Name': 'C', 'Age': '55', 'Address': {'Country': 'UK', 'City': 'England'}}, {'Name': 'D', 'Age': '65', 'Address': {'Country': 'Japan', 'City': 'Tokyo'}}]\n",
      "- -- -- -- -- -- -- -- -- -- -- -- -- -- -- -- -- -- -- -- -- -- -- -- -- -- -- -- -- -- -- -- -- -- -- -- -- -- -- -- -\n",
      "Printing using pprint() funciton\n",
      "[{'Address': {'City': 'New Delhi', 'Country': 'IN'}, 'Age': '35', 'Name': 'A'},\n",
      " {'Address': {'City': 'Beijing', 'Country': 'China'}, 'Age': '45', 'Name': 'B'},\n",
      " {'Address': {'City': 'England', 'Country': 'UK'}, 'Age': '55', 'Name': 'C'},\n",
      " {'Address': {'City': 'Tokyo', 'Country': 'Japan'}, 'Age': '65', 'Name': 'D'}]\n",
      "- -- -- -- -- -- -- -- -- -- -- -- -- -- -- -- -- -- -- -- -- -- -- -- -- -- -- -- -- -- -- -- -- -- -- -- -- -- -- -- -\n",
      "Printing using dumps() method\n",
      " [\n",
      "    {\n",
      "        \"Name\": \"A\",\n",
      "        \"Age\": \"35\",\n",
      "        \"Address\": {\n",
      "            \"Country\": \"IN\",\n",
      "            \"City\": \"New Delhi\"\n",
      "        }\n",
      "    },\n",
      "    {\n",
      "        \"Name\": \"B\",\n",
      "        \"Age\": \"45\",\n",
      "        \"Address\": {\n",
      "            \"Country\": \"China\",\n",
      "            \"City\": \"Beijing\"\n",
      "        }\n",
      "    },\n",
      "    {\n",
      "        \"Name\": \"C\",\n",
      "        \"Age\": \"55\",\n",
      "        \"Address\": {\n",
      "            \"Country\": \"UK\",\n",
      "            \"City\": \"England\"\n",
      "        }\n",
      "    },\n",
      "    {\n",
      "        \"Name\": \"D\",\n",
      "        \"Age\": \"65\",\n",
      "        \"Address\": {\n",
      "            \"Country\": \"Japan\",\n",
      "            \"City\": \"Tokyo\"\n",
      "        }\n",
      "    }\n",
      "]\n",
      "- -- -- -- -- -- -- -- -- -- -- -- -- -- -- -- -- -- -- -- -- -- -- -- -- -- -- -- -- -- -- -- -- -- -- -- -- -- -- -- -\n",
      "Printing using dump() method\n",
      " - Address:\n",
      "    City: New Delhi\n",
      "    Country: IN\n",
      "  Age: '35'\n",
      "  Name: A\n",
      "- Address:\n",
      "    City: Beijing\n",
      "    Country: China\n",
      "  Age: '45'\n",
      "  Name: B\n",
      "- Address:\n",
      "    City: England\n",
      "    Country: UK\n",
      "  Age: '55'\n",
      "  Name: C\n",
      "- Address:\n",
      "    City: Tokyo\n",
      "    Country: Japan\n",
      "  Age: '65'\n",
      "  Name: D\n",
      "\n"
     ]
    }
   ],
   "source": [
    "ndict = [\n",
    "  {'Name': 'A', 'Age': '35', 'Address': {'Country':'IN', 'City': 'New Delhi'}},\n",
    "  {'Name': 'B', 'Age': '45', 'Address': {'Country':'China', 'City': 'Beijing'}},\n",
    "  {'Name': 'C', 'Age': '55', 'Address': {'Country':'UK', 'City': 'England'}},\n",
    "  {'Name': 'D', 'Age': '65', 'Address': {'Country':'Japan', 'City': 'Tokyo'}}\n",
    "]\n",
    "\n",
    "print('Printing using print() function\\n',ndict)\n",
    "print('- -'*40)\n",
    "import pprint\n",
    "print('Printing using pprint() funciton')\n",
    "pprint.pprint(ndict)\n",
    "print('- -'*40)\n",
    "import json\n",
    "dump = json.dumps(ndict, indent=4)\n",
    "print('Printing using dumps() method\\n', dump)\n",
    "print('- -'*40)\n",
    "import yaml\n",
    "dump = yaml.dump(ndict)\n",
    "print('Printing using dump() method\\n', dump)"
   ]
  }
 ],
 "metadata": {
  "kernelspec": {
   "display_name": "Python 3",
   "language": "python",
   "name": "python3"
  },
  "language_info": {
   "codemirror_mode": {
    "name": "ipython",
    "version": 3
   },
   "file_extension": ".py",
   "mimetype": "text/x-python",
   "name": "python",
   "nbconvert_exporter": "python",
   "pygments_lexer": "ipython3",
   "version": "3.8.8"
  }
 },
 "nbformat": 4,
 "nbformat_minor": 5
}

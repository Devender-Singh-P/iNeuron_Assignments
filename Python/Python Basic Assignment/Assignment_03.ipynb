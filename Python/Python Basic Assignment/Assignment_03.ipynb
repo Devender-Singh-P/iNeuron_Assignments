{
 "cells": [
  {
   "cell_type": "markdown",
   "id": "5477db6c",
   "metadata": {},
   "source": [
    "**1. Why are functions advantageous to have in your programs ?**"
   ]
  },
  {
   "cell_type": "markdown",
   "id": "8a9a1cb5",
   "metadata": {},
   "source": [
    "Functions are advantageous to have in our program as they reduce the need for duplicate code.   \n",
    "This makes programs shorter, easier to read, and easier to update."
   ]
  },
  {
   "cell_type": "markdown",
   "id": "8fce3964",
   "metadata": {},
   "source": [
    "**2. When does the code in a function run: when it's specified or when it's called?**"
   ]
  },
  {
   "cell_type": "markdown",
   "id": "7f90e54f",
   "metadata": {},
   "source": [
    "The code in a function executes when the function is called, not when the function is defined/specified."
   ]
  },
  {
   "cell_type": "markdown",
   "id": "f6554ef8",
   "metadata": {},
   "source": [
    "**3. What statement creates a function ?**"
   ]
  },
  {
   "cell_type": "markdown",
   "id": "f728e0d4",
   "metadata": {},
   "source": [
    "The 'def' statement defines/creates a function."
   ]
  },
  {
   "cell_type": "markdown",
   "id": "157aaad0",
   "metadata": {},
   "source": [
    "**4. What is the difference between a function and a function call ?**"
   ]
  },
  {
   "cell_type": "markdown",
   "id": "d259d029",
   "metadata": {},
   "source": [
    "A function consists of the def statement and the code in its def clause.   \n",
    "A function call is what moves the program execution into the function, and the function call evaluates to the function’s return value."
   ]
  },
  {
   "cell_type": "markdown",
   "id": "d219aefd",
   "metadata": {},
   "source": [
    "**5. How many global scopes are there in a Python program? How many local scopes?**"
   ]
  },
  {
   "cell_type": "markdown",
   "id": "0a1250c4",
   "metadata": {},
   "source": [
    "There is one global scope, and a local scope is created whenever a function is called."
   ]
  },
  {
   "cell_type": "markdown",
   "id": "ab7af7dc",
   "metadata": {},
   "source": [
    "**6. What happens to variables in a local scope when the function call returns ?**"
   ]
  },
  {
   "cell_type": "markdown",
   "id": "1d33fb2e",
   "metadata": {},
   "source": [
    "When a function returns, the local scope is destroyed, and all the variables in it are forgotten."
   ]
  },
  {
   "cell_type": "markdown",
   "id": "add93311",
   "metadata": {},
   "source": [
    "**7. What is the concept of a return value? Is it possible to have a return value in an expression ?**"
   ]
  },
  {
   "cell_type": "markdown",
   "id": "424e21b8",
   "metadata": {},
   "source": [
    "A return value is the value that a function call evaluates to. Like any value, a return value can be used as part of an expression."
   ]
  },
  {
   "cell_type": "markdown",
   "id": "88675fdd",
   "metadata": {},
   "source": [
    "**8. If a function does not have a return statement, what is the return value of a call to that function?**"
   ]
  },
  {
   "cell_type": "markdown",
   "id": "3eb51161",
   "metadata": {},
   "source": [
    "If there is no return statement for a function, its return value is None."
   ]
  },
  {
   "cell_type": "markdown",
   "id": "5fc8fb92",
   "metadata": {},
   "source": [
    "**9. How do you make a function variable refer to the global variable?**"
   ]
  },
  {
   "cell_type": "markdown",
   "id": "63bb8236",
   "metadata": {},
   "source": [
    "A global statement will force a variable in a function to refer to the global variable."
   ]
  },
  {
   "cell_type": "markdown",
   "id": "f65c7374",
   "metadata": {},
   "source": [
    "**10. What is the data type of None?**"
   ]
  },
  {
   "cell_type": "code",
   "execution_count": 1,
   "id": "f8b2061b",
   "metadata": {},
   "outputs": [
    {
     "data": {
      "text/plain": [
       "NoneType"
      ]
     },
     "execution_count": 1,
     "metadata": {},
     "output_type": "execute_result"
    }
   ],
   "source": [
    "# The data type of None is NoneType.\n",
    "type(None)"
   ]
  },
  {
   "cell_type": "markdown",
   "id": "f062e312",
   "metadata": {},
   "source": [
    "**11. What does the sentence `import areallyourpetsnamederic` do?**"
   ]
  },
  {
   "cell_type": "markdown",
   "id": "32049466",
   "metadata": {},
   "source": [
    "The above import statement imports a module named areallyourpetsnamederic. (Although this isn’t a real Python module.)  \n",
    "For example, `import numpy` imports numpy library packages."
   ]
  },
  {
   "cell_type": "markdown",
   "id": "2f800c38",
   "metadata": {},
   "source": [
    "**12. If you had a bacon() feature in a spam module, what would you call it after importing spam?**"
   ]
  },
  {
   "cell_type": "markdown",
   "id": "98bf5e6f",
   "metadata": {},
   "source": [
    "To call the bacon() feature in a spam mpodule, we'll use :-\n",
    "\n",
    "`spam.bacon()`"
   ]
  },
  {
   "cell_type": "markdown",
   "id": "d7fccc61",
   "metadata": {},
   "source": [
    "**13. What can you do to save a programme from crashing if it encounters an error?**"
   ]
  },
  {
   "cell_type": "markdown",
   "id": "0e1f83e3",
   "metadata": {},
   "source": [
    "Use a try clause,  \n",
    "or    \n",
    "keep the line of code that might cause an error in a try clause."
   ]
  },
  {
   "cell_type": "markdown",
   "id": "4f32cad3",
   "metadata": {},
   "source": [
    "**14. What is the purpose of the try clause? What is the purpose of the except clause?**"
   ]
  },
  {
   "cell_type": "markdown",
   "id": "af1bc455",
   "metadata": {},
   "source": [
    "The code that could potentially cause an error is kepy in the try clause.   \n",
    "The code that executes if an error happens is kept in the except clause."
   ]
  }
 ],
 "metadata": {
  "kernelspec": {
   "display_name": "Python 3",
   "language": "python",
   "name": "python3"
  },
  "language_info": {
   "codemirror_mode": {
    "name": "ipython",
    "version": 3
   },
   "file_extension": ".py",
   "mimetype": "text/x-python",
   "name": "python",
   "nbconvert_exporter": "python",
   "pygments_lexer": "ipython3",
   "version": "3.8.8"
  }
 },
 "nbformat": 4,
 "nbformat_minor": 5
}

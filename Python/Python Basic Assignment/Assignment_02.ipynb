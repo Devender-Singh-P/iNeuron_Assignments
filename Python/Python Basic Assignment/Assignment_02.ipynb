{
 "cells": [
  {
   "cell_type": "markdown",
   "id": "0a355799",
   "metadata": {},
   "source": [
    "**1.What are the two values of the Boolean data type? How do you write them ?**"
   ]
  },
  {
   "cell_type": "markdown",
   "id": "e117a970",
   "metadata": {},
   "source": [
    "***Sol:-***  \n",
    "True and False are the two values of the Boolean data type.\n",
    "These are written by using capital T and F, with the rest of the word in lowercase."
   ]
  },
  {
   "cell_type": "code",
   "execution_count": 1,
   "id": "ab3c267f",
   "metadata": {},
   "outputs": [
    {
     "name": "stdout",
     "output_type": "stream",
     "text": [
      "Type of  x is <class 'bool'>\n",
      "Type of  y is <class 'bool'>\n"
     ]
    }
   ],
   "source": [
    "x=True\n",
    "y=False\n",
    "print('Type of  x is',type(x))\n",
    "print('Type of  y is',type(y))"
   ]
  },
  {
   "cell_type": "markdown",
   "id": "4fbd1a9f",
   "metadata": {},
   "source": [
    "**2. What are the three different types of Boolean operators?**"
   ]
  },
  {
   "cell_type": "markdown",
   "id": "e68b0bf7",
   "metadata": {},
   "source": [
    "**Sol:**  \n",
    "Three types of Boolean operators are :-\n",
    "AND operator,\n",
    "OR operator, and\n",
    "NOT operator"
   ]
  },
  {
   "cell_type": "markdown",
   "id": "6ea8b8e4",
   "metadata": {},
   "source": [
    "**3. Make a list of each Boolean operator's truth tables (i.e. every possible combination of Boolean values for the operator and what it evaluate ).**"
   ]
  },
  {
   "cell_type": "markdown",
   "id": "938e6821",
   "metadata": {},
   "source": [
    "**Ans:-**  \n",
    "`AND`:-  \n",
    "True and True is True.  \n",
    "True and False is False.  \n",
    "False and True is False.  \n",
    "False and False is False.  \n",
    "`OR` :-  \n",
    "True or True is True.  \n",
    "True or False is True.  \n",
    "False or True is True.  \n",
    "False or False is False.  \n",
    "`NOT`:-  \n",
    "not True is False.  \n",
    "not False is True."
   ]
  },
  {
   "cell_type": "markdown",
   "id": "d58947bb",
   "metadata": {},
   "source": [
    "**4. What are the values of the following expressions?  \n",
    "(5 > 4) and (3 == 5)  \n",
    "not (5 > 4)  \n",
    "(5 > 4) or (3 == 5)  \n",
    "not ((5 > 4) or (3 == 5))  \n",
    "(True and True) and (True == False)  \n",
    "(not False) or (not True)**"
   ]
  },
  {
   "cell_type": "markdown",
   "id": "2c0e1a75",
   "metadata": {},
   "source": [
    "**Sol:-**  \n",
    "(5 > 4) and (3 == 5)     --->   False  \n",
    "not (5 > 4)              --->   False  \n",
    "(5 > 4) or (3 == 5)      --->   True  \n",
    "not ((5 > 4) or (3 == 5))--->   False  \n",
    "(True and True) and (True == False)  ---> False  \n",
    "(not False) or (not True) --->  True"
   ]
  },
  {
   "cell_type": "code",
   "execution_count": 2,
   "id": "3b47eab2",
   "metadata": {},
   "outputs": [
    {
     "name": "stdout",
     "output_type": "stream",
     "text": [
      "False\n",
      "False\n",
      "True\n",
      "False\n",
      "False\n",
      "True\n"
     ]
    }
   ],
   "source": [
    "print((5>4)and(3==5)) \n",
    "print(not(5>4)) \n",
    "print((5>4)or(3==5)) \n",
    "print(not((5>4)or(3==5))) \n",
    "print((True and True)and(True==False)) \n",
    "print((not False)or(not True)) "
   ]
  },
  {
   "cell_type": "markdown",
   "id": "fa556b78",
   "metadata": {},
   "source": [
    "**5. What are the six comparison operators?**"
   ]
  },
  {
   "cell_type": "markdown",
   "id": "210b3283",
   "metadata": {},
   "source": [
    "**Sol:-**  \n",
    "`==`    checks if exactly equal to  \n",
    "`!=`    checks if not equal to  \n",
    "`<`     less than  \n",
    "`>`     greater than  \n",
    "`<=`    less than or equal to  \n",
    "`>=`    greater than or equal to"
   ]
  },
  {
   "cell_type": "markdown",
   "id": "2305f5fc",
   "metadata": {},
   "source": [
    "**6. How do you tell the difference between the equal to and assignment operators ? Describe a condition and when you would use one.**"
   ]
  },
  {
   "cell_type": "markdown",
   "id": "4bcc2148",
   "metadata": {},
   "source": [
    "**Ans:-**  \n",
    "`==` is the Equal to operator that compares two values and evaluates to a Boolean, while   \n",
    "`=` is the Assignment operator that stores a value in a variable.  \n",
    "`e.g.`  \n",
    "5==4 will give False  \n",
    "age = 5 will assign value 5 to variable age"
   ]
  },
  {
   "cell_type": "markdown",
   "id": "04f8135c",
   "metadata": {},
   "source": [
    "**7. Identify the three blocks in this code:  \n",
    "spam = 0  \n",
    "if spam == 10:  \n",
    "    print('eggs')  \n",
    "    if spam > 5:  \n",
    "        print('bacon')  \n",
    "else:  \n",
    "    print('ham')  \n",
    "print('spam')  \n",
    "print('spam')**"
   ]
  },
  {
   "cell_type": "code",
   "execution_count": 3,
   "id": "36d0d233",
   "metadata": {},
   "outputs": [
    {
     "name": "stdout",
     "output_type": "stream",
     "text": [
      "ham\n",
      "spam\n",
      "spam\n"
     ]
    }
   ],
   "source": [
    "spam = 0\n",
    "if spam == 10:\n",
    "    print('eggs')\n",
    "    if spam > 5:\n",
    "        print('bacon')\n",
    "else:\n",
    "    print('ham')\n",
    "print('spam')\n",
    "print('spam')"
   ]
  },
  {
   "cell_type": "markdown",
   "id": "3f1a61ac",
   "metadata": {},
   "source": [
    "**8. Write code that prints Hello if 1 is stored in spam, prints Howdy if 2 is stored in spam, and prints Greetings! if anything else is stored in spam.**"
   ]
  },
  {
   "cell_type": "code",
   "execution_count": 4,
   "id": "b37ff1ce",
   "metadata": {},
   "outputs": [
    {
     "name": "stdout",
     "output_type": "stream",
     "text": [
      "Hello\n",
      "Howdy\n",
      "Greetings!\n"
     ]
    }
   ],
   "source": [
    "def spam_code(spam):\n",
    "    if spam == 1:\n",
    "        print('Hello')\n",
    "    elif spam == 2:\n",
    "        print('Howdy')\n",
    "    else:\n",
    "        print('Greetings!')\n",
    "\n",
    "spam_code(1)\n",
    "spam_code(2)\n",
    "spam_code(3)"
   ]
  },
  {
   "cell_type": "markdown",
   "id": "0b40fc41",
   "metadata": {},
   "source": [
    "**9.If your programme is stuck in an endless loop, what keys you’ll press ?**"
   ]
  },
  {
   "cell_type": "markdown",
   "id": "a396b1dd",
   "metadata": {},
   "source": [
    "**Sol:-**  \n",
    "Press CTRL-C to stop a program stuck in an infinite/endless loop."
   ]
  },
  {
   "cell_type": "markdown",
   "id": "d6188125",
   "metadata": {},
   "source": [
    "**10. How can you tell the difference between break and continue ?**"
   ]
  },
  {
   "cell_type": "markdown",
   "id": "7946092e",
   "metadata": {},
   "source": [
    "**Sol:-**  \n",
    "The break statement will move the execution outside and just after a loop.   \n",
    "The continue statement will move execution to the start of loop."
   ]
  },
  {
   "cell_type": "markdown",
   "id": "8eba2d75",
   "metadata": {},
   "source": [
    "**11. In a for loop, what is the difference between range(10), range(0, 10), and range(0, 10, 1) ?**"
   ]
  },
  {
   "cell_type": "markdown",
   "id": "8e0b8c06",
   "metadata": {},
   "source": [
    "**Sol:-**  \n",
    "range(10)       :-call ranges from 0 up to (but not including) 10,   \n",
    "range(0, 10)    :-explicitly tells the loop to start at 0, and   \n",
    "range(0, 10, 1) :-explicitly tells the loop to increase (increment) the variable by 1 on each iteration."
   ]
  },
  {
   "cell_type": "markdown",
   "id": "7580d63a",
   "metadata": {},
   "source": [
    "**12. Write a short program that prints the numbers 1 to 10 using a for loop. Then write an equivalent program that prints the numbers 1 to 10 using a while loop.**"
   ]
  },
  {
   "cell_type": "code",
   "execution_count": 5,
   "id": "d3de1d77",
   "metadata": {},
   "outputs": [
    {
     "name": "stdout",
     "output_type": "stream",
     "text": [
      "1\n",
      "2\n",
      "3\n",
      "4\n",
      "5\n",
      "6\n",
      "7\n",
      "8\n",
      "9\n",
      "10\n"
     ]
    }
   ],
   "source": [
    "# Print no. 1 to 10 using for loop\n",
    "for i in range(1, 11):\n",
    "    print(i)"
   ]
  },
  {
   "cell_type": "code",
   "execution_count": 6,
   "id": "694567d7",
   "metadata": {},
   "outputs": [
    {
     "name": "stdout",
     "output_type": "stream",
     "text": [
      "1\n",
      "2\n",
      "3\n",
      "4\n",
      "5\n",
      "6\n",
      "7\n",
      "8\n",
      "9\n",
      "10\n"
     ]
    }
   ],
   "source": [
    "# Print no. 1 to 10 using while loop\n",
    "i = 1\n",
    "while i <= 10:\n",
    "    print(i)\n",
    "    i = i + 1"
   ]
  },
  {
   "cell_type": "markdown",
   "id": "f67f481f",
   "metadata": {},
   "source": [
    "**13. If you had a function named bacon() inside a module named spam, how would you call it after importing spam?**"
   ]
  },
  {
   "cell_type": "markdown",
   "id": "9528bd13",
   "metadata": {},
   "source": [
    "**Sol:-**  \n",
    "spam.bacon()"
   ]
  }
 ],
 "metadata": {
  "kernelspec": {
   "display_name": "Python 3",
   "language": "python",
   "name": "python3"
  },
  "language_info": {
   "codemirror_mode": {
    "name": "ipython",
    "version": 3
   },
   "file_extension": ".py",
   "mimetype": "text/x-python",
   "name": "python",
   "nbconvert_exporter": "python",
   "pygments_lexer": "ipython3",
   "version": "3.8.8"
  }
 },
 "nbformat": 4,
 "nbformat_minor": 5
}

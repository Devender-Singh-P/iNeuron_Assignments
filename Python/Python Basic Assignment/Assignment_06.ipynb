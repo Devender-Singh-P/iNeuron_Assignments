{
 "cells": [
  {
   "cell_type": "markdown",
   "id": "fd531dfd",
   "metadata": {},
   "source": [
    "**1.What are Escape characters and how do you use them ?**"
   ]
  },
  {
   "cell_type": "markdown",
   "id": "00f1c0c0",
   "metadata": {},
   "source": [
    "Ans: Escape characters represent characters in string values that would otherwise be difficult or impossible to type into code. \n",
    "\n",
    "We can use the backslash character to escape a single character or symbol\n",
    "\n",
    "e.g. : \\t, \\n"
   ]
  },
  {
   "cell_type": "markdown",
   "id": "cdc51799",
   "metadata": {},
   "source": [
    "**2.What do the escape characters n and t stand for ?**"
   ]
  },
  {
   "cell_type": "markdown",
   "id": "91532240",
   "metadata": {},
   "source": [
    "Ans: \\n is used for newline, \\t is used for tab"
   ]
  },
  {
   "cell_type": "markdown",
   "id": "7438023a",
   "metadata": {},
   "source": [
    "**3.What is the way to include backslash character in a string ?**"
   ]
  },
  {
   "cell_type": "markdown",
   "id": "b0dee017",
   "metadata": {},
   "source": [
    "Ans: The  \\ \\  escape character will represent the backslash character in a string"
   ]
  },
  {
   "cell_type": "markdown",
   "id": "90a9a81d",
   "metadata": {},
   "source": [
    "**4.The string \"Howl's Moving Castle\" is a correct value. Why isn't the single quote character in the word Howl's not escaped a problem ?**"
   ]
  },
  {
   "cell_type": "markdown",
   "id": "7a211c49",
   "metadata": {},
   "source": [
    "Ans: The string \"Howl's Moving Castle\" escaped the problem because it is wrapped inside double quotes. \n",
    "\n",
    "If it's wrapped inside single quotes then we have to use escape character \\ ' to show single quote in the final output.\n",
    "\n",
    "'Howl\\ 's Moving Castle' -> 'Howl's Moving Castle'"
   ]
  },
  {
   "cell_type": "markdown",
   "id": "4873483e",
   "metadata": {},
   "source": [
    "**5. How do you write a string of newlines if you don't want to use the n character?**"
   ]
  },
  {
   "cell_type": "markdown",
   "id": "acb2808c",
   "metadata": {},
   "source": [
    "Ans: Multiline string allow us to use newlines in string without the \\n escape character"
   ]
  },
  {
   "cell_type": "code",
   "execution_count": 1,
   "id": "a0f90451",
   "metadata": {},
   "outputs": [
    {
     "name": "stdout",
     "output_type": "stream",
     "text": [
      "Full Stack\n",
      "Data Science Course\n",
      "using Python\n",
      "by iNeuron\n"
     ]
    }
   ],
   "source": [
    "a = '''Full Stack\n",
    "Data Science Course\n",
    "using Python\n",
    "by iNeuron'''\n",
    "print(a)"
   ]
  },
  {
   "cell_type": "markdown",
   "id": "37c103be",
   "metadata": {},
   "source": [
    "**6. What are the values of the given expressions ?**  \n",
    "'Hello, world!'[1]  \n",
    "'Hello, world!'[0:5]  \n",
    "'Hello, world!'[:5]  \n",
    "'Hello, world!'[3:]"
   ]
  },
  {
   "cell_type": "markdown",
   "id": "ff00a214",
   "metadata": {},
   "source": [
    "Ans: The values for the given expressions are:\n",
    "\n",
    "'Hello, world!'[1]      --- 'e'\n",
    "\n",
    "'Hello, world!'[0:5]    --- 'Hello'\n",
    "\n",
    "'Hello, world!'[:5]     --- 'Hello'\n",
    "\n",
    "'Hello, world!'[3:]     --- 'lo, world!'"
   ]
  },
  {
   "cell_type": "markdown",
   "id": "525dc2a9",
   "metadata": {},
   "source": [
    "**7.What are the values of the following expressions ?**  \n",
    "'Hello'.upper()  \n",
    "'Hello'.upper().isupper()  \n",
    "'Hello'.upper().lower()"
   ]
  },
  {
   "cell_type": "markdown",
   "id": "4eb7604a",
   "metadata": {},
   "source": [
    "Ans: The values for the given expressions are:\n",
    "\n",
    "'Hello'.upper() -> 'HELLO'\n",
    "\n",
    "'Hello'.upper().isupper() -> True\n",
    "\n",
    "'Hello'.upper().lower() -> 'hello'"
   ]
  },
  {
   "cell_type": "code",
   "execution_count": 2,
   "id": "b8cc6fab",
   "metadata": {},
   "outputs": [
    {
     "data": {
      "text/plain": [
       "'HELLO'"
      ]
     },
     "execution_count": 2,
     "metadata": {},
     "output_type": "execute_result"
    }
   ],
   "source": [
    "'Hello'.upper()"
   ]
  },
  {
   "cell_type": "code",
   "execution_count": 3,
   "id": "5ffbf06d",
   "metadata": {},
   "outputs": [
    {
     "data": {
      "text/plain": [
       "True"
      ]
     },
     "execution_count": 3,
     "metadata": {},
     "output_type": "execute_result"
    }
   ],
   "source": [
    "'Hello'.upper().isupper()"
   ]
  },
  {
   "cell_type": "code",
   "execution_count": 4,
   "id": "2b55c1c4",
   "metadata": {},
   "outputs": [
    {
     "data": {
      "text/plain": [
       "'hello'"
      ]
     },
     "execution_count": 4,
     "metadata": {},
     "output_type": "execute_result"
    }
   ],
   "source": [
    "'Hello'.upper().lower()"
   ]
  },
  {
   "cell_type": "markdown",
   "id": "338aa657",
   "metadata": {},
   "source": [
    "**8.What are the values of the following expressions ?**\n",
    "\n",
    "'Remember, remember, the fifith of July.'.split()\n",
    "\n",
    "'-'.join('There can only one'.split())"
   ]
  },
  {
   "cell_type": "code",
   "execution_count": 5,
   "id": "9af0784f",
   "metadata": {},
   "outputs": [
    {
     "data": {
      "text/plain": [
       "['Remember,', 'remember,', 'the', 'fifith', 'of', 'July.']"
      ]
     },
     "execution_count": 5,
     "metadata": {},
     "output_type": "execute_result"
    }
   ],
   "source": [
    "'Remember, remember, the fifith of July.'.split()"
   ]
  },
  {
   "cell_type": "code",
   "execution_count": 6,
   "id": "ca4d8ffc",
   "metadata": {},
   "outputs": [
    {
     "data": {
      "text/plain": [
       "'There-can-only-one'"
      ]
     },
     "execution_count": 6,
     "metadata": {},
     "output_type": "execute_result"
    }
   ],
   "source": [
    "'-'.join('There can only one'.split())"
   ]
  },
  {
   "cell_type": "markdown",
   "id": "453cdb28",
   "metadata": {},
   "source": [
    "**9.What are the methods for right-justifying, left-justifying and centering a string ?**"
   ]
  },
  {
   "cell_type": "markdown",
   "id": "d1de3bf7",
   "metadata": {},
   "source": [
    "Ans:  rjust() for right-justifying, ljust() for left-justifying, center() for centering string methods."
   ]
  },
  {
   "cell_type": "markdown",
   "id": "548d550b",
   "metadata": {},
   "source": [
    "**10. What is the best way to remove whitespace characters from the start or end ?**"
   ]
  },
  {
   "cell_type": "markdown",
   "id": "595e21e0",
   "metadata": {},
   "source": [
    "Ans: The lstrip() and rstrip() methods are usde to remove whitesapce characters from the left and right ends of a string respectively."
   ]
  }
 ],
 "metadata": {
  "kernelspec": {
   "display_name": "Python 3",
   "language": "python",
   "name": "python3"
  },
  "language_info": {
   "codemirror_mode": {
    "name": "ipython",
    "version": 3
   },
   "file_extension": ".py",
   "mimetype": "text/x-python",
   "name": "python",
   "nbconvert_exporter": "python",
   "pygments_lexer": "ipython3",
   "version": "3.8.8"
  }
 },
 "nbformat": 4,
 "nbformat_minor": 5
}

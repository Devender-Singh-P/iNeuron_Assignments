{
 "cells": [
  {
   "cell_type": "markdown",
   "id": "c7aa69ba",
   "metadata": {},
   "source": [
    "**1.To what does a relative path refer ?**"
   ]
  },
  {
   "cell_type": "markdown",
   "id": "f6d664e7",
   "metadata": {},
   "source": [
    "Ans: The relative path is the path to some file with respect to the current or present working directory (PWD).\n",
    "\n",
    "For example: if Absolute path to a file called task.txt is: `C:/users/admin/docs/task.txt` , If PWD is `C:/users/admin/` , then the relative path to task.txt would be: `docs/task.txt`\n",
    "\n",
    "i.e. PWD + relative path = absolute path"
   ]
  },
  {
   "cell_type": "markdown",
   "id": "d839eb50",
   "metadata": {},
   "source": [
    "**2.Where does an absolute path start with your Operating System ?**"
   ]
  },
  {
   "cell_type": "markdown",
   "id": "a8362c0a",
   "metadata": {},
   "source": [
    "Ans:  In Windows based systems absolute path starts with C:"
   ]
  },
  {
   "cell_type": "markdown",
   "id": "dba2a44e",
   "metadata": {},
   "source": [
    "**3.What does the functions os.getcwd() and os.chdir() do ?**"
   ]
  },
  {
   "cell_type": "markdown",
   "id": "189d71d4",
   "metadata": {},
   "source": [
    "Ans: `os.getcwd()` method tells the location of current working directory (CWD) whereas `os.chdir()` method in Python used to change the current working directory to specified path. These functions are similar to linux commands pwd and cd."
   ]
  },
  {
   "cell_type": "code",
   "execution_count": 1,
   "id": "61b1d0fd",
   "metadata": {},
   "outputs": [
    {
     "name": "stdout",
     "output_type": "stream",
     "text": [
      "D:\\iNeuron FSDS\\Assignments\\Python Assignment\\Python Basic Assignment\n",
      "D:\\iNeuron FSDS\\Assignments\\Python Assignment\\Python Basic Assignment\n"
     ]
    }
   ],
   "source": [
    "import os\n",
    "print(os.getcwd())                     # Prints current Working Directory\n",
    "path = r'D:\\iNeuron FSDS\\Assignments\\Python Assignment\\Python Basic Assignment'\n",
    "os.chdir(path)\n",
    "print(os.getcwd())"
   ]
  },
  {
   "cell_type": "markdown",
   "id": "6019faee",
   "metadata": {},
   "source": [
    "**4.What are . and .. folders ?**"
   ]
  },
  {
   "cell_type": "markdown",
   "id": "907ca07f",
   "metadata": {},
   "source": [
    "Ans: . Represents the Current Directory Whereas .. Represents the Parent Directory of the Current Directory.\n",
    "\n",
    "For Example:   \n",
    "if the below path is my absolute path: `D:\\iNeuron FSDS\\Assignments\\Python Assignment\\Python Basic Assignment`\n",
    "  \n",
    "Then, `.` represents the path `D:\\iNeuron FSDS\\Assignments\\Python Assignment\\Python Basic Assignment ` \n",
    "whereas `..` represents the path `D:\\iNeuron FSDS\\Assignments\\Python Assignment`"
   ]
  },
  {
   "cell_type": "markdown",
   "id": "6d71a0bb",
   "metadata": {},
   "source": [
    "**5.In C:\\bacon\\eggs\\spam.txt which part is the dir name and which part is the base name ?**"
   ]
  },
  {
   "cell_type": "markdown",
   "id": "1e96f09e",
   "metadata": {},
   "source": [
    "Ans: For `C:\\bacon\\eggs\\spam.txt` . The dir name is `C:\\\\bacon\\\\eggs`. The Base name is `spam.txt`"
   ]
  },
  {
   "cell_type": "code",
   "execution_count": 2,
   "id": "1223acc3",
   "metadata": {},
   "outputs": [
    {
     "name": "stdout",
     "output_type": "stream",
     "text": [
      "C:\\bacon\\eggs\n",
      "spam.txt\n"
     ]
    }
   ],
   "source": [
    "import os\n",
    "path = r'C:\\bacon\\eggs\\spam.txt'\n",
    "print(os.path.dirname(path))\n",
    "print(os.path.basename(path))"
   ]
  },
  {
   "cell_type": "markdown",
   "id": "ae919ff1",
   "metadata": {},
   "source": [
    "**6.What are the three mode arguments that can be passed to the open() function ?**"
   ]
  },
  {
   "cell_type": "markdown",
   "id": "ee92d186",
   "metadata": {},
   "source": [
    "Ans: A file can be Accessed in python using open() function. open function takes two arguments filename and mode of operation (optional). if mode is not provided the default mode of opening is read mode.\n",
    "\n",
    "So, the syntax being: open(filename, mode)\n",
    "\n",
    "‘r’ – Read Mode: This is the default mode for open(). The file is opened and a pointer is positioned at the beginning of the file’s content.\n",
    "\n",
    "‘w’ – Write Mode: Using this mode will overwrite any existing content in a file. If the given file does not exist, a new one will be created.\n",
    "\n",
    "‘r+’ – Read/Write Mode: Use this mode if you need to simultaneously read and write to a file.\n",
    "\n",
    "‘a’ – Append Mode: With this mode the user can append the data without overwriting any already existing data in the file.\n",
    "\n",
    "‘a+’ – Append and Read Mode: In this mode you can read and append the data without overwriting the original file.\n",
    "\n",
    "‘x’ – Exclusive Creating Mode: This mode is for the sole purpose of creating new files. Use this mode if you know the file to be written doesn’t exist beforehand."
   ]
  },
  {
   "cell_type": "markdown",
   "id": "3d29a155",
   "metadata": {},
   "source": [
    "**7.What happens if an existing file is opened in write mode ?**"
   ]
  },
  {
   "cell_type": "markdown",
   "id": "af2af619",
   "metadata": {},
   "source": [
    "Ans: Using this mode will overwrite any existing content in a file. A new one will be created if the given file does not exist."
   ]
  },
  {
   "cell_type": "markdown",
   "id": "8f3e7915",
   "metadata": {},
   "source": [
    "**8.How do you tell the difference between read() and readlines() ?**"
   ]
  },
  {
   "cell_type": "markdown",
   "id": "91d707ab",
   "metadata": {},
   "source": [
    "Ans: The main difference is that `read()` will read the whole file at once and then print out the first characters that take up as many bytes as you specify in the parenthesis, whereas the `readline()` that will read and print out only the first characters that take up as many bytes as you specify in the parenthesis. We generally use readline() when we're reading files that are too big for the RAM.\n",
    "\n",
    "The `read()` would treat each character in the file separately, meaning that the iteration would happen for every character.\n",
    "\n",
    "The `readline()` function, on the other hand, only reads a single line of the file. This means that if the first line of the file were three lines long, the readline() function would only parse (or iterate/operate) on the first line of the file."
   ]
  },
  {
   "cell_type": "markdown",
   "id": "b57a19cd",
   "metadata": {},
   "source": [
    "**9.What data structure does a shelf value resemble ?**"
   ]
  },
  {
   "cell_type": "markdown",
   "id": "bff96068",
   "metadata": {},
   "source": [
    "A shelf value resembles a dictionary value; it has keys and values, along with keys() and values() methods that work similarly to the dictionary methods of the same names."
   ]
  }
 ],
 "metadata": {
  "kernelspec": {
   "display_name": "Python 3",
   "language": "python",
   "name": "python3"
  },
  "language_info": {
   "codemirror_mode": {
    "name": "ipython",
    "version": 3
   },
   "file_extension": ".py",
   "mimetype": "text/x-python",
   "name": "python",
   "nbconvert_exporter": "python",
   "pygments_lexer": "ipython3",
   "version": "3.8.8"
  }
 },
 "nbformat": 4,
 "nbformat_minor": 5
}

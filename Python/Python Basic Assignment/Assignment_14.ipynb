{
 "cells": [
  {
   "cell_type": "markdown",
   "id": "9fbb4f51",
   "metadata": {},
   "source": [
    "**1. What does RGBA stand for ?**"
   ]
  },
  {
   "cell_type": "markdown",
   "id": "7c6c3412",
   "metadata": {},
   "source": [
    "Ans:  `RGBA` is a four-channel format containing data for `Red`, `Green`, `Blue`, and an `Alpha` value. Where Alpha Represents the Opacity."
   ]
  },
  {
   "cell_type": "markdown",
   "id": "ec896667",
   "metadata": {},
   "source": [
    "**2. From the Pillow module, how do you get the RGBA value of any images ?**"
   ]
  },
  {
   "cell_type": "markdown",
   "id": "39e9a315",
   "metadata": {},
   "source": [
    "Ans:  `ImageColor.getcolor()` gives rgba value of any image "
   ]
  },
  {
   "cell_type": "markdown",
   "id": "4321df21",
   "metadata": {},
   "source": [
    "**3. What is a box tuple, and how does it work ?**"
   ]
  },
  {
   "cell_type": "markdown",
   "id": "185bf687",
   "metadata": {},
   "source": [
    "Ans: A box tuple is a tuple value of four integers: the left-edge x-coordinate, the top-edge y-coordinate,the width, and the height, respectively."
   ]
  },
  {
   "cell_type": "markdown",
   "id": "4b4a5703",
   "metadata": {},
   "source": [
    "**4. Use your image and load in notebook then, How can you find out the width and height of an Image object ?**"
   ]
  },
  {
   "cell_type": "code",
   "execution_count": 3,
   "id": "1b9e60eb",
   "metadata": {},
   "outputs": [
    {
     "name": "stdout",
     "output_type": "stream",
     "text": [
      "Width, Height -> (1152, 648)\n",
      "Width, Height -> 1152,648\n",
      "Width, Height -> 1152,648\n"
     ]
    }
   ],
   "source": [
    "#Example Program\n",
    "from PIL import Image\n",
    "pic = Image.open('C:\\\\Users\\\\DevenderSingh\\\\Desktop\\\\1.jpg')\n",
    "print(f'Width, Height -> {pic.size}') # Approach 1\n",
    "print(f'Width, Height -> {pic.width},{pic.height}') # Approach 2\n",
    "width,height = pic.size\n",
    "print(f'Width, Height -> {width},{height}') # Approach 3"
   ]
  },
  {
   "cell_type": "markdown",
   "id": "9603c780",
   "metadata": {},
   "source": [
    "**5. What method would you call to get Image object for a 100×100 image, excluding the lower-left quarter of it ?**"
   ]
  },
  {
   "cell_type": "code",
   "execution_count": 4,
   "id": "4a82a38a",
   "metadata": {},
   "outputs": [],
   "source": [
    "from PIL import Image\n",
    "img = Image.open('C:\\\\Users\\\\DevenderSingh\\\\Desktop\\\\1.jpg')\n",
    "new_img = img.crop((0,50,50,50))"
   ]
  },
  {
   "cell_type": "markdown",
   "id": "464811f7",
   "metadata": {},
   "source": [
    "**7. What module contains Pillow’s shape-drawing code ?**"
   ]
  },
  {
   "cell_type": "markdown",
   "id": "5ad56500",
   "metadata": {},
   "source": [
    "Ans: Pillows `ImageDraw` module contains Shape drawing methods"
   ]
  },
  {
   "cell_type": "markdown",
   "id": "567a616d",
   "metadata": {},
   "source": [
    "**8. Image objects do not have drawing methods. What kind of object does? How do you get this kind of object ?**"
   ]
  },
  {
   "cell_type": "markdown",
   "id": "2a09c289",
   "metadata": {},
   "source": [
    "Ans: ImageDraw objects have shape-drawing methods such as `point()`, `line()`, or `rectangle()`.They are returned by passing the Image object to the `ImageDraw.Draw()` function."
   ]
  }
 ],
 "metadata": {
  "kernelspec": {
   "display_name": "Python 3",
   "language": "python",
   "name": "python3"
  },
  "language_info": {
   "codemirror_mode": {
    "name": "ipython",
    "version": 3
   },
   "file_extension": ".py",
   "mimetype": "text/x-python",
   "name": "python",
   "nbconvert_exporter": "python",
   "pygments_lexer": "ipython3",
   "version": "3.8.8"
  }
 },
 "nbformat": 4,
 "nbformat_minor": 5
}

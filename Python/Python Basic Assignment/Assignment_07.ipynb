{
 "cells": [
  {
   "cell_type": "markdown",
   "id": "fde8f255",
   "metadata": {},
   "source": [
    "**1. What is the name of the feature responsible for generating Regex objects?**"
   ]
  },
  {
   "cell_type": "markdown",
   "id": "75fe9a55",
   "metadata": {},
   "source": [
    "Ans: `re.compile()` feature is responsible for generation of Regex objects."
   ]
  },
  {
   "cell_type": "code",
   "execution_count": 2,
   "id": "e8ff5f8d",
   "metadata": {},
   "outputs": [
    {
     "name": "stdout",
     "output_type": "stream",
     "text": [
      "re.compile('print anything')\n"
     ]
    }
   ],
   "source": [
    "import re\n",
    "x = re.compile(\"print anything\")\n",
    "type(x)\n",
    "print(x)"
   ]
  },
  {
   "cell_type": "markdown",
   "id": "a399a3e4",
   "metadata": {},
   "source": [
    "**2. Why do raw strings often appear in Regex objects?**"
   ]
  },
  {
   "cell_type": "markdown",
   "id": "8643c0c4",
   "metadata": {},
   "source": [
    "Ans: Regular expressions use the backslash character (' \\ ') to indicate special forms (Metacharacters) or to allow special characters (speical sequences) to be used without invoking their special meaning. This collides with Python’s usage of the same character for the same purpose in string literals. Hence, Raw strings are used (e.g. r\"\\n\") so that backslashes do not have to be escaped"
   ]
  },
  {
   "cell_type": "markdown",
   "id": "b3be32b7",
   "metadata": {},
   "source": [
    "**3. What is the return value of the search() method ?**"
   ]
  },
  {
   "cell_type": "markdown",
   "id": "300b9cdb",
   "metadata": {},
   "source": [
    "Ans: The return value of re.search(pattern,string) method is a match object if the pattern is observed in the string else it returns a None."
   ]
  },
  {
   "cell_type": "code",
   "execution_count": 7,
   "id": "87722923",
   "metadata": {},
   "outputs": [
    {
     "name": "stdout",
     "output_type": "stream",
     "text": [
      "Output 1: <re.Match object; span=(0, 1), match='I'>\n",
      "Output 2 : None\n"
     ]
    }
   ],
   "source": [
    "import re\n",
    "match = re.search('i','Ineuron FSDS Program', flags=re.IGNORECASE)\n",
    "print('Output 1:',match)\n",
    "match = re.search('X','Ineuron FSDS Program', flags=re.IGNORECASE)\n",
    "print('Output 2 :',match)"
   ]
  },
  {
   "cell_type": "markdown",
   "id": "4ba80b89",
   "metadata": {},
   "source": [
    "**4. From a Match item, how do you get the actual strings that match the pattern ?**"
   ]
  },
  {
   "cell_type": "markdown",
   "id": "7fa7f4e3",
   "metadata": {},
   "source": [
    "Ans: For Matched items group() methods returns actual strings that match the pattern"
   ]
  },
  {
   "cell_type": "code",
   "execution_count": 3,
   "id": "43072d25",
   "metadata": {},
   "outputs": [
    {
     "name": "stdout",
     "output_type": "stream",
     "text": [
      "Output: neuron\n"
     ]
    }
   ],
   "source": [
    "import re\n",
    "match = re.search('neuron','Ineuron FSDS Program', flags=re.IGNORECASE)\n",
    "print('Output:',match.group())"
   ]
  },
  {
   "cell_type": "markdown",
   "id": "31070741",
   "metadata": {},
   "source": [
    "**5. In the regex which created from the r'(\\d\\d\\d)-(\\d\\d\\d-\\d\\d\\d\\d)', what does group zero cover? Group 2? Group 1 ?**"
   ]
  },
  {
   "cell_type": "markdown",
   "id": "1b823933",
   "metadata": {},
   "source": [
    "Ans: In the Regex `r'(\\d\\d\\d)-(\\d\\d\\d-\\d\\d\\d\\d)'`,  the zero group covers the entire pattern match where as the first group cover `(\\d\\d\\d)` and the second group cover `(\\d\\d\\d-\\d\\d\\d\\d)`"
   ]
  },
  {
   "cell_type": "code",
   "execution_count": 4,
   "id": "a6fa5d69",
   "metadata": {},
   "outputs": [
    {
     "name": "stdout",
     "output_type": "stream",
     "text": [
      "('101', '777-3220')\n",
      "101-777-3220\n",
      "101\n",
      "777-3220\n"
     ]
    }
   ],
   "source": [
    "import re\n",
    "mynewRegex = re.compile(r'(\\d\\d\\d)-(\\d\\d\\d-\\d\\d\\d\\d)')\n",
    "mr = mynewRegex.search('My number is 101-777-3220.')\n",
    "print(mr.groups())                  # Prints all groups in a tuple format\n",
    "print(mr.group())                   # Always returns the fully matched string \n",
    "print(mr.group(1))                  # Returns the first group\n",
    "print(mr.group(2))                  # Returns the second group"
   ]
  },
  {
   "cell_type": "markdown",
   "id": "36e49e8d",
   "metadata": {},
   "source": [
    "**6. In standard expression syntax, parentheses and intervals have distinct meanings. How can you tell a regex that you want it to fit real parentheses and periods ?**"
   ]
  },
  {
   "cell_type": "markdown",
   "id": "2a4774ea",
   "metadata": {},
   "source": [
    "Ans: The `\\` `.` `\\` (and `\\`) escape characters in the raw string passed to re.compile() will match actual parenthesis characters."
   ]
  },
  {
   "cell_type": "code",
   "execution_count": 5,
   "id": "fd3387e0",
   "metadata": {},
   "outputs": [
    {
     "name": "stdout",
     "output_type": "stream",
     "text": [
      "(101) 777-3220\n"
     ]
    }
   ],
   "source": [
    "import re\n",
    "mynewRegex = re.compile(r'(\\(\\d\\d\\d\\)) (\\d\\d\\d-\\d\\d\\d\\d)')\n",
    "mr = mynewRegex.search('My number is (101) 777-3220.')\n",
    "print(mr.group())"
   ]
  },
  {
   "cell_type": "code",
   "execution_count": 6,
   "id": "ed0a0e6a",
   "metadata": {},
   "outputs": [
    {
     "name": "stdout",
     "output_type": "stream",
     "text": [
      "['415-555-4242']\n"
     ]
    }
   ],
   "source": [
    "import re\n",
    "mynewRegex = re.compile(r'\\d{3}-\\d{3}-\\d{4}')\n",
    "mr = mynewRegex.findall('My number is 415-555-4242.')\n",
    "print(mr) # Prints all groups in a tuple format"
   ]
  },
  {
   "cell_type": "markdown",
   "id": "bcd798b0",
   "metadata": {},
   "source": [
    "**8. In standard expressions, what does the | character mean ?**"
   ]
  },
  {
   "cell_type": "markdown",
   "id": "3d018e39",
   "metadata": {},
   "source": [
    "Ans: In Standard Expressions, | means OR operator."
   ]
  },
  {
   "cell_type": "markdown",
   "id": "4de37310",
   "metadata": {},
   "source": [
    "**9. In regular expressions, what does the ? character stand for ?**"
   ]
  },
  {
   "cell_type": "markdown",
   "id": "46d4de02",
   "metadata": {},
   "source": [
    "Ans: In regular Expressions, ? characters represents zero or one match of the preceeding group."
   ]
  },
  {
   "cell_type": "code",
   "execution_count": 7,
   "id": "f4ee3ad1",
   "metadata": {},
   "outputs": [
    {
     "name": "stdout",
     "output_type": "stream",
     "text": [
      "<re.Match object; span=(0, 8), match='Avengers'>\n",
      "<re.Match object; span=(0, 7), match='Avenger'>\n"
     ]
    }
   ],
   "source": [
    "#eg.\n",
    "import re\n",
    "match_1 = re.search(\"Av(en)?gers\",\"Avengers\")\n",
    "print(match_1)\n",
    "match_2 = re.search(\"Av(en)?ger\",\"Avengers returns\")\n",
    "print(match_2)"
   ]
  },
  {
   "cell_type": "markdown",
   "id": "5447fa71",
   "metadata": {},
   "source": [
    "**10.In regular expressions, what is the difference between the + and * characters ?**"
   ]
  },
  {
   "cell_type": "markdown",
   "id": "6faa1933",
   "metadata": {},
   "source": [
    "Ans: In Regular Expressions, * Represents Zero or more occurances of the preceeding group, whereas + represents one or more occurances of the preceeding group."
   ]
  },
  {
   "cell_type": "code",
   "execution_count": 8,
   "id": "b9f1284a",
   "metadata": {},
   "outputs": [
    {
     "name": "stdout",
     "output_type": "stream",
     "text": [
      "<re.Match object; span=(0, 8), match='Avengers'>\n",
      "None\n"
     ]
    }
   ],
   "source": [
    "import re\n",
    "match_1 = re.search(\"Av(en)*gers\",\"Avengers returns\")\n",
    "print(match_1)\n",
    "match_2 = re.search(\"Av(en)+ger\",\"Aveng returns\")\n",
    "print(match_2)"
   ]
  },
  {
   "cell_type": "markdown",
   "id": "f6ffc1bf",
   "metadata": {},
   "source": [
    "**11. What is the difference between {4} and {4,5} in regular expression ?**"
   ]
  },
  {
   "cell_type": "markdown",
   "id": "79c33f5f",
   "metadata": {},
   "source": [
    "Ans: {4} means that its preceeding group should repeat 4 times. where as {4,5} means that its preceeding group should repeat mininum 4 times and maximum 5 times inclusively."
   ]
  },
  {
   "cell_type": "code",
   "execution_count": 48,
   "id": "fb8db52a",
   "metadata": {},
   "outputs": [
    {
     "name": "stdout",
     "output_type": "stream",
     "text": [
      "NaNaNaNaNa\n",
      "None\n"
     ]
    }
   ],
   "source": [
    "import re\n",
    "NaRegex = re.compile(r'(Na){5}')\n",
    "mo1 = NaRegex.search('NaNaNaNaNa')\n",
    "mo2 = NaRegex.search('Na')\n",
    "print(mo1.group())\n",
    "print(mo2)"
   ]
  },
  {
   "cell_type": "markdown",
   "id": "624524d9",
   "metadata": {},
   "source": [
    "**12. What do you mean by the \\d, \\w, and \\s shorthand character classes signify in regular expressions ?**"
   ]
  },
  {
   "cell_type": "markdown",
   "id": "148db840",
   "metadata": {},
   "source": [
    "Ans: `\\d`, `\\w` and `\\s` are special sequences in regular expresssions in python:\n",
    "\n",
    "1.  `\\d` – Matches digit character equivalent to [0-9]\n",
    "\n",
    "2.  `\\w` – Matches a word character equivalent to [a-zA-Z0-9_]\n",
    "\n",
    "3.  `\\s` – Matches whitespace character (space, tab, newline, etc.)"
   ]
  },
  {
   "cell_type": "markdown",
   "id": "0a2f14c8",
   "metadata": {},
   "source": [
    "**13. What do means by \\D, \\W, and \\S shorthand character classes signify in regular expressions ?**"
   ]
  },
  {
   "cell_type": "markdown",
   "id": "486f5682",
   "metadata": {},
   "source": [
    "Ans: `\\D`, `\\W` and `\\S` are special sequences in regular expresssions in python:\n",
    "\n",
    "1.  `\\D` – Matches any non-digit character, this is equivalent to the set class [^0-9]\n",
    "\n",
    "2.  `\\W` – Matches any non-alphanumeric character equivalent to [^a-zA-Z0-9_]\n",
    "\n",
    "3.  `\\S` – Matches any non-whitespace character"
   ]
  },
  {
   "cell_type": "markdown",
   "id": "bc6db093",
   "metadata": {},
   "source": [
    "**14. What is the difference between .*? and .* ?**"
   ]
  },
  {
   "cell_type": "markdown",
   "id": "692d6247",
   "metadata": {},
   "source": [
    "Ans: . `.*` is a Greedy mode, which returns the longest string that meets the condition. \n",
    "\n",
    " `.*?` is a non-greedy mode which returns the shortest string that meets the condition."
   ]
  },
  {
   "cell_type": "markdown",
   "id": "a0d4ad2b",
   "metadata": {},
   "source": [
    "**15. What is the syntax for matching both numbers and lowercase letters with a character class?**"
   ]
  },
  {
   "cell_type": "markdown",
   "id": "e0117f77",
   "metadata": {},
   "source": [
    "Ans: The Synatax is Either [a-z0-9] or [0-9a-z]"
   ]
  },
  {
   "cell_type": "markdown",
   "id": "26d82adc",
   "metadata": {},
   "source": [
    "**16. What is the procedure for making a normal expression in regax case insensitive?**"
   ]
  },
  {
   "cell_type": "markdown",
   "id": "158a2680",
   "metadata": {},
   "source": [
    "Ans: We can pass re.IGNORECASE as a flag to make a noraml expression case insensitive"
   ]
  },
  {
   "cell_type": "markdown",
   "id": "7a049307",
   "metadata": {},
   "source": [
    "**17. What does the . character normally match? What does it match if re.DOTALL is passed as 2nd argument in re.compile() ?**"
   ]
  },
  {
   "cell_type": "markdown",
   "id": "6016534e",
   "metadata": {},
   "source": [
    "Ans: Dot . character matches everything in input except newline character . \n",
    "\n",
    "By passing re.DOTALL as a flag to re.compile(), we can make the dot character match all characters, including the newline character."
   ]
  },
  {
   "cell_type": "markdown",
   "id": "85dd60fc",
   "metadata": {},
   "source": [
    "**18. If `numReg = re.compile(r'\\d+')`, what will `numRegex.sub('X', '11 drummers, 10 pipers, five rings, 4 hen')` return ?**"
   ]
  },
  {
   "cell_type": "markdown",
   "id": "93ec4de5",
   "metadata": {},
   "source": [
    "Ans: The Ouput is `'X drummers, X pipers, five rings, X hen'`"
   ]
  },
  {
   "cell_type": "code",
   "execution_count": 9,
   "id": "ed6a69ef",
   "metadata": {},
   "outputs": [
    {
     "data": {
      "text/plain": [
       "'X books, X pens, ten keys, X car'"
      ]
     },
     "execution_count": 9,
     "metadata": {},
     "output_type": "execute_result"
    }
   ],
   "source": [
    "import re\n",
    "numReg = re.compile(r'\\d+')\n",
    "numReg.sub('X', '20 books, 3 pens, ten keys, 2 car')"
   ]
  },
  {
   "cell_type": "markdown",
   "id": "c10e492a",
   "metadata": {},
   "source": [
    "**19. What does passing `re.VERBOSE` as the 2nd argument to `re.compile()` allow to do ?**"
   ]
  },
  {
   "cell_type": "markdown",
   "id": "ea52af36",
   "metadata": {},
   "source": [
    "Ans: `re.VERBOSE` will allow to add whitespace and comments to string passed to `re.compile()`."
   ]
  },
  {
   "cell_type": "code",
   "execution_count": 10,
   "id": "c0964394",
   "metadata": {},
   "outputs": [],
   "source": [
    "# Without Using VERBOSE\n",
    "regex_email = re.compile(r'^([a-z0-9_\\.-]+)@([0-9a-z\\.-]+)\\.([a-z\\.]{2, 6})$', re.IGNORECASE)\n",
    " \n",
    "# Using VERBOSE\n",
    "regex_email = re.compile(r\"\"\"\n",
    "                            ^([a-z0-9_\\.-]+)              # local Part like username\n",
    "                            @                             # single @ sign \n",
    "                            ([0-9a-z\\.-]+)                # Domain name like google\n",
    "                            \\.                            # single Dot .\n",
    "                            ([a-z]{2,6})$                 # Top level Domain  like com/in/org\n",
    "                         \"\"\",re.VERBOSE | re.IGNORECASE)   "
   ]
  },
  {
   "cell_type": "markdown",
   "id": "68fb025b",
   "metadata": {},
   "source": [
    "**20. How would you write a regex that match a number with comma for every three digits? It must match the given following:\n",
    "\n",
    "\n",
    "'42','1,234', '6,368,745' but not the following: '12,34,567' (which has only two digits between the commas) '1234' (which lacks commas)**"
   ]
  },
  {
   "cell_type": "code",
   "execution_count": 12,
   "id": "1f412df1",
   "metadata": {},
   "outputs": [
    {
     "name": "stdout",
     "output_type": "stream",
     "text": [
      "Output: 42 ---- <re.Match object; span=(0, 2), match='42'>\n",
      "Output: 1,234 ---- <re.Match object; span=(0, 5), match='1,234'>\n",
      "Output: 6,368,745 ---- <re.Match object; span=(0, 9), match='6,368,745'>\n",
      "Output: 12,34,567 ---- None\n",
      "Output: 1234 ---- None\n"
     ]
    }
   ],
   "source": [
    "import re\n",
    "pattern = r'^\\d{1,3}(,\\d{3})*$'\n",
    "pagex = re.compile(pattern)\n",
    "for ele in ['42','1,234', '6,368,745','12,34,567','1234']:\n",
    "    print('Output:',ele, '----', pagex.search(ele))"
   ]
  },
  {
   "cell_type": "markdown",
   "id": "86f917f5",
   "metadata": {},
   "source": [
    "**21. How would you write a regex that matches the full name of someone whose last name is Watanabe? You can assume that the first name that comes before it will always be one word that begins with a capital letter. The regex must match the following:**  \n",
    "'Haruto Watanabe'  \n",
    "'Alice Watanabe'  \n",
    "'RoboCop Watanabe'  \n",
    "\n",
    "but not the following:\n",
    "\n",
    "'haruto Watanabe' (where the first name is not capitalized)  \n",
    "'Mr. Watanabe' (where the preceding word has a nonletter character)  \n",
    "'Watanabe' (which has no first name)  \n",
    "'Haruto watanabe' (where Watanabe is not capitalized) ###"
   ]
  },
  {
   "cell_type": "code",
   "execution_count": 13,
   "id": "bc40606f",
   "metadata": {},
   "outputs": [
    {
     "name": "stdout",
     "output_type": "stream",
     "text": [
      "Output:  Haruto Watanabe -> <re.Match object; span=(0, 15), match='Haruto Watanabe'>\n",
      "Output:  Alice Watanabe -> <re.Match object; span=(0, 14), match='Alice Watanabe'>\n",
      "Output:  RoboCop Watanabe -> <re.Match object; span=(4, 16), match='Cop Watanabe'>\n",
      "Output:  haruto Watanabe -> None\n",
      "Output:  Mr. Watanabe -> None\n",
      "Output:  Watanabe -> None\n",
      "Output:  Haruto watanabe -> None\n"
     ]
    }
   ],
   "source": [
    "import re\n",
    "pattern = r'[A-Z]{1}[a-z]*\\sWatanabe'\n",
    "fname = re.compile(pattern)\n",
    "for name in ['Haruto Watanabe','Alice Watanabe','RoboCop Watanabe','haruto Watanabe','Mr. Watanabe','Watanabe','Haruto watanabe']:\n",
    "    print('Output: ',name,'->',fname.search(name))"
   ]
  },
  {
   "cell_type": "markdown",
   "id": "bbb2c7dd",
   "metadata": {},
   "source": [
    "**22. How would you write a regex that matches a sentence where the first word is either Alice, Bob,or Carol; the second word is either eats, pets, or throws; the third word is apples, cats, or baseballs; and the sentence ends with a period ? This regex should be case-insensitive. It must match the following:**\n",
    "\n",
    "'Alice eats apples.'  \n",
    "'Bob pets cats.'  \n",
    "'Carol throws baseballs.'  \n",
    "'Alice throws Apples.'  \n",
    "'BOB EATS CATS.'\n",
    "\n",
    "but not the following:\n",
    "  \n",
    "'RoboCop eats apples.'  \n",
    "'ALICE THROWS FOOTBALLS.'  \n",
    "'Carol eats 7 cats.'"
   ]
  },
  {
   "cell_type": "markdown",
   "id": "3a4eaa3d",
   "metadata": {},
   "source": [
    "Ans: pattern = r'(Alice|Bob|Carol)\\s(eats|pets|throws)\\s(apples|cats|baseballs)\\.'"
   ]
  },
  {
   "cell_type": "code",
   "execution_count": 15,
   "id": "15dad025",
   "metadata": {},
   "outputs": [
    {
     "name": "stdout",
     "output_type": "stream",
     "text": [
      "Output:  Alice eats apples. -> <re.Match object; span=(0, 18), match='Alice eats apples.'>\n",
      "Output:  Bob pets cats. -> <re.Match object; span=(0, 14), match='Bob pets cats.'>\n",
      "Output:  Carol throws baseballs. -> <re.Match object; span=(0, 23), match='Carol throws baseballs.'>\n",
      "Output:  Alice throws Apples. -> <re.Match object; span=(0, 20), match='Alice throws Apples.'>\n",
      "Output:  BOB EATS CATS. -> <re.Match object; span=(0, 14), match='BOB EATS CATS.'>\n",
      "Output:  RoboCop eats apples. -> None\n",
      "Output:  ALICE THROWS FOOTBALLS. -> None\n",
      "Output:  Carol eats 7 cats. -> None\n"
     ]
    }
   ],
   "source": [
    "import re\n",
    "pattern = r'(Alice|Bob|Carol)\\s(eats|pets|throws)\\s(apples|cats|baseballs)\\.'\n",
    "casex = re.compile(pattern,re.IGNORECASE)\n",
    "for ele in ['Alice eats apples.','Bob pets cats.','Carol throws baseballs.','Alice throws Apples.','BOB EATS CATS.','RoboCop eats apples.'\n",
    ",'ALICE THROWS FOOTBALLS.','Carol eats 7 cats.']:\n",
    "    print('Output: ',ele,'->',casex.search(ele))"
   ]
  },
  {
   "cell_type": "code",
   "execution_count": null,
   "id": "4751c4c4",
   "metadata": {},
   "outputs": [],
   "source": []
  }
 ],
 "metadata": {
  "kernelspec": {
   "display_name": "Python 3",
   "language": "python",
   "name": "python3"
  },
  "language_info": {
   "codemirror_mode": {
    "name": "ipython",
    "version": 3
   },
   "file_extension": ".py",
   "mimetype": "text/x-python",
   "name": "python",
   "nbconvert_exporter": "python",
   "pygments_lexer": "ipython3",
   "version": "3.8.8"
  }
 },
 "nbformat": 4,
 "nbformat_minor": 5
}

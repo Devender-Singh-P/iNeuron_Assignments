{
 "cells": [
  {
   "cell_type": "markdown",
   "id": "42d591f6",
   "metadata": {},
   "source": [
    "**1.What exactly is [ ] ?**"
   ]
  },
  {
   "cell_type": "markdown",
   "id": "7913e157",
   "metadata": {},
   "source": [
    "**Ans:**  \n",
    "[ ] shows an empty list i.e. a list that contains no items inside it.  \n",
    "This is similar to '' which represents an empty string."
   ]
  },
  {
   "cell_type": "markdown",
   "id": "bd762649",
   "metadata": {},
   "source": [
    "**2.In a list of values stored in a variable called spam, how would you assign the value 'hello' as the third value? (Assume [2, 4, 6, 8, 10] are in spam.)**"
   ]
  },
  {
   "cell_type": "markdown",
   "id": "09acd475",
   "metadata": {},
   "source": [
    "**Ans:**  \n",
    "`spam[2]='hello'` (Lists follows 'Zero' based indexing, thus `'hello'` is assigned at third position i.e. at 2nd index )"
   ]
  },
  {
   "cell_type": "code",
   "execution_count": 1,
   "id": "914172ba",
   "metadata": {},
   "outputs": [
    {
     "name": "stdout",
     "output_type": "stream",
     "text": [
      "[2, 4, 6, 8, 10]\n",
      "[2, 4, 'hello', 8, 10]\n"
     ]
    }
   ],
   "source": [
    "spam=[2,4,6,8,10] #Original List\n",
    "print(spam)\n",
    "\n",
    "spam[2]='hello' #List uses zero based indexing\n",
    "print(spam)"
   ]
  },
  {
   "cell_type": "markdown",
   "id": "3d9430d2",
   "metadata": {},
   "source": [
    "**For Q. 3,4,5 Let's pretend the spam includes the list ['a','b','c','d'] for the next three queries.**"
   ]
  },
  {
   "cell_type": "markdown",
   "id": "af95ec44",
   "metadata": {},
   "source": [
    "**3. What is the value of spam[int(int('3'*2)//11)] ?**"
   ]
  },
  {
   "cell_type": "markdown",
   "id": "bcfde758",
   "metadata": {},
   "source": [
    "**Ans:-**  \n",
    "'d' ( '3' * 2 will give string '33', which is passed to int(), then divided by 11.   \n",
    "This eventually gives 3, spam[3] is equal to d present at 3rd index, after 0th, 1st 2nd index)"
   ]
  },
  {
   "cell_type": "code",
   "execution_count": 2,
   "id": "fd4f1259",
   "metadata": {},
   "outputs": [
    {
     "name": "stdout",
     "output_type": "stream",
     "text": [
      "spam[int(int('3'*2)//11)] gives d\n"
     ]
    }
   ],
   "source": [
    "spam=['a','b','c','d']\n",
    "print(\"spam[int(int('3'*2)//11)] gives\",spam[int(int('3'*2)//11)])"
   ]
  },
  {
   "cell_type": "markdown",
   "id": "4d8af2c8",
   "metadata": {},
   "source": [
    "**4. What is the value of spam[-1]?**"
   ]
  },
  {
   "cell_type": "markdown",
   "id": "b3974843",
   "metadata": {},
   "source": [
    "**Ans:** 'd' (This is Negative indexing, Hence spam[-1] returs 'd')"
   ]
  },
  {
   "cell_type": "code",
   "execution_count": 3,
   "id": "5655341a",
   "metadata": {},
   "outputs": [
    {
     "name": "stdout",
     "output_type": "stream",
     "text": [
      "spam[-1] gives  d\n"
     ]
    }
   ],
   "source": [
    "spam=['a','b','c','d']\n",
    "print('spam[-1] gives ',spam[-1])"
   ]
  },
  {
   "cell_type": "markdown",
   "id": "7afe1327",
   "metadata": {},
   "source": [
    "**5. What is the value of spam[:2] ?**"
   ]
  },
  {
   "cell_type": "markdown",
   "id": "3a181983",
   "metadata": {},
   "source": [
    "**Ans:** spam[:2] returns all elements in the list spam from 0 to 2 excluding 2"
   ]
  },
  {
   "cell_type": "code",
   "execution_count": 4,
   "id": "e9208c0a",
   "metadata": {},
   "outputs": [
    {
     "name": "stdout",
     "output_type": "stream",
     "text": [
      "['a', 'b', 'c', 'd']\n",
      "['a', 'b']\n"
     ]
    }
   ],
   "source": [
    "print(spam)\n",
    "print(spam[:2])"
   ]
  },
  {
   "cell_type": "markdown",
   "id": "6b7b41dd",
   "metadata": {},
   "source": [
    "**For Q. 6,7,8 Let's pretend bacon has the list [3.14,'cat',11,'cat',True] for the next three questions.**"
   ]
  },
  {
   "cell_type": "markdown",
   "id": "76edc702",
   "metadata": {},
   "source": [
    "**6. What is the value of bacon.index('cat')?**"
   ]
  },
  {
   "cell_type": "markdown",
   "id": "943436b2",
   "metadata": {},
   "source": [
    "**Ans:** The value of bacon.index('cat') is 1 (Note: index method returns the index of first occuerence of 'cat')"
   ]
  },
  {
   "cell_type": "code",
   "execution_count": 5,
   "id": "ea46e45c",
   "metadata": {},
   "outputs": [
    {
     "name": "stdout",
     "output_type": "stream",
     "text": [
      "bacon.index('cat') gives 1\n"
     ]
    }
   ],
   "source": [
    "bacon=[3.14,'cat',11,'cat',True]\n",
    "print(\"bacon.index('cat') gives\",bacon.index('cat'))"
   ]
  },
  {
   "cell_type": "markdown",
   "id": "cff5d6bb",
   "metadata": {},
   "source": [
    "**7. How does bacon.append(99) change the look of the list value in bacon ?**"
   ]
  },
  {
   "cell_type": "markdown",
   "id": "4fd53a77",
   "metadata": {},
   "source": [
    "**Ans:** The append method adds new elements to the end of the list"
   ]
  },
  {
   "cell_type": "code",
   "execution_count": 6,
   "id": "ad99823f",
   "metadata": {},
   "outputs": [
    {
     "name": "stdout",
     "output_type": "stream",
     "text": [
      "[3.14, 'cat', 11, 'cat', True]\n",
      "[3.14, 'cat', 11, 'cat', True, 99]\n"
     ]
    }
   ],
   "source": [
    "print(bacon)\n",
    "bacon.append(99) # appends 99 to the end of the list\n",
    "print(bacon)"
   ]
  },
  {
   "cell_type": "markdown",
   "id": "46564006",
   "metadata": {},
   "source": [
    "**8. How does bacon.remove('cat') change the look of the list in bacon ?**"
   ]
  },
  {
   "cell_type": "code",
   "execution_count": 7,
   "id": "5a4cb8aa",
   "metadata": {},
   "outputs": [
    {
     "name": "stdout",
     "output_type": "stream",
     "text": [
      "[3.14, 'cat', 11, 'cat', True, 99]\n",
      "[3.14, 11, 'cat', True, 99]\n"
     ]
    }
   ],
   "source": [
    "print(bacon)\n",
    "bacon.remove('cat')\n",
    "print(bacon)\n",
    "\n",
    "#First instance of 'cat' is removed"
   ]
  },
  {
   "cell_type": "raw",
   "id": "59438263",
   "metadata": {},
   "source": [
    "9.what are the list concatenation and list replication operations?\n"
   ]
  },
  {
   "cell_type": "markdown",
   "id": "236a81b9",
   "metadata": {},
   "source": [
    "Ans: The operator for list concatenation is + , while the operator for replication is * . (same as for strings.)"
   ]
  },
  {
   "cell_type": "code",
   "execution_count": 8,
   "id": "71cffd31",
   "metadata": {},
   "outputs": [
    {
     "name": "stdout",
     "output_type": "stream",
     "text": [
      "['Python', 'ML', 'DL', 'BI', 'Tableau', 'SQL']\n",
      "['BI', 'Tableau', 'SQL', 'BI', 'Tableau', 'SQL']\n"
     ]
    }
   ],
   "source": [
    "list_1 = ['Python','ML','DL']\n",
    "list_2 = ['BI','Tableau','SQL']\n",
    "print(list_1 + list_2) # List Concatenation\n",
    "print(list_2*2)        # List Replication"
   ]
  },
  {
   "cell_type": "markdown",
   "id": "3bd3b6e8",
   "metadata": {},
   "source": [
    "**10.what is the difference between the list method append() and insert()?**"
   ]
  },
  {
   "cell_type": "markdown",
   "id": "dbc4e673",
   "metadata": {},
   "source": [
    " `append()` will add values only to the end of a list, `insert()` can add them anywhere in the list."
   ]
  },
  {
   "cell_type": "code",
   "execution_count": 9,
   "id": "70170659",
   "metadata": {},
   "outputs": [
    {
     "name": "stdout",
     "output_type": "stream",
     "text": [
      "[1, 2, 3, 4, 5, 20]\n",
      "[1, 2, 'Python', 3, 4, 5, 20]\n"
     ]
    }
   ],
   "source": [
    "list = [1,2,3,4,5]\n",
    "list.append(20)\n",
    "print(list)\n",
    "\n",
    "list.insert(2,'Python')\n",
    "print(list)"
   ]
  },
  {
   "cell_type": "markdown",
   "id": "5ab30889",
   "metadata": {},
   "source": [
    "**11. What are the two methods for removing items from a list?"
   ]
  },
  {
   "cell_type": "markdown",
   "id": "0fe012ae",
   "metadata": {},
   "source": [
    " `del()` and `remove()` are the two methods for removing items from a list"
   ]
  },
  {
   "cell_type": "markdown",
   "id": "5a8a51e5",
   "metadata": {},
   "source": [
    "**12. Describe how list values and string values are identical.**"
   ]
  },
  {
   "cell_type": "markdown",
   "id": "1970bd24",
   "metadata": {},
   "source": [
    " Both `lists` and `strings` can be passed to `len()` function, have indexes and slices, be used in for loops, be concatenated or replicated, and be used with the in and not in operators."
   ]
  },
  {
   "cell_type": "markdown",
   "id": "c9755143",
   "metadata": {},
   "source": [
    "**13. What's the difference between tuples and lists?**"
   ]
  },
  {
   "cell_type": "markdown",
   "id": "88659f60",
   "metadata": {},
   "source": [
    "Lists are Mutable, Indexable and Slicable. they can have values added, removed, or changed.   \n",
    "Tuples are Immutable but Indexable and Slicable. the tuple values cannot be changed at all.   \n",
    "Also, tuples are represented using parentheses, (), while lists use the square brackets, []."
   ]
  },
  {
   "cell_type": "markdown",
   "id": "72951fda",
   "metadata": {},
   "source": [
    "**14. How do you type a tuple value that only contains the integer 42?**"
   ]
  },
  {
   "cell_type": "markdown",
   "id": "854d5669",
   "metadata": {},
   "source": [
    "**Ans:**  \n",
    "(42,) (The trailing comma is mandatory. otherwise it'll considered as an 'int' by python Interpreter)"
   ]
  },
  {
   "cell_type": "code",
   "execution_count": 10,
   "id": "1ed23ef3",
   "metadata": {},
   "outputs": [
    {
     "name": "stdout",
     "output_type": "stream",
     "text": [
      "<class 'int'>\n",
      "<class 'tuple'>\n"
     ]
    }
   ],
   "source": [
    "t_1=(42)\n",
    "t_2=(42,)\n",
    "print(type(t_1))\n",
    "print(type(t_2))"
   ]
  },
  {
   "cell_type": "markdown",
   "id": "fe0e4037",
   "metadata": {},
   "source": [
    "**15. How do you get a list value's tuple form? How do you get a tuple value's list form?**"
   ]
  },
  {
   "cell_type": "markdown",
   "id": "433d648f",
   "metadata": {},
   "source": [
    "Ans: To convert a list to tuple and vice versa,the tuple() and list() functions respectively are used."
   ]
  },
  {
   "cell_type": "markdown",
   "id": "43dea46c",
   "metadata": {},
   "source": [
    "**16. Variables that \"contain\" list values are not necessarily lists themselves. Instead, what do they contain?**"
   ]
  },
  {
   "cell_type": "markdown",
   "id": "b1ef2b61",
   "metadata": {},
   "source": [
    "Ans:- They contain references to list values."
   ]
  },
  {
   "cell_type": "markdown",
   "id": "1c935e87",
   "metadata": {},
   "source": [
    "**17. How do you distinguish between copy.copy() and copy.deepcopy()?**"
   ]
  },
  {
   "cell_type": "markdown",
   "id": "91975aee",
   "metadata": {},
   "source": [
    "Ans: The copy.copy() function will do a shallow copy of a list, while the copy.deepcopy() function will do a deep copy of a list.  \n",
    "That is, only copy.deepcopy() will duplicate any lists inside the list."
   ]
  }
 ],
 "metadata": {
  "kernelspec": {
   "display_name": "Python 3",
   "language": "python",
   "name": "python3"
  },
  "language_info": {
   "codemirror_mode": {
    "name": "ipython",
    "version": 3
   },
   "file_extension": ".py",
   "mimetype": "text/x-python",
   "name": "python",
   "nbconvert_exporter": "python",
   "pygments_lexer": "ipython3",
   "version": "3.8.8"
  }
 },
 "nbformat": 4,
 "nbformat_minor": 5
}

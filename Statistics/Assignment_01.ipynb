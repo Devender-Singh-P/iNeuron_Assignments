{
 "cells": [
  {
   "cell_type": "markdown",
   "metadata": {},
   "source": [
    "**1. Harvard Law School courses often have assigned seating to facilitate the “Socratic method.” Suppose that there are 100 first year Harvard Law students, and each takes two courses: Torts and Contracts. Both are held in the same lecture hall (which has 100 seats), and the seating is uniformly random and independent for the two courses. \n",
    "(a) Find the probability that no one has the same seat for both courses (exactly; you should   leave your answer as a sum). \n",
    "(b) Find a simple but accurate approximation to the probability that no one has the same seat for both courses. \n",
    "(c) Find a simple but accurate approximation to the probability that at least two students have the same seat for both courses.**"
   ]
  },
  {
   "cell_type": "markdown",
   "metadata": {},
   "source": [
    "![Alt text](Images/01_1.png)\n",
    "\n",
    "![Alt text](Images/01_2.png)"
   ]
  },
  {
   "cell_type": "markdown",
   "metadata": {},
   "source": [
    "**2. There are 100 passengers lined up to board an airplane with 100 seats (with each seat assigned to one of the passengers). The first passenger in line crazily decides to sit in a randomly chosen seat (with all seats equally likely). Each subsequent passenger takes his or her assigned seat if available, and otherwise sits in a random available seat. What is the probability that the last passenger in line gets to sit in his or her assigned seat?**"
   ]
  },
  {
   "cell_type": "markdown",
   "metadata": {},
   "source": [
    "Hint: Call the seat assigned to the jth passenger in line “seat j” (regardless of whether\n",
    "the airline calls it seat 23A or whatever). What are the possibilities for which seats\n",
    "are available to the last passenger in line, and what is the probability of each of these\n",
    "possibilities?\n",
    "\n",
    "Solution: The seat for the last passenger is either seat 1 or seat 100; for example, seat\n",
    "42 can’t be available to the last passenger since the 42nd passenger in line would have\n",
    "sat there if possible. Seat 1 and seat 100 are equally likely to be available to the last\n",
    "passenger, since the previous 99 passengers view these two seats symmetrically. So the\n",
    "probability that the last passenger gets seat 100 is 1/2."
   ]
  }
 ],
 "metadata": {
  "kernelspec": {
   "display_name": "Python 3.10.6 64-bit",
   "language": "python",
   "name": "python3"
  },
  "language_info": {
   "name": "python",
   "version": "3.10.6"
  },
  "orig_nbformat": 4,
  "vscode": {
   "interpreter": {
    "hash": "916dbcbb3f70747c44a77c7bcd40155683ae19c65e1c03b4aa3499c5328201f1"
   }
  }
 },
 "nbformat": 4,
 "nbformat_minor": 2
}
